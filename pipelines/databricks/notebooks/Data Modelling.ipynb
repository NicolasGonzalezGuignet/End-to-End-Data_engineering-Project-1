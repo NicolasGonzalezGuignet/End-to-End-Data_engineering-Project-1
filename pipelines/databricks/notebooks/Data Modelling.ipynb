{
 "cells": [
  {
   "cell_type": "code",
   "execution_count": 0,
   "metadata": {
    "application/vnd.databricks.v1+cell": {
     "cellMetadata": {
      "byteLimit": 2048000,
      "rowLimit": 10000
     },
     "inputWidgets": {},
     "nuid": "fb848ca6-b3f2-4859-b8ac-cbcbd1a964c9",
     "showTitle": false,
     "tableResultSettingsMap": {},
     "title": ""
    }
   },
   "outputs": [
    {
     "name": "stdout",
     "output_type": "stream",
     "text": [
      "El punto /mnt/silver ya está montado\n"
     ]
    }
   ],
   "source": [
    "#config rápida\n",
    "account_name = \"datalakeprojectrebrickab\"\n",
    "container_name = \"silver\"\n",
    "account_key = \"\"\n",
    "\n",
    "mount_point = f\"/mnt/{container_name}\"\n",
    "\n",
    "if not any(mount.mountPoint == mount_point for mount in dbutils.fs.mounts()):\n",
    "    dbutils.fs.mount(\n",
    "        source = f\"wasbs://{container_name}@{account_name}.blob.core.windows.net\",\n",
    "        mount_point = mount_point,\n",
    "        extra_configs = {f\"fs.azure.account.key.{account_name}.blob.core.windows.net\": account_key}\n",
    "    )\n",
    "    print(\"Montaje realizado exitosamente\")\n",
    "else:\n",
    "    print(f\"El punto {mount_point} ya está montado\")"
   ]
  },
  {
   "cell_type": "markdown",
   "metadata": {
    "application/vnd.databricks.v1+cell": {
     "cellMetadata": {},
     "inputWidgets": {},
     "nuid": "3473bbdb-ecc0-44d9-909b-9a240d43da48",
     "showTitle": false,
     "tableResultSettingsMap": {},
     "title": ""
    }
   },
   "source": [
    "#### Ingesta de tablas a utilizar"
   ]
  },
  {
   "cell_type": "code",
   "execution_count": 0,
   "metadata": {
    "application/vnd.databricks.v1+cell": {
     "cellMetadata": {
      "byteLimit": 2048000,
      "rowLimit": 10000
     },
     "inputWidgets": {},
     "nuid": "3f8fb545-b3e2-40bb-9913-56c34f7d3b4a",
     "showTitle": false,
     "tableResultSettingsMap": {},
     "title": ""
    }
   },
   "outputs": [],
   "source": [
    "list_names =[]\n",
    "for f in dbutils.fs.ls(\"/mnt/silver/rebrickable/LEGO_Catalog_Database_cleaned/\"):\n",
    "    list_names.append(f.name)\n",
    "\n",
    "list_names1 =[]\n",
    "for f in dbutils.fs.ls(\"/mnt/silver/rebrickable/oltp_db_cleaned/\"):\n",
    "    list_names1.append(f.name)"
   ]
  },
  {
   "cell_type": "code",
   "execution_count": 0,
   "metadata": {
    "application/vnd.databricks.v1+cell": {
     "cellMetadata": {
      "byteLimit": 2048000,
      "rowLimit": 10000
     },
     "inputWidgets": {},
     "nuid": "4d18979c-4d7f-4791-8575-323aedee1eac",
     "showTitle": false,
     "tableResultSettingsMap": {},
     "title": ""
    }
   },
   "outputs": [],
   "source": [
    "for f in list_names:\n",
    "\n",
    "    delta_path = f\"/mnt/silver/rebrickable/LEGO_Catalog_Database_cleaned/{f}\"\n",
    "\n",
    "    delta_df = spark.read.format(\"delta\").load(delta_path)\n",
    "\n",
    "    delta_df.createOrReplaceTempView(f\"{f.rstrip('/')}\")\n",
    "\n",
    "for f in list_names1:\n",
    "\n",
    "    delta_path = f\"/mnt/silver/rebrickable/oltp_db_cleaned/{f}\"\n",
    "\n",
    "    delta_df = spark.read.format(\"delta\").load(delta_path)\n",
    "\n",
    "    delta_df.createOrReplaceTempView(f\"{f.rstrip('/').replace('dbo.','')}\")"
   ]
  },
  {
   "cell_type": "code",
   "execution_count": 0,
   "metadata": {
    "application/vnd.databricks.v1+cell": {
     "cellMetadata": {
      "byteLimit": 2048000,
      "rowLimit": 10000
     },
     "inputWidgets": {},
     "nuid": "838fa393-afd9-4bec-a47b-fceecd75a3c0",
     "showTitle": false,
     "tableResultSettingsMap": {},
     "title": ""
    }
   },
   "outputs": [
    {
     "data": {
      "text/plain": [
       "DataFrame[]"
      ]
     },
     "execution_count": 3,
     "metadata": {},
     "output_type": "execute_result"
    }
   ],
   "source": [
    "spark.sql(f\"\"\"CREATE DATABASE IF NOT EXISTS gold\"\"\")"
   ]
  },
  {
   "cell_type": "code",
   "execution_count": 0,
   "metadata": {
    "application/vnd.databricks.v1+cell": {
     "cellMetadata": {
      "byteLimit": 2048000,
      "implicitDf": true,
      "rowLimit": 10000
     },
     "inputWidgets": {},
     "nuid": "1d98de0b-a046-4bbe-8973-ba386655dc67",
     "showTitle": false,
     "tableResultSettingsMap": {},
     "title": ""
    }
   },
   "outputs": [
    {
     "data": {
      "text/html": [
       "<style scoped>\n",
       "  .table-result-container {\n",
       "    max-height: 300px;\n",
       "    overflow: auto;\n",
       "  }\n",
       "  table, th, td {\n",
       "    border: 1px solid black;\n",
       "    border-collapse: collapse;\n",
       "  }\n",
       "  th, td {\n",
       "    padding: 5px;\n",
       "  }\n",
       "  th {\n",
       "    text-align: left;\n",
       "  }\n",
       "</style><div class='table-result-container'><table class='table-result'><thead style='background-color: white'><tr><th>num_affected_rows</th><th>num_inserted_rows</th></tr></thead><tbody></tbody></table></div>"
      ]
     },
     "metadata": {
      "application/vnd.databricks.v1+output": {
       "addedWidgets": {},
       "aggData": [],
       "aggError": "",
       "aggOverflow": false,
       "aggSchema": [],
       "aggSeriesLimitReached": false,
       "aggType": "",
       "arguments": {},
       "columnCustomDisplayInfos": {},
       "data": [],
       "datasetInfos": [],
       "dbfsResultPath": null,
       "isJsonSchema": true,
       "metadata": {
        "createTempViewForImplicitDf": true,
        "dataframeName": "_sqldf",
        "executionCount": 4
       },
       "overflow": false,
       "plotOptions": {
        "customPlotOptions": {},
        "displayType": "table",
        "pivotAggregation": null,
        "pivotColumns": null,
        "xColumns": null,
        "yColumns": null
       },
       "removedWidgets": [],
       "schema": [
        {
         "metadata": "{}",
         "name": "num_affected_rows",
         "type": "\"long\""
        },
        {
         "metadata": "{}",
         "name": "num_inserted_rows",
         "type": "\"long\""
        }
       ],
       "type": "table"
      }
     },
     "output_type": "display_data"
    }
   ],
   "source": [
    "%sql\n",
    "create or replace table gold.dim_set as (\n",
    "select s.set_num as set_id, s.name as set_name, s.year, s.num_parts, t.name as theme_name\n",
    "from sets s\n",
    "INNER JOIN themes t ON s.theme_id = t.id\n",
    ")"
   ]
  },
  {
   "cell_type": "code",
   "execution_count": 0,
   "metadata": {
    "application/vnd.databricks.v1+cell": {
     "cellMetadata": {
      "byteLimit": 2048000,
      "implicitDf": true,
      "rowLimit": 10000
     },
     "inputWidgets": {},
     "nuid": "18353ca1-f7c3-436c-977a-266d8fe71da6",
     "showTitle": false,
     "tableResultSettingsMap": {},
     "title": ""
    }
   },
   "outputs": [
    {
     "data": {
      "text/html": [
       "<style scoped>\n",
       "  .table-result-container {\n",
       "    max-height: 300px;\n",
       "    overflow: auto;\n",
       "  }\n",
       "  table, th, td {\n",
       "    border: 1px solid black;\n",
       "    border-collapse: collapse;\n",
       "  }\n",
       "  th, td {\n",
       "    padding: 5px;\n",
       "  }\n",
       "  th {\n",
       "    text-align: left;\n",
       "  }\n",
       "</style><div class='table-result-container'><table class='table-result'><thead style='background-color: white'><tr><th>num_affected_rows</th><th>num_inserted_rows</th></tr></thead><tbody></tbody></table></div>"
      ]
     },
     "metadata": {
      "application/vnd.databricks.v1+output": {
       "addedWidgets": {},
       "aggData": [],
       "aggError": "",
       "aggOverflow": false,
       "aggSchema": [],
       "aggSeriesLimitReached": false,
       "aggType": "",
       "arguments": {},
       "columnCustomDisplayInfos": {},
       "data": [],
       "datasetInfos": [],
       "dbfsResultPath": null,
       "isJsonSchema": true,
       "metadata": {
        "createTempViewForImplicitDf": true,
        "dataframeName": "_sqldf",
        "executionCount": 5
       },
       "overflow": false,
       "plotOptions": {
        "customPlotOptions": {},
        "displayType": "table",
        "pivotAggregation": null,
        "pivotColumns": null,
        "xColumns": null,
        "yColumns": null
       },
       "removedWidgets": [],
       "schema": [
        {
         "metadata": "{}",
         "name": "num_affected_rows",
         "type": "\"long\""
        },
        {
         "metadata": "{}",
         "name": "num_inserted_rows",
         "type": "\"long\""
        }
       ],
       "type": "table"
      }
     },
     "output_type": "display_data"
    }
   ],
   "source": [
    "%sql\n",
    "create or replace table gold.dim_user as (\n",
    "select *\n",
    "from users\n",
    ")"
   ]
  },
  {
   "cell_type": "code",
   "execution_count": 0,
   "metadata": {
    "application/vnd.databricks.v1+cell": {
     "cellMetadata": {
      "byteLimit": 2048000,
      "implicitDf": true,
      "rowLimit": 10000
     },
     "inputWidgets": {},
     "nuid": "93f8f88a-c11e-4365-a5c7-26b211488c67",
     "showTitle": false,
     "tableResultSettingsMap": {},
     "title": ""
    }
   },
   "outputs": [
    {
     "data": {
      "text/html": [
       "<style scoped>\n",
       "  .table-result-container {\n",
       "    max-height: 300px;\n",
       "    overflow: auto;\n",
       "  }\n",
       "  table, th, td {\n",
       "    border: 1px solid black;\n",
       "    border-collapse: collapse;\n",
       "  }\n",
       "  th, td {\n",
       "    padding: 5px;\n",
       "  }\n",
       "  th {\n",
       "    text-align: left;\n",
       "  }\n",
       "</style><div class='table-result-container'><table class='table-result'><thead style='background-color: white'><tr></tr></thead><tbody></tbody></table></div>"
      ]
     },
     "metadata": {
      "application/vnd.databricks.v1+output": {
       "addedWidgets": {},
       "aggData": [],
       "aggError": "",
       "aggOverflow": false,
       "aggSchema": [],
       "aggSeriesLimitReached": false,
       "aggType": "",
       "arguments": {},
       "columnCustomDisplayInfos": {},
       "data": [],
       "datasetInfos": [],
       "dbfsResultPath": null,
       "isJsonSchema": true,
       "metadata": {
        "dataframeName": null
       },
       "overflow": false,
       "plotOptions": {
        "customPlotOptions": {},
        "displayType": "table",
        "pivotAggregation": null,
        "pivotColumns": null,
        "xColumns": null,
        "yColumns": null
       },
       "removedWidgets": [],
       "schema": [],
       "type": "table"
      }
     },
     "output_type": "display_data"
    }
   ],
   "source": [
    "%sql\n",
    "CREATE OR REPLACE TABLE gold.dim_date (\n",
    "  date_id INT PRIMARY KEY,\n",
    "  date DATE NOT NULL,\n",
    "  year INT NOT NULL,\n",
    "  quarter INT NOT NULL,\n",
    "  month INT NOT NULL,\n",
    "  day INT NOT NULL,\n",
    "  weekday INT NOT NULL,\n",
    "  is_weekend INT NOT NULL COMMENT '1 for weekend, 0 for weekday'\n",
    ");"
   ]
  },
  {
   "cell_type": "code",
   "execution_count": 0,
   "metadata": {
    "application/vnd.databricks.v1+cell": {
     "cellMetadata": {
      "byteLimit": 2048000,
      "rowLimit": 10000
     },
     "inputWidgets": {},
     "nuid": "c6479c9f-731d-48fe-9c20-d4b08854c507",
     "showTitle": false,
     "tableResultSettingsMap": {},
     "title": ""
    }
   },
   "outputs": [],
   "source": [
    "from datetime import datetime, timedelta\n",
    "from pyspark.sql.types import *\n",
    "\n",
    "start_date = datetime(2024, 1, 1)\n",
    "end_date = datetime(2026, 12, 31)\n",
    "\n",
    "dates = []\n",
    "current_date = start_date\n",
    "date_id = 1\n",
    "\n",
    "while current_date <= end_date:\n",
    "    dates.append((\n",
    "        date_id,\n",
    "        current_date.date(),\n",
    "        current_date.year,\n",
    "        (current_date.month - 1) // 3 + 1,\n",
    "        current_date.month,\n",
    "        current_date.day,\n",
    "        current_date.weekday(),\n",
    "        1 if current_date.weekday() in [5, 6] else 0  # 5=Saturday, 6=Sunday\n",
    "    ))\n",
    "    current_date += timedelta(days=1)\n",
    "    date_id += 1\n",
    "\n",
    "schema = StructType([\n",
    "    StructField(\"date_id\", IntegerType(), False),\n",
    "    StructField(\"date\", DateType(), False),\n",
    "    StructField(\"year\", IntegerType(), False),\n",
    "    StructField(\"quarter\", IntegerType(), False),\n",
    "    StructField(\"month\", IntegerType(), False),\n",
    "    StructField(\"day\", IntegerType(), False),\n",
    "    StructField(\"weekday\",IntegerType(), False),\n",
    "    StructField(\"is_weekend\", IntegerType(), False)\n",
    "])\n",
    "\n",
    "df = spark.createDataFrame(dates, schema)\n",
    "\n",
    "df.createOrReplaceTempView(\"dim_date\")"
   ]
  },
  {
   "cell_type": "code",
   "execution_count": 0,
   "metadata": {
    "application/vnd.databricks.v1+cell": {
     "cellMetadata": {
      "byteLimit": 2048000,
      "implicitDf": true,
      "rowLimit": 10000
     },
     "inputWidgets": {},
     "nuid": "3e9a0f50-01c5-4fd4-bfed-44f1cd318fec",
     "showTitle": false,
     "tableResultSettingsMap": {},
     "title": ""
    }
   },
   "outputs": [
    {
     "data": {
      "text/html": [
       "<style scoped>\n",
       "  .table-result-container {\n",
       "    max-height: 300px;\n",
       "    overflow: auto;\n",
       "  }\n",
       "  table, th, td {\n",
       "    border: 1px solid black;\n",
       "    border-collapse: collapse;\n",
       "  }\n",
       "  th, td {\n",
       "    padding: 5px;\n",
       "  }\n",
       "  th {\n",
       "    text-align: left;\n",
       "  }\n",
       "</style><div class='table-result-container'><table class='table-result'><thead style='background-color: white'><tr><th>num_affected_rows</th><th>num_inserted_rows</th></tr></thead><tbody><tr><td>1095</td><td>1095</td></tr></tbody></table></div>"
      ]
     },
     "metadata": {
      "application/vnd.databricks.v1+output": {
       "addedWidgets": {},
       "aggData": [],
       "aggError": "",
       "aggOverflow": false,
       "aggSchema": [],
       "aggSeriesLimitReached": false,
       "aggType": "",
       "arguments": {},
       "columnCustomDisplayInfos": {},
       "data": [
        [
         1095,
         1095
        ]
       ],
       "datasetInfos": [],
       "dbfsResultPath": null,
       "isJsonSchema": true,
       "metadata": {
        "createTempViewForImplicitDf": true,
        "dataframeName": "_sqldf",
        "executionCount": 7
       },
       "overflow": false,
       "plotOptions": {
        "customPlotOptions": {},
        "displayType": "table",
        "pivotAggregation": null,
        "pivotColumns": null,
        "xColumns": null,
        "yColumns": null
       },
       "removedWidgets": [],
       "schema": [
        {
         "metadata": "{}",
         "name": "num_affected_rows",
         "type": "\"long\""
        },
        {
         "metadata": "{}",
         "name": "num_inserted_rows",
         "type": "\"long\""
        }
       ],
       "type": "table"
      }
     },
     "output_type": "display_data"
    }
   ],
   "source": [
    "%sql\n",
    "insert into gold.dim_date select * from dim_date"
   ]
  },
  {
   "cell_type": "code",
   "execution_count": 0,
   "metadata": {
    "application/vnd.databricks.v1+cell": {
     "cellMetadata": {
      "byteLimit": 2048000,
      "implicitDf": true,
      "rowLimit": 10000
     },
     "inputWidgets": {},
     "nuid": "0a9094d4-bb17-450f-9dff-b8d8f129a9b2",
     "showTitle": false,
     "tableResultSettingsMap": {},
     "title": ""
    }
   },
   "outputs": [
    {
     "data": {
      "text/html": [
       "<style scoped>\n",
       "  .table-result-container {\n",
       "    max-height: 300px;\n",
       "    overflow: auto;\n",
       "  }\n",
       "  table, th, td {\n",
       "    border: 1px solid black;\n",
       "    border-collapse: collapse;\n",
       "  }\n",
       "  th, td {\n",
       "    padding: 5px;\n",
       "  }\n",
       "  th {\n",
       "    text-align: left;\n",
       "  }\n",
       "</style><div class='table-result-container'><table class='table-result'><thead style='background-color: white'><tr><th>num_affected_rows</th><th>num_inserted_rows</th></tr></thead><tbody></tbody></table></div>"
      ]
     },
     "metadata": {
      "application/vnd.databricks.v1+output": {
       "addedWidgets": {},
       "aggData": [],
       "aggError": "",
       "aggOverflow": false,
       "aggSchema": [],
       "aggSeriesLimitReached": false,
       "aggType": "",
       "arguments": {},
       "columnCustomDisplayInfos": {},
       "data": [],
       "datasetInfos": [],
       "dbfsResultPath": null,
       "isJsonSchema": true,
       "metadata": {
        "createTempViewForImplicitDf": true,
        "dataframeName": "_sqldf",
        "executionCount": 9
       },
       "overflow": false,
       "plotOptions": {
        "customPlotOptions": {},
        "displayType": "table",
        "pivotAggregation": null,
        "pivotColumns": null,
        "xColumns": null,
        "yColumns": null
       },
       "removedWidgets": [],
       "schema": [
        {
         "metadata": "{}",
         "name": "num_affected_rows",
         "type": "\"long\""
        },
        {
         "metadata": "{}",
         "name": "num_inserted_rows",
         "type": "\"long\""
        }
       ],
       "type": "table"
      }
     },
     "output_type": "display_data"
    }
   ],
   "source": [
    "%sql\n",
    "CREATE OR REPLACE TABLE gold.fact_orders AS (\n",
    "  WITH order_details_with_date AS (\n",
    "    SELECT od.*, dd.date_id\n",
    "    FROM order_details od\n",
    "    INNER JOIN dim_date dd ON od.order_date = dd.date\n",
    "  ),\n",
    "  orders_with_set AS (\n",
    "    SELECT o.order_id, o.user_id, odwd.set_num AS set_id, odwd.date_id, odwd.quantity, odwd.price, s.city_ship\n",
    "    FROM orders o\n",
    "    INNER JOIN order_details_with_date odwd ON o.order_id = odwd.order_id\n",
    "    INNER JOIN shipments s ON o.order_id = s.order_id\n",
    "  )\n",
    "  select order_id,user_id,set_id,date_id,price,quantity,city_ship from orders_with_set)"
   ]
  },
  {
   "cell_type": "code",
   "execution_count": 0,
   "metadata": {
    "application/vnd.databricks.v1+cell": {
     "cellMetadata": {
      "byteLimit": 2048000,
      "implicitDf": true,
      "rowLimit": 10000
     },
     "inputWidgets": {},
     "nuid": "f85f5351-6860-40f9-822b-a8328d00c9c9",
     "showTitle": false,
     "tableResultSettingsMap": {},
     "title": ""
    }
   },
   "outputs": [
    {
     "data": {
      "text/html": [
       "<style scoped>\n",
       "  .table-result-container {\n",
       "    max-height: 300px;\n",
       "    overflow: auto;\n",
       "  }\n",
       "  table, th, td {\n",
       "    border: 1px solid black;\n",
       "    border-collapse: collapse;\n",
       "  }\n",
       "  th, td {\n",
       "    padding: 5px;\n",
       "  }\n",
       "  th {\n",
       "    text-align: left;\n",
       "  }\n",
       "</style><div class='table-result-container'><table class='table-result'><thead style='background-color: white'><tr><th>order_id</th><th>user_id</th><th>set_id</th><th>date_id</th><th>price</th><th>quantity</th><th>city_ship</th></tr></thead><tbody><tr><td>ORDER-27D9FE</td><td>USER-D1197C</td><td>065-1</td><td>93</td><td>15.68</td><td>8</td><td>Houston</td></tr><tr><td>ORDER-D2902C</td><td>USER-1B9A94</td><td>21000-1</td><td>93</td><td>53.97</td><td>1</td><td>New York</td></tr><tr><td>ORDER-CFE157</td><td>USER-7E2207</td><td>5008162-1</td><td>93</td><td>75.27</td><td>7</td><td>Houston</td></tr><tr><td>ORDER-684537</td><td>USER-2993B6</td><td>10701-1</td><td>93</td><td>53.2</td><td>9</td><td>Houston</td></tr><tr><td>ORDER-684537</td><td>USER-2993B6</td><td>10701-1</td><td>93</td><td>53.2</td><td>9</td><td>Phoenix</td></tr><tr><td>ORDER-387E6A</td><td>USER-AC3AF3</td><td>7511-1</td><td>93</td><td>47.51</td><td>4</td><td>Chicago</td></tr><tr><td>ORDER-387E6A</td><td>USER-AC3AF3</td><td>7511-1</td><td>93</td><td>47.51</td><td>4</td><td>Houston</td></tr><tr><td>ORDER-387E6A</td><td>USER-AC3AF3</td><td>7511-1</td><td>93</td><td>47.51</td><td>4</td><td>Houston</td></tr><tr><td>ORDER-387E6A</td><td>USER-AC3AF3</td><td>7511-1</td><td>93</td><td>47.51</td><td>4</td><td>Chicago</td></tr><tr><td>ORDER-A91A40</td><td>USER-F97B28</td><td>5007392-1</td><td>93</td><td>62.38</td><td>4</td><td>Houston</td></tr><tr><td>ORDER-73DA94</td><td>USER-E399BE</td><td>10059-1</td><td>93</td><td>94.62</td><td>8</td><td>Houston</td></tr><tr><td>ORDER-73DA94</td><td>USER-E399BE</td><td>10059-1</td><td>93</td><td>94.62</td><td>8</td><td>New York</td></tr><tr><td>ORDER-182C14</td><td>USER-4D82A0</td><td>951178-1</td><td>93</td><td>92.58</td><td>2</td><td>Los Angeles</td></tr><tr><td>ORDER-A4FA3D</td><td>USER-AD8814</td><td>21344-1</td><td>93</td><td>40.95</td><td>1</td><td>Houston</td></tr><tr><td>ORDER-FA5407</td><td>USER-8F1D44</td><td>5007877-1</td><td>93</td><td>25.7</td><td>9</td><td>Houston</td></tr><tr><td>ORDER-8ABDEC</td><td>USER-FC6AFC</td><td>21344-1</td><td>93</td><td>45.36</td><td>1</td><td>Houston</td></tr><tr><td>ORDER-FAB32F</td><td>USER-58A53D</td><td>5007877-1</td><td>93</td><td>61.08</td><td>9</td><td>Phoenix</td></tr><tr><td>ORDER-FAB32F</td><td>USER-58A53D</td><td>5007877-1</td><td>93</td><td>61.08</td><td>9</td><td>New York</td></tr><tr><td>ORDER-913301</td><td>USER-1DBE17</td><td>218158-1</td><td>93</td><td>67.43</td><td>1</td><td>New York</td></tr><tr><td>ORDER-C0BF55</td><td>USER-64618D</td><td>41801-1</td><td>93</td><td>99.38</td><td>7</td><td>New York</td></tr><tr><td>ORDER-C0BF55</td><td>USER-64618D</td><td>41801-1</td><td>93</td><td>99.38</td><td>7</td><td>Chicago</td></tr><tr><td>ORDER-C0BF55</td><td>USER-64618D</td><td>41801-1</td><td>93</td><td>99.38</td><td>7</td><td>Houston</td></tr><tr><td>ORDER-E461DA</td><td>USER-CED89E</td><td>271723-1</td><td>93</td><td>38.19</td><td>4</td><td>New York</td></tr><tr><td>ORDER-E461DA</td><td>USER-CED89E</td><td>271723-1</td><td>93</td><td>38.19</td><td>4</td><td>Chicago</td></tr><tr><td>ORDER-E461DA</td><td>USER-CED89E</td><td>271723-1</td><td>93</td><td>38.19</td><td>4</td><td>Los Angeles</td></tr><tr><td>ORDER-A03487</td><td>USER-25B3F3</td><td>0015-1</td><td>93</td><td>94.73</td><td>2</td><td>Los Angeles</td></tr><tr><td>ORDER-A03487</td><td>USER-25B3F3</td><td>0015-1</td><td>93</td><td>94.73</td><td>2</td><td>Houston</td></tr><tr><td>ORDER-A03487</td><td>USER-25B3F3</td><td>0015-1</td><td>93</td><td>94.73</td><td>2</td><td>Phoenix</td></tr><tr><td>ORDER-8D59B6</td><td>USER-0E6653</td><td>702-1</td><td>93</td><td>34.58</td><td>7</td><td>New York</td></tr><tr><td>ORDER-84C078</td><td>USER-62D0FE</td><td>702-1</td><td>93</td><td>88.36</td><td>8</td><td>Houston</td></tr><tr><td>ORDER-84C078</td><td>USER-62D0FE</td><td>702-1</td><td>93</td><td>88.36</td><td>8</td><td>Phoenix</td></tr><tr><td>ORDER-84C078</td><td>USER-62D0FE</td><td>702-1</td><td>93</td><td>88.36</td><td>8</td><td>Los Angeles</td></tr><tr><td>ORDER-84C078</td><td>USER-62D0FE</td><td>702-1</td><td>93</td><td>88.36</td><td>8</td><td>Houston</td></tr><tr><td>ORDER-2E8A64</td><td>USER-2E0ED1</td><td>211901-1</td><td>93</td><td>55.31</td><td>1</td><td>Los Angeles</td></tr><tr><td>ORDER-E351B9</td><td>USER-66A3D6</td><td>5008162-1</td><td>93</td><td>85.18</td><td>2</td><td>Los Angeles</td></tr><tr><td>ORDER-E351B9</td><td>USER-66A3D6</td><td>5008162-1</td><td>93</td><td>85.18</td><td>2</td><td>New York</td></tr><tr><td>ORDER-1544BF</td><td>USER-AF6517</td><td>5007392-1</td><td>93</td><td>53.0</td><td>6</td><td>Chicago</td></tr><tr><td>ORDER-1544BF</td><td>USER-AF6517</td><td>5007392-1</td><td>93</td><td>53.0</td><td>6</td><td>Phoenix</td></tr><tr><td>ORDER-BA6F4E</td><td>USER-474C16</td><td>242.1-1</td><td>93</td><td>21.15</td><td>9</td><td>Houston</td></tr><tr><td>ORDER-BC7A38</td><td>USER-8D2392</td><td>2101259516196-1</td><td>93</td><td>63.52</td><td>8</td><td>Phoenix</td></tr><tr><td>ORDER-BC7A38</td><td>USER-8D2392</td><td>2101259516196-1</td><td>93</td><td>63.52</td><td>8</td><td>Houston</td></tr><tr><td>ORDER-0E4E1A</td><td>USER-BBA901</td><td>10133-1</td><td>93</td><td>31.97</td><td>9</td><td>Los Angeles</td></tr><tr><td>ORDER-0E4E1A</td><td>USER-BBA901</td><td>10133-1</td><td>93</td><td>31.97</td><td>9</td><td>Los Angeles</td></tr><tr><td>ORDER-D3AF48</td><td>USER-CC9DBB</td><td>010-1</td><td>93</td><td>27.16</td><td>5</td><td>New York</td></tr><tr><td>ORDER-D3AF48</td><td>USER-CC9DBB</td><td>010-1</td><td>93</td><td>27.16</td><td>5</td><td>Phoenix</td></tr><tr><td>ORDER-D3AF48</td><td>USER-CC9DBB</td><td>010-1</td><td>93</td><td>27.16</td><td>5</td><td>Phoenix</td></tr><tr><td>ORDER-2E813E</td><td>USER-A9A2BA</td><td>1000565897-5</td><td>93</td><td>30.99</td><td>4</td><td>Phoenix</td></tr><tr><td>ORDER-4E042A</td><td>USER-1BE9FE</td><td>5009187-1</td><td>93</td><td>92.24</td><td>5</td><td>New York</td></tr><tr><td>ORDER-4E042A</td><td>USER-1BE9FE</td><td>5009187-1</td><td>93</td><td>92.24</td><td>5</td><td>New York</td></tr><tr><td>ORDER-4E042A</td><td>USER-1BE9FE</td><td>5009187-1</td><td>93</td><td>92.24</td><td>5</td><td>Houston</td></tr><tr><td>ORDER-D882C0</td><td>USER-E01F79</td><td>0015-1</td><td>93</td><td>86.41</td><td>6</td><td>New York</td></tr><tr><td>ORDER-D882C0</td><td>USER-E01F79</td><td>0015-1</td><td>93</td><td>86.41</td><td>6</td><td>Houston</td></tr><tr><td>ORDER-D882C0</td><td>USER-E01F79</td><td>0015-1</td><td>93</td><td>86.41</td><td>6</td><td>Chicago</td></tr><tr><td>ORDER-D882C0</td><td>USER-E01F79</td><td>0015-1</td><td>93</td><td>86.41</td><td>6</td><td>Phoenix</td></tr><tr><td>ORDER-D47607</td><td>USER-D9BE48</td><td>5009187-1</td><td>93</td><td>33.22</td><td>4</td><td>Phoenix</td></tr><tr><td>ORDER-07F7D9</td><td>USER-6BF9F0</td><td>10572-1</td><td>93</td><td>77.17</td><td>6</td><td>Los Angeles</td></tr><tr><td>ORDER-F3C4DD</td><td>USER-B78963</td><td>5009187-1</td><td>93</td><td>15.85</td><td>7</td><td>Los Angeles</td></tr><tr><td>ORDER-C0BF55</td><td>USER-64618D</td><td>226-4</td><td>93</td><td>19.82</td><td>8</td><td>New York</td></tr><tr><td>ORDER-C0BF55</td><td>USER-64618D</td><td>226-4</td><td>93</td><td>19.82</td><td>8</td><td>Chicago</td></tr><tr><td>ORDER-C0BF55</td><td>USER-64618D</td><td>226-4</td><td>93</td><td>19.82</td><td>8</td><td>Houston</td></tr><tr><td>ORDER-6A5F76</td><td>USER-4041DF</td><td>1000565897-5</td><td>93</td><td>59.97</td><td>2</td><td>Houston</td></tr><tr><td>ORDER-668ABC</td><td>USER-E0D3CE</td><td>211901-1</td><td>93</td><td>5.44</td><td>10</td><td>Chicago</td></tr><tr><td>ORDER-668ABC</td><td>USER-E0D3CE</td><td>211901-1</td><td>93</td><td>5.44</td><td>10</td><td>Los Angeles</td></tr><tr><td>ORDER-B371CB</td><td>USER-F8F40D</td><td>7511-1</td><td>93</td><td>36.82</td><td>2</td><td>Houston</td></tr><tr><td>ORDER-30E864</td><td>USER-9A7050</td><td>271723-1</td><td>93</td><td>78.92</td><td>5</td><td>New York</td></tr><tr><td>ORDER-30E864</td><td>USER-9A7050</td><td>271723-1</td><td>93</td><td>78.92</td><td>5</td><td>Chicago</td></tr><tr><td>ORDER-30E864</td><td>USER-9A7050</td><td>271723-1</td><td>93</td><td>78.92</td><td>5</td><td>Los Angeles</td></tr><tr><td>ORDER-30E864</td><td>USER-9A7050</td><td>271723-1</td><td>93</td><td>78.92</td><td>5</td><td>New York</td></tr><tr><td>ORDER-45179A</td><td>USER-2A1E37</td><td>7042-1</td><td>93</td><td>6.8</td><td>5</td><td>Phoenix</td></tr><tr><td>ORDER-9DE90B</td><td>USER-D7BB68</td><td>10511-1</td><td>93</td><td>53.27</td><td>8</td><td>Chicago</td></tr><tr><td>ORDER-105926</td><td>USER-9E3940</td><td>21344-1</td><td>93</td><td>82.79</td><td>9</td><td>Los Angeles</td></tr><tr><td>ORDER-FA5407</td><td>USER-8F1D44</td><td>0906946506-1</td><td>93</td><td>22.78</td><td>2</td><td>Houston</td></tr><tr><td>ORDER-118D33</td><td>USER-D1550A</td><td>065-1</td><td>93</td><td>41.22</td><td>5</td><td>New York</td></tr><tr><td>ORDER-EDDB1E</td><td>USER-FB2F07</td><td>21344-1</td><td>93</td><td>41.12</td><td>5</td><td>Chicago</td></tr><tr><td>ORDER-9B98C9</td><td>USER-849F44</td><td>218158-1</td><td>93</td><td>57.5</td><td>8</td><td>Phoenix</td></tr><tr><td>ORDER-B86022</td><td>USER-69302E</td><td>10240-1</td><td>93</td><td>39.34</td><td>7</td><td>New York</td></tr><tr><td>ORDER-B0C31E</td><td>USER-CFA978</td><td>218158-1</td><td>93</td><td>93.64</td><td>6</td><td>Houston</td></tr><tr><td>ORDER-A5228F</td><td>USER-F13249</td><td>10059-1</td><td>93</td><td>15.34</td><td>7</td><td>Los Angeles</td></tr><tr><td>ORDER-57A804</td><td>USER-2055C3</td><td>2101259516196-1</td><td>93</td><td>84.89</td><td>7</td><td>New York</td></tr><tr><td>ORDER-6A5F76</td><td>USER-4041DF</td><td>10701-1</td><td>93</td><td>86.55</td><td>6</td><td>Houston</td></tr><tr><td>ORDER-B57468</td><td>USER-67DAF1</td><td>41944-1</td><td>93</td><td>17.88</td><td>8</td><td>Phoenix</td></tr><tr><td>ORDER-172701</td><td>USER-27E84C</td><td>5008162-1</td><td>93</td><td>90.15</td><td>4</td><td>New York</td></tr><tr><td>ORDER-F2F05B</td><td>USER-EB7121</td><td>951178-1</td><td>93</td><td>94.91</td><td>1</td><td>Houston</td></tr><tr><td>ORDER-F2F05B</td><td>USER-EB7121</td><td>951178-1</td><td>93</td><td>94.91</td><td>1</td><td>New York</td></tr><tr><td>ORDER-62CA13</td><td>USER-BD2CF3</td><td>5007392-1</td><td>93</td><td>12.3</td><td>4</td><td>Los Angeles</td></tr><tr><td>ORDER-6EFF37</td><td>USER-DB0F57</td><td>215-2B</td><td>93</td><td>56.34</td><td>7</td><td>Houston</td></tr><tr><td>ORDER-375098</td><td>USER-D96ED7</td><td>271723-1</td><td>93</td><td>32.46</td><td>10</td><td>Los Angeles</td></tr><tr><td>ORDER-21E9BD</td><td>USER-18A1FC</td><td>0015-1</td><td>93</td><td>67.24</td><td>1</td><td>Chicago</td></tr><tr><td>ORDER-21E9BD</td><td>USER-18A1FC</td><td>0015-1</td><td>93</td><td>67.24</td><td>1</td><td>Chicago</td></tr><tr><td>ORDER-21E9BD</td><td>USER-18A1FC</td><td>0015-1</td><td>93</td><td>67.24</td><td>1</td><td>Chicago</td></tr><tr><td>ORDER-77F86D</td><td>USER-3CF0A3</td><td>10511-1</td><td>93</td><td>75.36</td><td>7</td><td>Chicago</td></tr><tr><td>ORDER-67A027</td><td>USER-A7DDF3</td><td>101032405-1</td><td>93</td><td>45.87</td><td>6</td><td>Chicago</td></tr><tr><td>ORDER-BC86BE</td><td>USER-055BDB</td><td>065-1</td><td>93</td><td>10.41</td><td>2</td><td>New York</td></tr><tr><td>ORDER-BC86BE</td><td>USER-055BDB</td><td>065-1</td><td>93</td><td>10.41</td><td>2</td><td>New York</td></tr><tr><td>ORDER-AE7A97</td><td>USER-CE2149</td><td>0015-1</td><td>93</td><td>42.73</td><td>4</td><td>Los Angeles</td></tr><tr><td>ORDER-8F0A22</td><td>USER-C17CA5</td><td>065-1</td><td>93</td><td>92.69</td><td>1</td><td>Chicago</td></tr><tr><td>ORDER-8C9F2B</td><td>USER-66F316</td><td>271723-1</td><td>93</td><td>93.66</td><td>2</td><td>Los Angeles</td></tr><tr><td>ORDER-9A2703</td><td>USER-889DB6</td><td>702-1</td><td>93</td><td>9.02</td><td>1</td><td>New York</td></tr><tr><td>ORDER-9ED573</td><td>USER-977D2A</td><td>21344-1</td><td>93</td><td>31.48</td><td>10</td><td>New York</td></tr><tr><td>ORDER-35C6CC</td><td>USER-5EA33B</td><td>10019-1</td><td>93</td><td>64.04</td><td>7</td><td>Phoenix</td></tr><tr><td>ORDER-35C6CC</td><td>USER-5EA33B</td><td>10019-1</td><td>93</td><td>64.04</td><td>7</td><td>New York</td></tr><tr><td>ORDER-35C6CC</td><td>USER-5EA33B</td><td>10019-1</td><td>93</td><td>64.04</td><td>7</td><td>Los Angeles</td></tr><tr><td>ORDER-35C6CC</td><td>USER-5EA33B</td><td>10019-1</td><td>93</td><td>64.04</td><td>7</td><td>New York</td></tr><tr><td>ORDER-D4ADF6</td><td>USER-5F19A0</td><td>215-2B</td><td>93</td><td>70.08</td><td>6</td><td>Chicago</td></tr><tr><td>ORDER-85FCF6</td><td>USER-9D0FA4</td><td>10572-1</td><td>93</td><td>33.68</td><td>6</td><td>Phoenix</td></tr><tr><td>ORDER-2AF6B7</td><td>USER-0968B4</td><td>1000565897-5</td><td>93</td><td>29.84</td><td>6</td><td>Los Angeles</td></tr><tr><td>ORDER-978B16</td><td>USER-6EE64D</td><td>41801-1</td><td>93</td><td>95.26</td><td>9</td><td>Chicago</td></tr><tr><td>ORDER-978B16</td><td>USER-6EE64D</td><td>41801-1</td><td>93</td><td>95.26</td><td>9</td><td>Los Angeles</td></tr><tr><td>ORDER-B76B67</td><td>USER-807484</td><td>045-1</td><td>93</td><td>13.83</td><td>1</td><td>Houston</td></tr><tr><td>ORDER-3FA636</td><td>USER-BD2CF3</td><td>5007392-1</td><td>93</td><td>48.09</td><td>9</td><td>Chicago</td></tr><tr><td>ORDER-3FA636</td><td>USER-BD2CF3</td><td>5007392-1</td><td>93</td><td>48.09</td><td>9</td><td>Chicago</td></tr><tr><td>ORDER-3F5351</td><td>USER-67333D</td><td>242.1-1</td><td>93</td><td>87.08</td><td>7</td><td>Houston</td></tr><tr><td>ORDER-1C5AE5</td><td>USER-ADDCB5</td><td>951178-1</td><td>93</td><td>50.2</td><td>2</td><td>Chicago</td></tr><tr><td>ORDER-1C5AE5</td><td>USER-ADDCB5</td><td>951178-1</td><td>93</td><td>50.2</td><td>2</td><td>Houston</td></tr><tr><td>ORDER-97A943</td><td>USER-5DB70D</td><td>7511-1</td><td>93</td><td>45.18</td><td>10</td><td>Phoenix</td></tr><tr><td>ORDER-5EA14E</td><td>USER-8BA361</td><td>215-2B</td><td>93</td><td>71.98</td><td>7</td><td>Los Angeles</td></tr><tr><td>ORDER-DF3F2B</td><td>USER-17A6B0</td><td>0015-1</td><td>93</td><td>20.78</td><td>3</td><td>Chicago</td></tr><tr><td>ORDER-DF3F2B</td><td>USER-17A6B0</td><td>0015-1</td><td>93</td><td>20.78</td><td>3</td><td>New York</td></tr><tr><td>ORDER-CF700D</td><td>USER-19FF23</td><td>1000565897-5</td><td>93</td><td>22.86</td><td>6</td><td>Los Angeles</td></tr><tr><td>ORDER-7B51EE</td><td>USER-0FCE24</td><td>41944-1</td><td>93</td><td>18.65</td><td>1</td><td>Chicago</td></tr><tr><td>ORDER-7B51EE</td><td>USER-0FCE24</td><td>41944-1</td><td>93</td><td>18.65</td><td>1</td><td>New York</td></tr><tr><td>ORDER-7B51EE</td><td>USER-0FCE24</td><td>41944-1</td><td>93</td><td>18.65</td><td>1</td><td>Chicago</td></tr><tr><td>ORDER-918744</td><td>USER-8FAF56</td><td>10133-1</td><td>93</td><td>43.96</td><td>7</td><td>Houston</td></tr><tr><td>ORDER-7B16BF</td><td>USER-28B83B</td><td>0015-1</td><td>93</td><td>68.02</td><td>1</td><td>Phoenix</td></tr><tr><td>ORDER-7B16BF</td><td>USER-28B83B</td><td>0015-1</td><td>93</td><td>68.02</td><td>1</td><td>Houston</td></tr><tr><td>ORDER-7B16BF</td><td>USER-28B83B</td><td>0015-1</td><td>93</td><td>68.02</td><td>1</td><td>Los Angeles</td></tr><tr><td>ORDER-7D6CAE</td><td>USER-B97CEF</td><td>0015-1</td><td>93</td><td>43.88</td><td>4</td><td>Phoenix</td></tr><tr><td>ORDER-7D6CAE</td><td>USER-B97CEF</td><td>0015-1</td><td>93</td><td>43.88</td><td>4</td><td>New York</td></tr><tr><td>ORDER-16BD6C</td><td>USER-1780FC</td><td>0906946506-1</td><td>93</td><td>67.37</td><td>9</td><td>Los Angeles</td></tr><tr><td>ORDER-5A19B2</td><td>USER-B9A581</td><td>10240-1</td><td>93</td><td>64.63</td><td>1</td><td>Houston</td></tr><tr><td>ORDER-F9768E</td><td>USER-F51CA6</td><td>21-1</td><td>93</td><td>76.19</td><td>1</td><td>Los Angeles</td></tr><tr><td>ORDER-F9768E</td><td>USER-F51CA6</td><td>21-1</td><td>93</td><td>76.19</td><td>1</td><td>Houston</td></tr><tr><td>ORDER-F9768E</td><td>USER-F51CA6</td><td>21-1</td><td>93</td><td>76.19</td><td>1</td><td>New York</td></tr><tr><td>ORDER-B262CC</td><td>USER-32381B</td><td>10511-1</td><td>93</td><td>40.27</td><td>1</td><td>Phoenix</td></tr><tr><td>ORDER-B262CC</td><td>USER-32381B</td><td>10511-1</td><td>93</td><td>40.27</td><td>1</td><td>New York</td></tr><tr><td>ORDER-B262CC</td><td>USER-32381B</td><td>10511-1</td><td>93</td><td>40.27</td><td>1</td><td>Chicago</td></tr><tr><td>ORDER-0D37EA</td><td>USER-27E84C</td><td>10059-1</td><td>93</td><td>93.45</td><td>5</td><td>New York</td></tr><tr><td>ORDER-958539</td><td>USER-4E502C</td><td>5008162-1</td><td>93</td><td>56.63</td><td>6</td><td>Phoenix</td></tr><tr><td>ORDER-D9AC3D</td><td>USER-686CCE</td><td>10511-1</td><td>93</td><td>69.41</td><td>10</td><td>Chicago</td></tr><tr><td>ORDER-188AF0</td><td>USER-A0202E</td><td>218158-1</td><td>93</td><td>26.97</td><td>9</td><td>New York</td></tr><tr><td>ORDER-CCCD71</td><td>USER-04F4D0</td><td>2101259516196-1</td><td>93</td><td>93.43</td><td>2</td><td>Houston</td></tr><tr><td>ORDER-CCCD71</td><td>USER-04F4D0</td><td>2101259516196-1</td><td>93</td><td>93.43</td><td>2</td><td>Los Angeles</td></tr><tr><td>ORDER-71B003</td><td>USER-551D56</td><td>045-1</td><td>93</td><td>95.33</td><td>1</td><td>New York</td></tr><tr><td>ORDER-71B003</td><td>USER-551D56</td><td>045-1</td><td>93</td><td>95.33</td><td>1</td><td>New York</td></tr><tr><td>ORDER-2B5AFF</td><td>USER-DC2101</td><td>21000-1</td><td>93</td><td>21.04</td><td>1</td><td>Chicago</td></tr><tr><td>ORDER-BB28F6</td><td>USER-B9A3A0</td><td>10019-1</td><td>93</td><td>55.77</td><td>2</td><td>Houston</td></tr><tr><td>ORDER-BB28F6</td><td>USER-B9A3A0</td><td>10019-1</td><td>93</td><td>55.77</td><td>2</td><td>Los Angeles</td></tr><tr><td>ORDER-23A26F</td><td>USER-F21E6C</td><td>10701-1</td><td>93</td><td>17.92</td><td>8</td><td>New York</td></tr><tr><td>ORDER-23A26F</td><td>USER-F21E6C</td><td>10701-1</td><td>93</td><td>17.92</td><td>8</td><td>Los Angeles</td></tr><tr><td>ORDER-900068</td><td>USER-C64DA0</td><td>211901-1</td><td>93</td><td>70.06</td><td>7</td><td>Chicago</td></tr><tr><td>ORDER-2E8A64</td><td>USER-2E0ED1</td><td>951178-1</td><td>93</td><td>62.41</td><td>6</td><td>Los Angeles</td></tr><tr><td>ORDER-03FD46</td><td>USER-AFF84C</td><td>226-4</td><td>93</td><td>93.54</td><td>5</td><td>Phoenix</td></tr><tr><td>ORDER-03FD46</td><td>USER-AFF84C</td><td>226-4</td><td>93</td><td>93.54</td><td>5</td><td>Los Angeles</td></tr><tr><td>ORDER-AD42DC</td><td>USER-694FA3</td><td>10019-1</td><td>93</td><td>66.41</td><td>3</td><td>New York</td></tr><tr><td>ORDER-34079F</td><td>USER-30FF71</td><td>10240-1</td><td>93</td><td>46.3</td><td>4</td><td>Phoenix</td></tr><tr><td>ORDER-B060ED</td><td>USER-F4350D</td><td>102-1</td><td>93</td><td>87.23</td><td>3</td><td>New York</td></tr><tr><td>ORDER-B060ED</td><td>USER-F4350D</td><td>102-1</td><td>93</td><td>87.23</td><td>3</td><td>Los Angeles</td></tr><tr><td>ORDER-49EA09</td><td>USER-813F04</td><td>10240-1</td><td>93</td><td>31.04</td><td>3</td><td>Houston</td></tr><tr><td>ORDER-FDEB04</td><td>USER-BD80DD</td><td>10391-1</td><td>93</td><td>47.1</td><td>5</td><td>Houston</td></tr><tr><td>ORDER-EDDB1E</td><td>USER-FB2F07</td><td>41944-1</td><td>93</td><td>14.69</td><td>8</td><td>Chicago</td></tr><tr><td>ORDER-DC08F5</td><td>USER-23CE3D</td><td>102-1</td><td>93</td><td>94.18</td><td>1</td><td>Houston</td></tr><tr><td>ORDER-E244B5</td><td>USER-694FA3</td><td>0015-1</td><td>93</td><td>7.29</td><td>2</td><td>Los Angeles</td></tr><tr><td>ORDER-E244B5</td><td>USER-694FA3</td><td>0015-1</td><td>93</td><td>7.29</td><td>2</td><td>Houston</td></tr><tr><td>ORDER-E244B5</td><td>USER-694FA3</td><td>0015-1</td><td>93</td><td>7.29</td><td>2</td><td>Chicago</td></tr><tr><td>ORDER-878225</td><td>USER-57451F</td><td>215-2B</td><td>93</td><td>86.78</td><td>1</td><td>Chicago</td></tr><tr><td>ORDER-D6F4CB</td><td>USER-7A6EF6</td><td>065-1</td><td>93</td><td>71.26</td><td>5</td><td>Houston</td></tr><tr><td>ORDER-9A8DEE</td><td>USER-932C65</td><td>10133-1</td><td>93</td><td>25.34</td><td>1</td><td>Los Angeles</td></tr><tr><td>ORDER-9A8DEE</td><td>USER-932C65</td><td>10133-1</td><td>93</td><td>25.34</td><td>1</td><td>Houston</td></tr><tr><td>ORDER-188AF0</td><td>USER-A0202E</td><td>045-1</td><td>93</td><td>11.36</td><td>1</td><td>New York</td></tr><tr><td>ORDER-241DE6</td><td>USER-7843DE</td><td>10019-1</td><td>93</td><td>21.51</td><td>4</td><td>Phoenix</td></tr><tr><td>ORDER-CCCD71</td><td>USER-04F4D0</td><td>5007392-1</td><td>93</td><td>12.11</td><td>10</td><td>Houston</td></tr><tr><td>ORDER-CCCD71</td><td>USER-04F4D0</td><td>5007392-1</td><td>93</td><td>12.11</td><td>10</td><td>Los Angeles</td></tr><tr><td>ORDER-970FE6</td><td>USER-8630B4</td><td>951178-1</td><td>93</td><td>72.14</td><td>7</td><td>Los Angeles</td></tr><tr><td>ORDER-79A7AE</td><td>USER-1BE9FE</td><td>21-1</td><td>93</td><td>50.88</td><td>6</td><td>Los Angeles</td></tr><tr><td>ORDER-1D6692</td><td>USER-D1550A</td><td>21000-1</td><td>93</td><td>37.69</td><td>3</td><td>Los Angeles</td></tr><tr><td>ORDER-6BD0BF</td><td>USER-1949F7</td><td>5009187-1</td><td>93</td><td>63.44</td><td>2</td><td>Houston</td></tr><tr><td>ORDER-6BD0BF</td><td>USER-1949F7</td><td>5009187-1</td><td>93</td><td>63.44</td><td>2</td><td>Phoenix</td></tr><tr><td>ORDER-6BD0BF</td><td>USER-1949F7</td><td>5009187-1</td><td>93</td><td>63.44</td><td>2</td><td>New York</td></tr><tr><td>ORDER-D009A2</td><td>USER-4E502C</td><td>102-1</td><td>93</td><td>52.1</td><td>5</td><td>New York</td></tr><tr><td>ORDER-63C50C</td><td>USER-A1ED18</td><td>1000565897-5</td><td>93</td><td>97.29</td><td>9</td><td>New York</td></tr><tr><td>ORDER-4779E9</td><td>USER-BB3D87</td><td>7511-1</td><td>93</td><td>95.59</td><td>6</td><td>Los Angeles</td></tr><tr><td>ORDER-313A87</td><td>USER-0D26E3</td><td>10133-1</td><td>93</td><td>42.86</td><td>6</td><td>Houston</td></tr><tr><td>ORDER-313A87</td><td>USER-0D26E3</td><td>10133-1</td><td>93</td><td>42.86</td><td>6</td><td>Chicago</td></tr><tr><td>ORDER-EA9B71</td><td>USER-47D2BB</td><td>1000565897-5</td><td>93</td><td>26.02</td><td>6</td><td>Phoenix</td></tr><tr><td>ORDER-79A7AE</td><td>USER-1BE9FE</td><td>7042-1</td><td>93</td><td>99.92</td><td>3</td><td>Los Angeles</td></tr><tr><td>ORDER-188AF0</td><td>USER-A0202E</td><td>10019-1</td><td>93</td><td>58.98</td><td>5</td><td>New York</td></tr><tr><td>ORDER-4EE32B</td><td>USER-D2CBCF</td><td>10292-1</td><td>93</td><td>94.95</td><td>6</td><td>Phoenix</td></tr><tr><td>ORDER-4EE32B</td><td>USER-D2CBCF</td><td>10292-1</td><td>93</td><td>94.95</td><td>6</td><td>Chicago</td></tr><tr><td>ORDER-FC4128</td><td>USER-FD5FD7</td><td>101032405-1</td><td>93</td><td>57.54</td><td>8</td><td>Los Angeles</td></tr><tr><td>ORDER-D48057</td><td>USER-824789</td><td>010-1</td><td>93</td><td>17.17</td><td>7</td><td>New York</td></tr><tr><td>ORDER-BD5B67</td><td>USER-5C355B</td><td>702-1</td><td>93</td><td>40.24</td><td>6</td><td>Los Angeles</td></tr><tr><td>ORDER-BD5B67</td><td>USER-5C355B</td><td>702-1</td><td>93</td><td>40.24</td><td>6</td><td>Houston</td></tr><tr><td>ORDER-DC5B40</td><td>USER-25B3F3</td><td>0906946506-1</td><td>93</td><td>30.28</td><td>5</td><td>Houston</td></tr><tr><td>ORDER-A03487</td><td>USER-25B3F3</td><td>1062-1</td><td>93</td><td>15.76</td><td>3</td><td>Los Angeles</td></tr><tr><td>ORDER-A03487</td><td>USER-25B3F3</td><td>1062-1</td><td>93</td><td>15.76</td><td>3</td><td>Houston</td></tr><tr><td>ORDER-A03487</td><td>USER-25B3F3</td><td>1062-1</td><td>93</td><td>15.76</td><td>3</td><td>Phoenix</td></tr><tr><td>ORDER-6209AE</td><td>USER-BC4B7C</td><td>1000565897-5</td><td>93</td><td>61.29</td><td>2</td><td>Chicago</td></tr><tr><td>ORDER-6209AE</td><td>USER-BC4B7C</td><td>1000565897-5</td><td>93</td><td>61.29</td><td>2</td><td>Los Angeles</td></tr><tr><td>ORDER-D48057</td><td>USER-824789</td><td>1062-1</td><td>93</td><td>69.54</td><td>9</td><td>New York</td></tr><tr><td>ORDER-B3FDBE</td><td>USER-126BFB</td><td>045-1</td><td>93</td><td>14.07</td><td>7</td><td>Chicago</td></tr><tr><td>ORDER-43AD2F</td><td>USER-925134</td><td>10059-1</td><td>93</td><td>14.45</td><td>8</td><td>Chicago</td></tr><tr><td>ORDER-B41396</td><td>USER-DC58AF</td><td>271723-1</td><td>93</td><td>61.42</td><td>4</td><td>Phoenix</td></tr><tr><td>ORDER-FDEB04</td><td>USER-BD80DD</td><td>10572-1</td><td>93</td><td>28.17</td><td>3</td><td>Houston</td></tr><tr><td>ORDER-9A92ED</td><td>USER-644F9D</td><td>702-1</td><td>93</td><td>43.16</td><td>8</td><td>New York</td></tr><tr><td>ORDER-9A92ED</td><td>USER-644F9D</td><td>702-1</td><td>93</td><td>43.16</td><td>8</td><td>New York</td></tr><tr><td>ORDER-FA5407</td><td>USER-8F1D44</td><td>5007613-1</td><td>93</td><td>58.09</td><td>9</td><td>Houston</td></tr><tr><td>ORDER-F999CB</td><td>USER-15A825</td><td>7042-1</td><td>93</td><td>63.36</td><td>1</td><td>Phoenix</td></tr><tr><td>ORDER-9092A4</td><td>USER-CC9DBB</td><td>10701-1</td><td>93</td><td>26.24</td><td>6</td><td>Phoenix</td></tr><tr><td>ORDER-89FD2A</td><td>USER-549ACE</td><td>215-2B</td><td>93</td><td>37.74</td><td>9</td><td>Phoenix</td></tr><tr><td>ORDER-E221BD</td><td>USER-CDE765</td><td>5007877-1</td><td>93</td><td>67.28</td><td>8</td><td>Chicago</td></tr><tr><td>ORDER-EBBF91</td><td>USER-1DBAEA</td><td>21000-1</td><td>93</td><td>50.89</td><td>6</td><td>Phoenix</td></tr><tr><td>ORDER-2B42AD</td><td>USER-CE10F2</td><td>0906946506-1</td><td>93</td><td>61.34</td><td>8</td><td>Houston</td></tr><tr><td>ORDER-63C50C</td><td>USER-A1ED18</td><td>41944-1</td><td>93</td><td>56.09</td><td>2</td><td>New York</td></tr><tr><td>ORDER-F6D83D</td><td>USER-474C16</td><td>0906946506-1</td><td>93</td><td>40.27</td><td>5</td><td>Phoenix</td></tr><tr><td>ORDER-E11FBD</td><td>USER-F6EE58</td><td>10133-1</td><td>93</td><td>84.03</td><td>2</td><td>Los Angeles</td></tr><tr><td>ORDER-E11FBD</td><td>USER-F6EE58</td><td>10133-1</td><td>93</td><td>84.03</td><td>2</td><td>Los Angeles</td></tr><tr><td>ORDER-145817</td><td>USER-FE43B5</td><td>5007877-1</td><td>93</td><td>36.63</td><td>3</td><td>Los Angeles</td></tr><tr><td>ORDER-145817</td><td>USER-FE43B5</td><td>5007877-1</td><td>93</td><td>36.63</td><td>3</td><td>Chicago</td></tr><tr><td>ORDER-AEF960</td><td>USER-8EC82D</td><td>10173-1</td><td>93</td><td>24.07</td><td>1</td><td>New York</td></tr><tr><td>ORDER-AEF960</td><td>USER-8EC82D</td><td>10173-1</td><td>93</td><td>24.07</td><td>1</td><td>Chicago</td></tr><tr><td>ORDER-8C9F2B</td><td>USER-66F316</td><td>0015-1</td><td>93</td><td>17.46</td><td>3</td><td>Los Angeles</td></tr><tr><td>ORDER-F514DA</td><td>USER-21CCA7</td><td>852545-1</td><td>93</td><td>90.72</td><td>7</td><td>Chicago</td></tr><tr><td>ORDER-34079F</td><td>USER-30FF71</td><td>10701-1</td><td>93</td><td>23.16</td><td>3</td><td>Phoenix</td></tr><tr><td>ORDER-F3353C</td><td>USER-D96ED7</td><td>10391-1</td><td>93</td><td>27.72</td><td>3</td><td>Houston</td></tr><tr><td>ORDER-2B5AFF</td><td>USER-DC2101</td><td>10292-1</td><td>93</td><td>53.05</td><td>9</td><td>Chicago</td></tr><tr><td>ORDER-BAB069</td><td>USER-860AA9</td><td>5007877-1</td><td>93</td><td>77.95</td><td>9</td><td>Chicago</td></tr><tr><td>ORDER-BAB069</td><td>USER-860AA9</td><td>5007877-1</td><td>93</td><td>77.95</td><td>9</td><td>Chicago</td></tr><tr><td>ORDER-BAB069</td><td>USER-860AA9</td><td>5007877-1</td><td>93</td><td>77.95</td><td>9</td><td>Los Angeles</td></tr><tr><td>ORDER-DEAF6D</td><td>USER-2910E0</td><td>702-1</td><td>93</td><td>60.87</td><td>1</td><td>New York</td></tr><tr><td>ORDER-4D52A0</td><td>USER-6BBCB0</td><td>10133-1</td><td>93</td><td>65.36</td><td>8</td><td>Houston</td></tr><tr><td>ORDER-8D59B6</td><td>USER-0E6653</td><td>70706-1</td><td>93</td><td>91.45</td><td>8</td><td>New York</td></tr><tr><td>ORDER-B9E5DC</td><td>USER-EF6582</td><td>1062-1</td><td>93</td><td>10.82</td><td>6</td><td>Phoenix</td></tr><tr><td>ORDER-4219E0</td><td>USER-DA4EFA</td><td>0906946506-1</td><td>93</td><td>41.83</td><td>10</td><td>Houston</td></tr><tr><td>ORDER-4219E0</td><td>USER-DA4EFA</td><td>0906946506-1</td><td>93</td><td>41.83</td><td>10</td><td>Chicago</td></tr><tr><td>ORDER-D2DBB7</td><td>USER-EB44A4</td><td>10173-1</td><td>93</td><td>90.94</td><td>4</td><td>Houston</td></tr><tr><td>ORDER-18E09B</td><td>USER-F6EE58</td><td>10511-1</td><td>93</td><td>48.49</td><td>10</td><td>Houston</td></tr><tr><td>ORDER-BC13A0</td><td>USER-E5B37B</td><td>10572-1</td><td>93</td><td>90.28</td><td>5</td><td>Chicago</td></tr><tr><td>ORDER-BC13A0</td><td>USER-E5B37B</td><td>10572-1</td><td>93</td><td>90.28</td><td>5</td><td>Houston</td></tr><tr><td>ORDER-8999B8</td><td>USER-7843DE</td><td>10511-1</td><td>93</td><td>79.41</td><td>9</td><td>Los Angeles</td></tr><tr><td>ORDER-E1C2EB</td><td>USER-AE51F3</td><td>41944-1</td><td>93</td><td>73.52</td><td>3</td><td>Los Angeles</td></tr><tr><td>ORDER-7B51EE</td><td>USER-0FCE24</td><td>1062-1</td><td>93</td><td>64.28</td><td>4</td><td>Chicago</td></tr><tr><td>ORDER-7B51EE</td><td>USER-0FCE24</td><td>1062-1</td><td>93</td><td>64.28</td><td>4</td><td>New York</td></tr><tr><td>ORDER-7B51EE</td><td>USER-0FCE24</td><td>1062-1</td><td>93</td><td>64.28</td><td>4</td><td>Chicago</td></tr><tr><td>ORDER-EB3A10</td><td>USER-33C9D2</td><td>065-1</td><td>93</td><td>43.99</td><td>9</td><td>Los Angeles</td></tr><tr><td>ORDER-EB3A10</td><td>USER-33C9D2</td><td>065-1</td><td>93</td><td>43.99</td><td>9</td><td>Los Angeles</td></tr><tr><td>ORDER-83497F</td><td>USER-979A5B</td><td>10019-1</td><td>93</td><td>77.08</td><td>3</td><td>Phoenix</td></tr><tr><td>ORDER-3DA661</td><td>USER-57451F</td><td>101032405-1</td><td>93</td><td>33.19</td><td>10</td><td>Houston</td></tr><tr><td>ORDER-796465</td><td>USER-A4F730</td><td>271723-1</td><td>93</td><td>59.14</td><td>5</td><td>New York</td></tr><tr><td>ORDER-0CFE8D</td><td>USER-CA8519</td><td>010-1</td><td>93</td><td>98.15</td><td>1</td><td>Houston</td></tr><tr><td>ORDER-67F170</td><td>USER-8630B4</td><td>045-1</td><td>93</td><td>53.18</td><td>5</td><td>Houston</td></tr><tr><td>ORDER-67F170</td><td>USER-8630B4</td><td>045-1</td><td>93</td><td>53.18</td><td>5</td><td>New York</td></tr><tr><td>ORDER-3E25C2</td><td>USER-8BA361</td><td>1062-1</td><td>93</td><td>68.17</td><td>5</td><td>Chicago</td></tr><tr><td>ORDER-3E25C2</td><td>USER-8BA361</td><td>1062-1</td><td>93</td><td>68.17</td><td>5</td><td>Los Angeles</td></tr><tr><td>ORDER-7A5775</td><td>USER-8758D7</td><td>10701-1</td><td>93</td><td>75.98</td><td>10</td><td>Los Angeles</td></tr><tr><td>ORDER-7A5775</td><td>USER-8758D7</td><td>10701-1</td><td>93</td><td>75.98</td><td>10</td><td>New York</td></tr><tr><td>ORDER-73134F</td><td>USER-6BF9F0</td><td>10240-1</td><td>93</td><td>18.95</td><td>6</td><td>Phoenix</td></tr><tr><td>ORDER-EA9B71</td><td>USER-47D2BB</td><td>10019-1</td><td>93</td><td>6.15</td><td>5</td><td>Phoenix</td></tr><tr><td>ORDER-97A943</td><td>USER-5DB70D</td><td>271723-1</td><td>93</td><td>15.79</td><td>1</td><td>Phoenix</td></tr><tr><td>ORDER-102548</td><td>USER-3E27AB</td><td>21-1</td><td>93</td><td>70.48</td><td>3</td><td>New York</td></tr><tr><td>ORDER-102548</td><td>USER-3E27AB</td><td>21-1</td><td>93</td><td>70.48</td><td>3</td><td>Los Angeles</td></tr><tr><td>ORDER-102548</td><td>USER-3E27AB</td><td>21-1</td><td>93</td><td>70.48</td><td>3</td><td>New York</td></tr><tr><td>ORDER-78664E</td><td>USER-CBB57F</td><td>0906946506-1</td><td>93</td><td>32.65</td><td>6</td><td>Houston</td></tr><tr><td>ORDER-BBC529</td><td>USER-3E7413</td><td>242.1-1</td><td>93</td><td>94.83</td><td>6</td><td>New York</td></tr><tr><td>ORDER-DFD6EF</td><td>USER-EBFA58</td><td>7042-1</td><td>93</td><td>43.34</td><td>7</td><td>New York</td></tr><tr><td>ORDER-76325D</td><td>USER-CC9DBB</td><td>21000-1</td><td>93</td><td>29.16</td><td>6</td><td>New York</td></tr><tr><td>ORDER-76325D</td><td>USER-CC9DBB</td><td>21000-1</td><td>93</td><td>29.16</td><td>6</td><td>Phoenix</td></tr><tr><td>ORDER-DAD0C8</td><td>USER-522AB7</td><td>010-1</td><td>93</td><td>49.22</td><td>6</td><td>Houston</td></tr><tr><td>ORDER-B76B67</td><td>USER-807484</td><td>271723-1</td><td>93</td><td>9.44</td><td>6</td><td>Houston</td></tr><tr><td>ORDER-6BD0BF</td><td>USER-1949F7</td><td>0906946506-1</td><td>93</td><td>50.86</td><td>4</td><td>Houston</td></tr><tr><td>ORDER-6BD0BF</td><td>USER-1949F7</td><td>0906946506-1</td><td>93</td><td>50.86</td><td>4</td><td>Phoenix</td></tr><tr><td>ORDER-6BD0BF</td><td>USER-1949F7</td><td>0906946506-1</td><td>93</td><td>50.86</td><td>4</td><td>New York</td></tr><tr><td>ORDER-E351B9</td><td>USER-66A3D6</td><td>5008162-1</td><td>93</td><td>89.37</td><td>10</td><td>Los Angeles</td></tr><tr><td>ORDER-E351B9</td><td>USER-66A3D6</td><td>5008162-1</td><td>93</td><td>89.37</td><td>10</td><td>New York</td></tr><tr><td>ORDER-1834D8</td><td>USER-6CE8EA</td><td>10572-1</td><td>93</td><td>92.17</td><td>3</td><td>Chicago</td></tr><tr><td>ORDER-6DCF98</td><td>USER-AA6543</td><td>045-1</td><td>93</td><td>82.99</td><td>6</td><td>Houston</td></tr><tr><td>ORDER-B9B22E</td><td>USER-27FA85</td><td>10511-1</td><td>93</td><td>17.95</td><td>3</td><td>New York</td></tr><tr><td>ORDER-B9B22E</td><td>USER-27FA85</td><td>10511-1</td><td>93</td><td>17.95</td><td>3</td><td>Chicago</td></tr><tr><td>ORDER-B9B22E</td><td>USER-27FA85</td><td>10511-1</td><td>93</td><td>17.95</td><td>3</td><td>Houston</td></tr><tr><td>ORDER-16BD6C</td><td>USER-1780FC</td><td>5007392-1</td><td>93</td><td>49.67</td><td>9</td><td>Los Angeles</td></tr><tr><td>ORDER-466381</td><td>USER-FC2F54</td><td>10240-1</td><td>93</td><td>63.99</td><td>9</td><td>Chicago</td></tr><tr><td>ORDER-466381</td><td>USER-FC2F54</td><td>10240-1</td><td>93</td><td>63.99</td><td>9</td><td>Phoenix</td></tr><tr><td>ORDER-D770FF</td><td>USER-C29A5D</td><td>271723-1</td><td>93</td><td>21.92</td><td>1</td><td>Los Angeles</td></tr><tr><td>ORDER-D770FF</td><td>USER-C29A5D</td><td>271723-1</td><td>93</td><td>21.92</td><td>1</td><td>Los Angeles</td></tr><tr><td>ORDER-D770FF</td><td>USER-C29A5D</td><td>271723-1</td><td>93</td><td>21.92</td><td>1</td><td>Los Angeles</td></tr><tr><td>ORDER-696090</td><td>USER-17F2C4</td><td>211901-1</td><td>93</td><td>69.47</td><td>6</td><td>Chicago</td></tr><tr><td>ORDER-912882</td><td>USER-C23529</td><td>41944-1</td><td>93</td><td>91.51</td><td>5</td><td>New York</td></tr><tr><td>ORDER-912882</td><td>USER-C23529</td><td>41944-1</td><td>93</td><td>91.51</td><td>5</td><td>New York</td></tr><tr><td>ORDER-912882</td><td>USER-C23529</td><td>41944-1</td><td>93</td><td>91.51</td><td>5</td><td>Phoenix</td></tr><tr><td>ORDER-F2167C</td><td>USER-8C9F7F</td><td>41944-1</td><td>93</td><td>60.41</td><td>5</td><td>Phoenix</td></tr><tr><td>ORDER-F2167C</td><td>USER-8C9F7F</td><td>41944-1</td><td>93</td><td>60.41</td><td>5</td><td>New York</td></tr><tr><td>ORDER-B407C9</td><td>USER-590AF1</td><td>5007392-1</td><td>93</td><td>51.03</td><td>1</td><td>Los Angeles</td></tr><tr><td>ORDER-918744</td><td>USER-8FAF56</td><td>10292-1</td><td>93</td><td>58.35</td><td>8</td><td>Houston</td></tr><tr><td>ORDER-9A46E3</td><td>USER-A2837D</td><td>5007613-1</td><td>93</td><td>83.68</td><td>5</td><td>New York</td></tr><tr><td>ORDER-9A46E3</td><td>USER-A2837D</td><td>5007613-1</td><td>93</td><td>83.68</td><td>5</td><td>New York</td></tr><tr><td>ORDER-801A78</td><td>USER-2313F5</td><td>010-1</td><td>93</td><td>55.41</td><td>7</td><td>Los Angeles</td></tr><tr><td>ORDER-7FB69A</td><td>USER-2BDA86</td><td>5007392-1</td><td>93</td><td>63.96</td><td>8</td><td>New York</td></tr><tr><td>ORDER-B30878</td><td>USER-B4631C</td><td>702-1</td><td>93</td><td>73.72</td><td>10</td><td>Phoenix</td></tr><tr><td>ORDER-52C36A</td><td>USER-4E7EE0</td><td>10701-1</td><td>93</td><td>82.43</td><td>3</td><td>New York</td></tr><tr><td>ORDER-52C36A</td><td>USER-4E7EE0</td><td>10701-1</td><td>93</td><td>82.43</td><td>3</td><td>Houston</td></tr><tr><td>ORDER-DFD6EF</td><td>USER-EBFA58</td><td>10240-1</td><td>93</td><td>31.53</td><td>9</td><td>New York</td></tr><tr><td>ORDER-7CF6A3</td><td>USER-2271C5</td><td>10572-1</td><td>93</td><td>93.32</td><td>9</td><td>Houston</td></tr><tr><td>ORDER-3FA636</td><td>USER-BD2CF3</td><td>218158-1</td><td>93</td><td>57.71</td><td>2</td><td>Chicago</td></tr><tr><td>ORDER-3FA636</td><td>USER-BD2CF3</td><td>218158-1</td><td>93</td><td>57.71</td><td>2</td><td>Chicago</td></tr><tr><td>ORDER-27FEF1</td><td>USER-B9A3A0</td><td>10059-1</td><td>93</td><td>34.28</td><td>10</td><td>Chicago</td></tr><tr><td>ORDER-878225</td><td>USER-57451F</td><td>10292-1</td><td>93</td><td>35.83</td><td>8</td><td>Chicago</td></tr><tr><td>ORDER-F3C4DD</td><td>USER-B78963</td><td>7511-1</td><td>93</td><td>68.59</td><td>9</td><td>Los Angeles</td></tr><tr><td>ORDER-F928EE</td><td>USER-6C595C</td><td>10572-1</td><td>93</td><td>33.24</td><td>2</td><td>New York</td></tr><tr><td>ORDER-F928EE</td><td>USER-6C595C</td><td>10572-1</td><td>93</td><td>33.24</td><td>2</td><td>Phoenix</td></tr><tr><td>ORDER-1E77E6</td><td>USER-47A71B</td><td>41801-1</td><td>93</td><td>41.06</td><td>2</td><td>New York</td></tr><tr><td>ORDER-1E77E6</td><td>USER-47A71B</td><td>41801-1</td><td>93</td><td>41.06</td><td>2</td><td>Los Angeles</td></tr><tr><td>ORDER-83497F</td><td>USER-979A5B</td><td>5007877-1</td><td>93</td><td>42.0</td><td>3</td><td>Phoenix</td></tr><tr><td>ORDER-1F17B9</td><td>USER-8F390C</td><td>102-1</td><td>93</td><td>16.55</td><td>4</td><td>Chicago</td></tr><tr><td>ORDER-1F17B9</td><td>USER-8F390C</td><td>102-1</td><td>93</td><td>16.55</td><td>4</td><td>Chicago</td></tr><tr><td>ORDER-1F17B9</td><td>USER-8F390C</td><td>102-1</td><td>93</td><td>16.55</td><td>4</td><td>Phoenix</td></tr><tr><td>ORDER-1F17B9</td><td>USER-8F390C</td><td>102-1</td><td>93</td><td>16.55</td><td>4</td><td>Houston</td></tr><tr><td>ORDER-8D1F83</td><td>USER-15A825</td><td>045-1</td><td>93</td><td>52.61</td><td>9</td><td>Chicago</td></tr><tr><td>ORDER-2C98E9</td><td>USER-A080AD</td><td>1062-1</td><td>93</td><td>49.55</td><td>1</td><td>Chicago</td></tr><tr><td>ORDER-2C98E9</td><td>USER-A080AD</td><td>1062-1</td><td>93</td><td>49.55</td><td>1</td><td>Chicago</td></tr><tr><td>ORDER-EAB30F</td><td>USER-C33439</td><td>41801-1</td><td>93</td><td>68.83</td><td>10</td><td>New York</td></tr><tr><td>ORDER-B0C31E</td><td>USER-CFA978</td><td>10391-1</td><td>93</td><td>84.03</td><td>9</td><td>Houston</td></tr><tr><td>ORDER-5D539F</td><td>USER-E5B37B</td><td>10019-1</td><td>93</td><td>36.2</td><td>9</td><td>Chicago</td></tr><tr><td>ORDER-BB5E0A</td><td>USER-15F52C</td><td>21-1</td><td>93</td><td>56.81</td><td>8</td><td>Chicago</td></tr><tr><td>ORDER-BB5E0A</td><td>USER-15F52C</td><td>21-1</td><td>93</td><td>56.81</td><td>8</td><td>Houston</td></tr><tr><td>ORDER-9BC799</td><td>USER-E242F4</td><td>70706-1</td><td>93</td><td>59.73</td><td>4</td><td>Houston</td></tr><tr><td>ORDER-A95DCB</td><td>USER-A0B986</td><td>10292-1</td><td>93</td><td>23.07</td><td>1</td><td>Chicago</td></tr><tr><td>ORDER-A95DCB</td><td>USER-A0B986</td><td>10292-1</td><td>93</td><td>23.07</td><td>1</td><td>Los Angeles</td></tr><tr><td>ORDER-F24BEE</td><td>USER-EB307F</td><td>951178-1</td><td>93</td><td>71.05</td><td>7</td><td>Los Angeles</td></tr><tr><td>ORDER-21E9BD</td><td>USER-18A1FC</td><td>045-1</td><td>93</td><td>70.55</td><td>1</td><td>Chicago</td></tr><tr><td>ORDER-21E9BD</td><td>USER-18A1FC</td><td>045-1</td><td>93</td><td>70.55</td><td>1</td><td>Chicago</td></tr><tr><td>ORDER-21E9BD</td><td>USER-18A1FC</td><td>045-1</td><td>93</td><td>70.55</td><td>1</td><td>Chicago</td></tr><tr><td>ORDER-0D1516</td><td>USER-6D4F60</td><td>102-1</td><td>93</td><td>33.55</td><td>1</td><td>New York</td></tr><tr><td>ORDER-E369AA</td><td>USER-5925FF</td><td>10292-1</td><td>93</td><td>53.94</td><td>3</td><td>Chicago</td></tr><tr><td>ORDER-83497F</td><td>USER-979A5B</td><td>0015-1</td><td>93</td><td>78.46</td><td>9</td><td>Phoenix</td></tr><tr><td>ORDER-E07BD0</td><td>USER-188299</td><td>702-1</td><td>93</td><td>66.55</td><td>3</td><td>Houston</td></tr><tr><td>ORDER-E07BD0</td><td>USER-188299</td><td>702-1</td><td>93</td><td>66.55</td><td>3</td><td>Phoenix</td></tr><tr><td>ORDER-C2E005</td><td>USER-95E279</td><td>7042-1</td><td>93</td><td>94.22</td><td>9</td><td>Phoenix</td></tr><tr><td>ORDER-C2E005</td><td>USER-95E279</td><td>7042-1</td><td>93</td><td>94.22</td><td>9</td><td>Chicago</td></tr><tr><td>ORDER-C2E005</td><td>USER-95E279</td><td>7042-1</td><td>93</td><td>94.22</td><td>9</td><td>New York</td></tr><tr><td>ORDER-5D51DC</td><td>USER-DB34C6</td><td>1062-1</td><td>93</td><td>72.35</td><td>9</td><td>Houston</td></tr><tr><td>ORDER-5D51DC</td><td>USER-DB34C6</td><td>1062-1</td><td>93</td><td>72.35</td><td>9</td><td>New York</td></tr><tr><td>ORDER-34079F</td><td>USER-30FF71</td><td>211901-1</td><td>93</td><td>83.53</td><td>6</td><td>Phoenix</td></tr><tr><td>ORDER-9AC064</td><td>USER-180E72</td><td>10511-1</td><td>93</td><td>43.0</td><td>9</td><td>Chicago</td></tr><tr><td>ORDER-1F830C</td><td>USER-04B139</td><td>21-1</td><td>93</td><td>91.32</td><td>2</td><td>Houston</td></tr><tr><td>ORDER-20F72B</td><td>USER-1F494D</td><td>101032405-1</td><td>93</td><td>14.43</td><td>7</td><td>Phoenix</td></tr><tr><td>ORDER-20F72B</td><td>USER-1F494D</td><td>101032405-1</td><td>93</td><td>14.43</td><td>7</td><td>Chicago</td></tr><tr><td>ORDER-20F72B</td><td>USER-1F494D</td><td>101032405-1</td><td>93</td><td>14.43</td><td>7</td><td>Houston</td></tr><tr><td>ORDER-2838F2</td><td>USER-B2DD27</td><td>7042-1</td><td>93</td><td>60.66</td><td>3</td><td>Houston</td></tr><tr><td>ORDER-2838F2</td><td>USER-B2DD27</td><td>7042-1</td><td>93</td><td>60.66</td><td>3</td><td>Phoenix</td></tr><tr><td>ORDER-EBBF91</td><td>USER-1DBAEA</td><td>21-1</td><td>93</td><td>76.75</td><td>5</td><td>Phoenix</td></tr><tr><td>ORDER-086FBF</td><td>USER-4B094C</td><td>5007877-1</td><td>93</td><td>98.0</td><td>8</td><td>Phoenix</td></tr><tr><td>ORDER-8BB7A8</td><td>USER-683BF7</td><td>21000-1</td><td>93</td><td>68.67</td><td>10</td><td>Houston</td></tr><tr><td>ORDER-D8440B</td><td>USER-76F258</td><td>21344-1</td><td>93</td><td>27.4</td><td>7</td><td>Los Angeles</td></tr><tr><td>ORDER-D8440B</td><td>USER-76F258</td><td>21344-1</td><td>93</td><td>27.4</td><td>7</td><td>New York</td></tr><tr><td>ORDER-62FA5C</td><td>USER-943267</td><td>10059-1</td><td>93</td><td>62.14</td><td>3</td><td>New York</td></tr><tr><td>ORDER-62FA5C</td><td>USER-943267</td><td>10059-1</td><td>93</td><td>62.14</td><td>3</td><td>Phoenix</td></tr><tr><td>ORDER-62FA5C</td><td>USER-943267</td><td>10059-1</td><td>93</td><td>62.14</td><td>3</td><td>New York</td></tr><tr><td>ORDER-F9D786</td><td>USER-A9E1A9</td><td>10019-1</td><td>93</td><td>89.27</td><td>3</td><td>New York</td></tr><tr><td>ORDER-F9D786</td><td>USER-A9E1A9</td><td>10019-1</td><td>93</td><td>89.27</td><td>3</td><td>Los Angeles</td></tr><tr><td>ORDER-A20C0B</td><td>USER-911B35</td><td>10511-1</td><td>93</td><td>44.46</td><td>9</td><td>Houston</td></tr><tr><td>ORDER-A4C864</td><td>USER-A312EA</td><td>10391-1</td><td>93</td><td>88.73</td><td>10</td><td>Houston</td></tr><tr><td>ORDER-7831F6</td><td>USER-ADC4C3</td><td>218158-1</td><td>93</td><td>9.95</td><td>9</td><td>New York</td></tr><tr><td>ORDER-98CD6B</td><td>USER-599B13</td><td>010-1</td><td>93</td><td>71.91</td><td>7</td><td>Los Angeles</td></tr><tr><td>ORDER-382E09</td><td>USER-498D40</td><td>41944-1</td><td>93</td><td>78.13</td><td>1</td><td>Houston</td></tr><tr><td>ORDER-634948</td><td>USER-4C764F</td><td>5007392-1</td><td>93</td><td>5.79</td><td>5</td><td>Phoenix</td></tr><tr><td>ORDER-AF3F95</td><td>USER-2164A9</td><td>702-1</td><td>93</td><td>39.44</td><td>3</td><td>Phoenix</td></tr><tr><td>ORDER-AF3F95</td><td>USER-2164A9</td><td>702-1</td><td>93</td><td>39.44</td><td>3</td><td>New York</td></tr><tr><td>ORDER-CFE157</td><td>USER-7E2207</td><td>41944-1</td><td>93</td><td>37.95</td><td>1</td><td>Houston</td></tr><tr><td>ORDER-5CE28B</td><td>USER-860AA9</td><td>10133-1</td><td>93</td><td>18.71</td><td>9</td><td>Los Angeles</td></tr><tr><td>ORDER-26385D</td><td>USER-FC2F54</td><td>5007392-1</td><td>93</td><td>8.06</td><td>7</td><td>Phoenix</td></tr><tr><td>ORDER-0D37D9</td><td>USER-8A05C5</td><td>10240-1</td><td>93</td><td>26.84</td><td>9</td><td>Los Angeles</td></tr><tr><td>ORDER-35AA7C</td><td>USER-47A71B</td><td>70706-1</td><td>93</td><td>60.42</td><td>10</td><td>New York</td></tr><tr><td>ORDER-35AA7C</td><td>USER-47A71B</td><td>70706-1</td><td>93</td><td>60.42</td><td>10</td><td>Los Angeles</td></tr><tr><td>ORDER-618DE2</td><td>USER-95E279</td><td>5008162-1</td><td>93</td><td>85.59</td><td>4</td><td>Chicago</td></tr><tr><td>ORDER-618DE2</td><td>USER-95E279</td><td>5008162-1</td><td>93</td><td>85.59</td><td>4</td><td>New York</td></tr><tr><td>ORDER-618DE2</td><td>USER-95E279</td><td>5008162-1</td><td>93</td><td>85.59</td><td>4</td><td>New York</td></tr><tr><td>ORDER-27FEF1</td><td>USER-B9A3A0</td><td>271723-1</td><td>93</td><td>53.38</td><td>9</td><td>Chicago</td></tr><tr><td>ORDER-3870B5</td><td>USER-7EC40C</td><td>0906946506-1</td><td>93</td><td>36.38</td><td>5</td><td>Houston</td></tr><tr><td>ORDER-3870B5</td><td>USER-7EC40C</td><td>0906946506-1</td><td>93</td><td>36.38</td><td>5</td><td>Phoenix</td></tr><tr><td>ORDER-91D8FB</td><td>USER-D75F47</td><td>70706-1</td><td>93</td><td>49.34</td><td>10</td><td>Los Angeles</td></tr><tr><td>ORDER-5E6C64</td><td>USER-FD6D91</td><td>1000565897-5</td><td>93</td><td>59.89</td><td>3</td><td>Los Angeles</td></tr><tr><td>ORDER-EF8ABA</td><td>USER-C0D1EE</td><td>10572-1</td><td>93</td><td>22.17</td><td>6</td><td>Chicago</td></tr><tr><td>ORDER-C5FCB4</td><td>USER-E2D27C</td><td>101032405-1</td><td>93</td><td>69.84</td><td>2</td><td>Los Angeles</td></tr><tr><td>ORDER-223CD3</td><td>USER-416FA4</td><td>10701-1</td><td>93</td><td>94.28</td><td>5</td><td>New York</td></tr><tr><td>ORDER-4DA53E</td><td>USER-E242F4</td><td>10019-1</td><td>93</td><td>51.31</td><td>6</td><td>Houston</td></tr><tr><td>ORDER-4DA53E</td><td>USER-E242F4</td><td>10019-1</td><td>93</td><td>51.31</td><td>6</td><td>Phoenix</td></tr><tr><td>ORDER-4DA53E</td><td>USER-E242F4</td><td>10019-1</td><td>93</td><td>51.31</td><td>6</td><td>Phoenix</td></tr><tr><td>ORDER-AEF960</td><td>USER-8EC82D</td><td>215-2B</td><td>93</td><td>30.08</td><td>2</td><td>New York</td></tr><tr><td>ORDER-AEF960</td><td>USER-8EC82D</td><td>215-2B</td><td>93</td><td>30.08</td><td>2</td><td>Chicago</td></tr><tr><td>ORDER-43477C</td><td>USER-15D19E</td><td>21344-1</td><td>93</td><td>46.62</td><td>1</td><td>New York</td></tr><tr><td>ORDER-20CAF9</td><td>USER-861016</td><td>41801-1</td><td>93</td><td>76.15</td><td>2</td><td>Houston</td></tr><tr><td>ORDER-6EFF37</td><td>USER-DB0F57</td><td>218158-1</td><td>93</td><td>85.49</td><td>5</td><td>Houston</td></tr><tr><td>ORDER-A7CAC3</td><td>USER-C17CA5</td><td>0015-1</td><td>93</td><td>99.52</td><td>9</td><td>Chicago</td></tr><tr><td>ORDER-A7CAC3</td><td>USER-C17CA5</td><td>0015-1</td><td>93</td><td>99.52</td><td>9</td><td>Houston</td></tr><tr><td>ORDER-B57468</td><td>USER-67DAF1</td><td>7511-1</td><td>93</td><td>56.12</td><td>2</td><td>Phoenix</td></tr><tr><td>ORDER-7D6CAE</td><td>USER-B97CEF</td><td>215-2B</td><td>93</td><td>18.64</td><td>10</td><td>Phoenix</td></tr><tr><td>ORDER-7D6CAE</td><td>USER-B97CEF</td><td>215-2B</td><td>93</td><td>18.64</td><td>10</td><td>New York</td></tr><tr><td>ORDER-6402CB</td><td>USER-0872CF</td><td>10133-1</td><td>93</td><td>10.47</td><td>4</td><td>Phoenix</td></tr><tr><td>ORDER-6402CB</td><td>USER-0872CF</td><td>10133-1</td><td>93</td><td>10.47</td><td>4</td><td>Houston</td></tr><tr><td>ORDER-FB8B89</td><td>USER-A312EA</td><td>21-1</td><td>93</td><td>53.61</td><td>3</td><td>Chicago</td></tr><tr><td>ORDER-B254EB</td><td>USER-FE1598</td><td>226-4</td><td>93</td><td>44.29</td><td>8</td><td>Phoenix</td></tr><tr><td>ORDER-A679C0</td><td>USER-7D9219</td><td>10511-1</td><td>93</td><td>24.28</td><td>3</td><td>Chicago</td></tr><tr><td>ORDER-A679C0</td><td>USER-7D9219</td><td>10511-1</td><td>93</td><td>24.28</td><td>3</td><td>Chicago</td></tr><tr><td>ORDER-912882</td><td>USER-C23529</td><td>0015-1</td><td>93</td><td>77.96</td><td>6</td><td>New York</td></tr><tr><td>ORDER-912882</td><td>USER-C23529</td><td>0015-1</td><td>93</td><td>77.96</td><td>6</td><td>New York</td></tr><tr><td>ORDER-912882</td><td>USER-C23529</td><td>0015-1</td><td>93</td><td>77.96</td><td>6</td><td>Phoenix</td></tr><tr><td>ORDER-118D33</td><td>USER-D1550A</td><td>5007613-1</td><td>93</td><td>44.54</td><td>8</td><td>New York</td></tr><tr><td>ORDER-DC5B40</td><td>USER-25B3F3</td><td>101032405-1</td><td>93</td><td>25.38</td><td>8</td><td>Houston</td></tr><tr><td>ORDER-466381</td><td>USER-FC2F54</td><td>045-1</td><td>93</td><td>53.81</td><td>5</td><td>Chicago</td></tr><tr><td>ORDER-466381</td><td>USER-FC2F54</td><td>045-1</td><td>93</td><td>53.81</td><td>5</td><td>Phoenix</td></tr><tr><td>ORDER-0D37EA</td><td>USER-27E84C</td><td>21000-1</td><td>93</td><td>61.4</td><td>9</td><td>New York</td></tr><tr><td>ORDER-9A8DEE</td><td>USER-932C65</td><td>5007613-1</td><td>93</td><td>74.25</td><td>5</td><td>Los Angeles</td></tr><tr><td>ORDER-9A8DEE</td><td>USER-932C65</td><td>5007613-1</td><td>93</td><td>74.25</td><td>5</td><td>Houston</td></tr><tr><td>ORDER-524BB5</td><td>USER-C75D9C</td><td>211901-1</td><td>93</td><td>33.39</td><td>9</td><td>New York</td></tr><tr><td>ORDER-1BF707</td><td>USER-598571</td><td>10041-1</td><td>93</td><td>52.96</td><td>7</td><td>Houston</td></tr><tr><td>ORDER-7A60A1</td><td>USER-6345D8</td><td>10240-1</td><td>93</td><td>33.76</td><td>10</td><td>Chicago</td></tr><tr><td>ORDER-7A60A1</td><td>USER-6345D8</td><td>10240-1</td><td>93</td><td>33.76</td><td>10</td><td>Los Angeles</td></tr><tr><td>ORDER-A430D2</td><td>USER-8C9F7F</td><td>271723-1</td><td>93</td><td>17.65</td><td>8</td><td>Houston</td></tr><tr><td>ORDER-4AE98C</td><td>USER-3AAAE1</td><td>218158-1</td><td>93</td><td>71.42</td><td>5</td><td>Phoenix</td></tr><tr><td>ORDER-B03B63</td><td>USER-E8667E</td><td>5007877-1</td><td>93</td><td>61.3</td><td>6</td><td>Phoenix</td></tr><tr><td>ORDER-B03B63</td><td>USER-E8667E</td><td>5007877-1</td><td>93</td><td>61.3</td><td>6</td><td>Phoenix</td></tr><tr><td>ORDER-B03B63</td><td>USER-E8667E</td><td>5007877-1</td><td>93</td><td>61.3</td><td>6</td><td>New York</td></tr><tr><td>ORDER-B03B63</td><td>USER-E8667E</td><td>5007877-1</td><td>93</td><td>61.3</td><td>6</td><td>Houston</td></tr><tr><td>ORDER-1061D5</td><td>USER-33D9C9</td><td>0015-1</td><td>93</td><td>11.81</td><td>10</td><td>Houston</td></tr><tr><td>ORDER-B262CC</td><td>USER-32381B</td><td>10391-1</td><td>93</td><td>20.91</td><td>6</td><td>Phoenix</td></tr><tr><td>ORDER-B262CC</td><td>USER-32381B</td><td>10391-1</td><td>93</td><td>20.91</td><td>6</td><td>New York</td></tr><tr><td>ORDER-B262CC</td><td>USER-32381B</td><td>10391-1</td><td>93</td><td>20.91</td><td>6</td><td>Chicago</td></tr><tr><td>ORDER-0D37EA</td><td>USER-27E84C</td><td>7042-1</td><td>93</td><td>32.76</td><td>9</td><td>New York</td></tr><tr><td>ORDER-F2167C</td><td>USER-8C9F7F</td><td>1062-1</td><td>93</td><td>78.01</td><td>8</td><td>Phoenix</td></tr><tr><td>ORDER-F2167C</td><td>USER-8C9F7F</td><td>1062-1</td><td>93</td><td>78.01</td><td>8</td><td>New York</td></tr><tr><td>ORDER-9092A4</td><td>USER-CC9DBB</td><td>5007613-1</td><td>93</td><td>33.87</td><td>7</td><td>Phoenix</td></tr><tr><td>ORDER-45179A</td><td>USER-2A1E37</td><td>41944-1</td><td>93</td><td>68.44</td><td>5</td><td>Phoenix</td></tr><tr><td>ORDER-215C31</td><td>USER-861016</td><td>41944-1</td><td>93</td><td>18.58</td><td>6</td><td>Phoenix</td></tr><tr><td>ORDER-31AFF3</td><td>USER-6FC6C1</td><td>21000-1</td><td>93</td><td>8.48</td><td>8</td><td>Phoenix</td></tr><tr><td>ORDER-31AFF3</td><td>USER-6FC6C1</td><td>21000-1</td><td>93</td><td>8.48</td><td>8</td><td>Los Angeles</td></tr><tr><td>ORDER-9AC064</td><td>USER-180E72</td><td>41944-1</td><td>93</td><td>80.57</td><td>8</td><td>Chicago</td></tr><tr><td>ORDER-B333A2</td><td>USER-DB1CBD</td><td>21344-1</td><td>93</td><td>85.89</td><td>4</td><td>New York</td></tr><tr><td>ORDER-BD6FA5</td><td>USER-31B35C</td><td>21344-1</td><td>93</td><td>80.62</td><td>2</td><td>New York</td></tr><tr><td>ORDER-BD6FA5</td><td>USER-31B35C</td><td>21344-1</td><td>93</td><td>80.62</td><td>2</td><td>New York</td></tr><tr><td>ORDER-3E25C2</td><td>USER-8BA361</td><td>10019-1</td><td>93</td><td>20.3</td><td>10</td><td>Chicago</td></tr><tr><td>ORDER-3E25C2</td><td>USER-8BA361</td><td>10019-1</td><td>93</td><td>20.3</td><td>10</td><td>Los Angeles</td></tr><tr><td>ORDER-0CB00B</td><td>USER-CA74DB</td><td>21000-1</td><td>93</td><td>44.4</td><td>8</td><td>Houston</td></tr><tr><td>ORDER-0CB00B</td><td>USER-CA74DB</td><td>21000-1</td><td>93</td><td>44.4</td><td>8</td><td>Phoenix</td></tr><tr><td>ORDER-0CB00B</td><td>USER-CA74DB</td><td>21000-1</td><td>93</td><td>44.4</td><td>8</td><td>Los Angeles</td></tr><tr><td>ORDER-A0F870</td><td>USER-E8667E</td><td>5008162-1</td><td>93</td><td>90.8</td><td>1</td><td>Phoenix</td></tr><tr><td>ORDER-A0F870</td><td>USER-E8667E</td><td>5008162-1</td><td>93</td><td>90.8</td><td>1</td><td>New York</td></tr><tr><td>ORDER-A0F870</td><td>USER-E8667E</td><td>5008162-1</td><td>93</td><td>90.8</td><td>1</td><td>Los Angeles</td></tr><tr><td>ORDER-A5C263</td><td>USER-FD6D91</td><td>271723-1</td><td>93</td><td>76.64</td><td>9</td><td>Los Angeles</td></tr><tr><td>ORDER-C4C9E3</td><td>USER-426B08</td><td>10292-1</td><td>93</td><td>95.85</td><td>1</td><td>Houston</td></tr><tr><td>ORDER-C4C9E3</td><td>USER-426B08</td><td>10292-1</td><td>93</td><td>95.85</td><td>1</td><td>Houston</td></tr><tr><td>ORDER-3632AD</td><td>USER-480160</td><td>211901-1</td><td>93</td><td>45.87</td><td>1</td><td>Houston</td></tr><tr><td>ORDER-C26A1D</td><td>USER-AC3AF3</td><td>702-1</td><td>93</td><td>53.18</td><td>3</td><td>New York</td></tr><tr><td>ORDER-91525A</td><td>USER-3F5722</td><td>21000-1</td><td>93</td><td>5.77</td><td>8</td><td>New York</td></tr><tr><td>ORDER-91525A</td><td>USER-3F5722</td><td>21000-1</td><td>93</td><td>5.77</td><td>8</td><td>Phoenix</td></tr><tr><td>ORDER-7A5775</td><td>USER-8758D7</td><td>0015-1</td><td>93</td><td>35.56</td><td>4</td><td>Los Angeles</td></tr><tr><td>ORDER-7A5775</td><td>USER-8758D7</td><td>0015-1</td><td>93</td><td>35.56</td><td>4</td><td>New York</td></tr><tr><td>ORDER-7E0D10</td><td>USER-63AC25</td><td>102-1</td><td>93</td><td>26.84</td><td>6</td><td>Chicago</td></tr><tr><td>ORDER-37F7B2</td><td>USER-683BF7</td><td>41801-1</td><td>93</td><td>65.64</td><td>8</td><td>Los Angeles</td></tr><tr><td>ORDER-A7F8CB</td><td>USER-979A5B</td><td>21344-1</td><td>93</td><td>65.93</td><td>5</td><td>Houston</td></tr><tr><td>ORDER-62C886</td><td>USER-194560</td><td>218158-1</td><td>93</td><td>55.16</td><td>8</td><td>Houston</td></tr><tr><td>ORDER-62C886</td><td>USER-194560</td><td>218158-1</td><td>93</td><td>55.16</td><td>8</td><td>New York</td></tr><tr><td>ORDER-C43E6C</td><td>USER-453226</td><td>41801-1</td><td>93</td><td>62.01</td><td>2</td><td>Los Angeles</td></tr><tr><td>ORDER-C7295E</td><td>USER-248C05</td><td>10240-1</td><td>93</td><td>92.27</td><td>3</td><td>Phoenix</td></tr><tr><td>ORDER-C7295E</td><td>USER-248C05</td><td>10240-1</td><td>93</td><td>92.27</td><td>3</td><td>Los Angeles</td></tr><tr><td>ORDER-50CACD</td><td>USER-EBFA58</td><td>21000-1</td><td>93</td><td>77.16</td><td>9</td><td>New York</td></tr><tr><td>ORDER-88C43A</td><td>USER-BC070D</td><td>0015-1</td><td>93</td><td>44.0</td><td>7</td><td>New York</td></tr><tr><td>ORDER-C43E6C</td><td>USER-453226</td><td>10701-1</td><td>93</td><td>70.5</td><td>9</td><td>Los Angeles</td></tr><tr><td>ORDER-BBC529</td><td>USER-3E7413</td><td>1062-1</td><td>93</td><td>68.64</td><td>10</td><td>New York</td></tr><tr><td>ORDER-AEF960</td><td>USER-8EC82D</td><td>70706-1</td><td>93</td><td>6.05</td><td>6</td><td>New York</td></tr><tr><td>ORDER-AEF960</td><td>USER-8EC82D</td><td>70706-1</td><td>93</td><td>6.05</td><td>6</td><td>Chicago</td></tr><tr><td>ORDER-D1062A</td><td>USER-9B809D</td><td>215-2B</td><td>93</td><td>74.26</td><td>4</td><td>New York</td></tr><tr><td>ORDER-D1062A</td><td>USER-9B809D</td><td>215-2B</td><td>93</td><td>74.26</td><td>4</td><td>New York</td></tr><tr><td>ORDER-B69D44</td><td>USER-F8B6FD</td><td>41944-1</td><td>93</td><td>12.59</td><td>2</td><td>Phoenix</td></tr><tr><td>ORDER-D42D1E</td><td>USER-F368E9</td><td>10391-1</td><td>93</td><td>34.99</td><td>6</td><td>Phoenix</td></tr><tr><td>ORDER-D42D1E</td><td>USER-F368E9</td><td>10391-1</td><td>93</td><td>34.99</td><td>6</td><td>Los Angeles</td></tr><tr><td>ORDER-5B4E70</td><td>USER-4B094C</td><td>5007877-1</td><td>93</td><td>29.53</td><td>6</td><td>Chicago</td></tr><tr><td>ORDER-3EFE62</td><td>USER-F79860</td><td>226-4</td><td>93</td><td>57.35</td><td>10</td><td>Houston</td></tr><tr><td>ORDER-3EFE62</td><td>USER-F79860</td><td>226-4</td><td>93</td><td>57.35</td><td>10</td><td>New York</td></tr><tr><td>ORDER-D5EBAF</td><td>USER-60824F</td><td>2101259516196-1</td><td>93</td><td>79.49</td><td>10</td><td>Houston</td></tr><tr><td>ORDER-D5EBAF</td><td>USER-60824F</td><td>2101259516196-1</td><td>93</td><td>79.49</td><td>10</td><td>Chicago</td></tr><tr><td>ORDER-D5EBAF</td><td>USER-60824F</td><td>2101259516196-1</td><td>93</td><td>79.49</td><td>10</td><td>Houston</td></tr><tr><td>ORDER-8999B8</td><td>USER-7843DE</td><td>70706-1</td><td>93</td><td>36.07</td><td>2</td><td>Los Angeles</td></tr><tr><td>ORDER-16BD6C</td><td>USER-1780FC</td><td>010-1</td><td>93</td><td>6.34</td><td>3</td><td>Los Angeles</td></tr><tr><td>ORDER-507A74</td><td>USER-3889D1</td><td>702-1</td><td>93</td><td>77.5</td><td>7</td><td>Los Angeles</td></tr><tr><td>ORDER-507A74</td><td>USER-3889D1</td><td>702-1</td><td>93</td><td>77.5</td><td>7</td><td>Chicago</td></tr><tr><td>ORDER-E461DA</td><td>USER-CED89E</td><td>21000-1</td><td>93</td><td>76.98</td><td>7</td><td>New York</td></tr><tr><td>ORDER-E461DA</td><td>USER-CED89E</td><td>21000-1</td><td>93</td><td>76.98</td><td>7</td><td>Chicago</td></tr><tr><td>ORDER-E461DA</td><td>USER-CED89E</td><td>21000-1</td><td>93</td><td>76.98</td><td>7</td><td>Los Angeles</td></tr><tr><td>ORDER-3A0581</td><td>USER-D6E68C</td><td>10240-1</td><td>93</td><td>17.91</td><td>2</td><td>Los Angeles</td></tr><tr><td>ORDER-A20C0B</td><td>USER-911B35</td><td>21-1</td><td>93</td><td>58.82</td><td>10</td><td>Houston</td></tr><tr><td>ORDER-88C43A</td><td>USER-BC070D</td><td>21344-1</td><td>93</td><td>66.41</td><td>3</td><td>New York</td></tr><tr><td>ORDER-7C5F89</td><td>USER-7DE051</td><td>852545-1</td><td>93</td><td>51.37</td><td>9</td><td>Chicago</td></tr><tr><td>ORDER-7C5F89</td><td>USER-7DE051</td><td>852545-1</td><td>93</td><td>51.37</td><td>9</td><td>Los Angeles</td></tr><tr><td>ORDER-EF8ABA</td><td>USER-C0D1EE</td><td>951178-1</td><td>93</td><td>64.73</td><td>2</td><td>Chicago</td></tr><tr><td>ORDER-BB28F6</td><td>USER-B9A3A0</td><td>1000565897-5</td><td>93</td><td>27.27</td><td>1</td><td>Houston</td></tr><tr><td>ORDER-BB28F6</td><td>USER-B9A3A0</td><td>1000565897-5</td><td>93</td><td>27.27</td><td>1</td><td>Los Angeles</td></tr><tr><td>ORDER-4E042A</td><td>USER-1BE9FE</td><td>70706-1</td><td>93</td><td>18.48</td><td>2</td><td>New York</td></tr><tr><td>ORDER-4E042A</td><td>USER-1BE9FE</td><td>70706-1</td><td>93</td><td>18.48</td><td>2</td><td>New York</td></tr><tr><td>ORDER-4E042A</td><td>USER-1BE9FE</td><td>70706-1</td><td>93</td><td>18.48</td><td>2</td><td>Houston</td></tr><tr><td>ORDER-4D52A0</td><td>USER-6BBCB0</td><td>0015-1</td><td>93</td><td>88.0</td><td>4</td><td>Houston</td></tr><tr><td>ORDER-7CF6A3</td><td>USER-2271C5</td><td>10572-1</td><td>93</td><td>36.88</td><td>1</td><td>Houston</td></tr><tr><td>ORDER-5E6C64</td><td>USER-FD6D91</td><td>1062-1</td><td>93</td><td>50.63</td><td>7</td><td>Los Angeles</td></tr><tr><td>ORDER-AB8B30</td><td>USER-E06F35</td><td>065-1</td><td>93</td><td>83.18</td><td>9</td><td>Phoenix</td></tr><tr><td>ORDER-D4DE78</td><td>USER-33806A</td><td>0015-1</td><td>93</td><td>29.54</td><td>5</td><td>Los Angeles</td></tr><tr><td>ORDER-4219E0</td><td>USER-DA4EFA</td><td>1062-1</td><td>93</td><td>35.33</td><td>4</td><td>Houston</td></tr><tr><td>ORDER-4219E0</td><td>USER-DA4EFA</td><td>1062-1</td><td>93</td><td>35.33</td><td>4</td><td>Chicago</td></tr><tr><td>ORDER-DCDFEF</td><td>USER-455BD6</td><td>218158-1</td><td>93</td><td>23.58</td><td>8</td><td>Phoenix</td></tr><tr><td>ORDER-DCDFEF</td><td>USER-455BD6</td><td>218158-1</td><td>93</td><td>23.58</td><td>8</td><td>Phoenix</td></tr><tr><td>ORDER-DCDFEF</td><td>USER-455BD6</td><td>218158-1</td><td>93</td><td>23.58</td><td>8</td><td>Phoenix</td></tr><tr><td>ORDER-63C50C</td><td>USER-A1ED18</td><td>70706-1</td><td>93</td><td>76.09</td><td>10</td><td>New York</td></tr><tr><td>ORDER-CF700D</td><td>USER-19FF23</td><td>045-1</td><td>93</td><td>62.69</td><td>6</td><td>Los Angeles</td></tr><tr><td>ORDER-8AF000</td><td>USER-4A8196</td><td>10701-1</td><td>93</td><td>73.24</td><td>5</td><td>New York</td></tr><tr><td>ORDER-7ACFBA</td><td>USER-1F4D7E</td><td>21-1</td><td>93</td><td>23.04</td><td>5</td><td>New York</td></tr><tr><td>ORDER-7ACFBA</td><td>USER-1F4D7E</td><td>21-1</td><td>93</td><td>23.04</td><td>5</td><td>Phoenix</td></tr><tr><td>ORDER-CB1780</td><td>USER-CB76C0</td><td>10391-1</td><td>93</td><td>10.15</td><td>7</td><td>Chicago</td></tr><tr><td>ORDER-CB1780</td><td>USER-CB76C0</td><td>10391-1</td><td>93</td><td>10.15</td><td>7</td><td>Phoenix</td></tr><tr><td>ORDER-CB1780</td><td>USER-CB76C0</td><td>10391-1</td><td>93</td><td>10.15</td><td>7</td><td>Chicago</td></tr><tr><td>ORDER-CE3466</td><td>USER-DC58AF</td><td>1062-1</td><td>93</td><td>53.51</td><td>5</td><td>New York</td></tr><tr><td>ORDER-D3E16A</td><td>USER-6CE8EA</td><td>271723-1</td><td>93</td><td>12.07</td><td>9</td><td>Los Angeles</td></tr><tr><td>ORDER-50CACD</td><td>USER-EBFA58</td><td>271723-1</td><td>93</td><td>19.21</td><td>4</td><td>New York</td></tr><tr><td>ORDER-2EFE41</td><td>USER-431BA8</td><td>242.1-1</td><td>93</td><td>42.52</td><td>10</td><td>Los Angeles</td></tr><tr><td>ORDER-0D90E6</td><td>USER-0F7987</td><td>5008162-1</td><td>93</td><td>95.72</td><td>5</td><td>New York</td></tr><tr><td>ORDER-0D90E6</td><td>USER-0F7987</td><td>5008162-1</td><td>93</td><td>95.72</td><td>5</td><td>New York</td></tr><tr><td>ORDER-DFD6EF</td><td>USER-EBFA58</td><td>702-1</td><td>93</td><td>31.6</td><td>1</td><td>New York</td></tr><tr><td>ORDER-926ACD</td><td>USER-357916</td><td>065-1</td><td>93</td><td>78.43</td><td>9</td><td>Houston</td></tr><tr><td>ORDER-926ACD</td><td>USER-357916</td><td>065-1</td><td>93</td><td>78.43</td><td>9</td><td>Los Angeles</td></tr><tr><td>ORDER-D2894B</td><td>USER-8BA172</td><td>101032405-1</td><td>93</td><td>99.75</td><td>3</td><td>Los Angeles</td></tr><tr><td>ORDER-D2894B</td><td>USER-8BA172</td><td>101032405-1</td><td>93</td><td>99.75</td><td>3</td><td>Phoenix</td></tr><tr><td>ORDER-A20C0B</td><td>USER-911B35</td><td>5008162-1</td><td>93</td><td>10.69</td><td>9</td><td>Houston</td></tr><tr><td>ORDER-9B98C9</td><td>USER-849F44</td><td>10572-1</td><td>93</td><td>34.79</td><td>6</td><td>Phoenix</td></tr><tr><td>ORDER-7CF6A3</td><td>USER-2271C5</td><td>10292-1</td><td>93</td><td>73.65</td><td>1</td><td>Houston</td></tr><tr><td>ORDER-7425DB</td><td>USER-3DF342</td><td>1000565897-5</td><td>93</td><td>63.73</td><td>9</td><td>Houston</td></tr><tr><td>ORDER-7425DB</td><td>USER-3DF342</td><td>1000565897-5</td><td>93</td><td>63.73</td><td>9</td><td>Los Angeles</td></tr><tr><td>ORDER-BA6F4E</td><td>USER-474C16</td><td>10240-1</td><td>93</td><td>90.91</td><td>8</td><td>Houston</td></tr><tr><td>ORDER-54647B</td><td>USER-AF9E41</td><td>5009187-1</td><td>93</td><td>16.42</td><td>5</td><td>New York</td></tr><tr><td>ORDER-FDDA12</td><td>USER-BF53D1</td><td>215-2B</td><td>93</td><td>25.63</td><td>4</td><td>Houston</td></tr><tr><td>ORDER-5E5DD5</td><td>USER-431DD1</td><td>10059-1</td><td>93</td><td>26.91</td><td>6</td><td>Los Angeles</td></tr><tr><td>ORDER-B7FABF</td><td>USER-56108F</td><td>102-1</td><td>93</td><td>44.16</td><td>4</td><td>Los Angeles</td></tr><tr><td>ORDER-7D6CAE</td><td>USER-B97CEF</td><td>21-1</td><td>93</td><td>9.96</td><td>9</td><td>Phoenix</td></tr><tr><td>ORDER-7D6CAE</td><td>USER-B97CEF</td><td>21-1</td><td>93</td><td>9.96</td><td>9</td><td>New York</td></tr><tr><td>ORDER-D48057</td><td>USER-824789</td><td>226-4</td><td>93</td><td>97.45</td><td>10</td><td>New York</td></tr><tr><td>ORDER-E7D94C</td><td>USER-2F3B68</td><td>7511-1</td><td>93</td><td>94.24</td><td>1</td><td>Phoenix</td></tr><tr><td>ORDER-CF700D</td><td>USER-19FF23</td><td>10041-1</td><td>93</td><td>68.28</td><td>9</td><td>Los Angeles</td></tr><tr><td>ORDER-0BE3B7</td><td>USER-D96ED7</td><td>21000-1</td><td>93</td><td>37.31</td><td>8</td><td>New York</td></tr><tr><td>ORDER-0BE3B7</td><td>USER-D96ED7</td><td>21000-1</td><td>93</td><td>37.31</td><td>8</td><td>Chicago</td></tr><tr><td>ORDER-DEAF6D</td><td>USER-2910E0</td><td>2101259516196-1</td><td>93</td><td>45.06</td><td>2</td><td>New York</td></tr><tr><td>ORDER-965338</td><td>USER-7B7CDA</td><td>10173-1</td><td>93</td><td>13.65</td><td>7</td><td>Chicago</td></tr><tr><td>ORDER-B9C7FE</td><td>USER-4B2DC7</td><td>21344-1</td><td>93</td><td>52.27</td><td>4</td><td>Los Angeles</td></tr><tr><td>ORDER-FE527C</td><td>USER-F3C830</td><td>10391-1</td><td>93</td><td>67.71</td><td>3</td><td>Los Angeles</td></tr><tr><td>ORDER-FE527C</td><td>USER-F3C830</td><td>10391-1</td><td>93</td><td>67.71</td><td>3</td><td>Los Angeles</td></tr><tr><td>ORDER-149DE1</td><td>USER-3807BD</td><td>10041-1</td><td>93</td><td>89.75</td><td>2</td><td>Chicago</td></tr><tr><td>ORDER-149DE1</td><td>USER-3807BD</td><td>10041-1</td><td>93</td><td>89.75</td><td>2</td><td>Los Angeles</td></tr><tr><td>ORDER-E369AA</td><td>USER-5925FF</td><td>5008162-1</td><td>93</td><td>37.25</td><td>5</td><td>Chicago</td></tr><tr><td>ORDER-16F103</td><td>USER-AA6543</td><td>045-1</td><td>93</td><td>57.57</td><td>3</td><td>Chicago</td></tr><tr><td>ORDER-137EAF</td><td>USER-FC6AFC</td><td>41801-1</td><td>93</td><td>43.69</td><td>3</td><td>Los Angeles</td></tr><tr><td>ORDER-F7CB04</td><td>USER-FECDBD</td><td>102-1</td><td>93</td><td>42.77</td><td>3</td><td>Houston</td></tr><tr><td>ORDER-145817</td><td>USER-FE43B5</td><td>10292-1</td><td>93</td><td>52.08</td><td>4</td><td>Los Angeles</td></tr><tr><td>ORDER-145817</td><td>USER-FE43B5</td><td>10292-1</td><td>93</td><td>52.08</td><td>4</td><td>Chicago</td></tr><tr><td>ORDER-3DD018</td><td>USER-68940D</td><td>1062-1</td><td>93</td><td>59.26</td><td>1</td><td>Houston</td></tr><tr><td>ORDER-3DD018</td><td>USER-68940D</td><td>1062-1</td><td>93</td><td>59.26</td><td>1</td><td>Los Angeles</td></tr><tr><td>ORDER-FB8B89</td><td>USER-A312EA</td><td>5009187-1</td><td>93</td><td>97.22</td><td>6</td><td>Chicago</td></tr><tr><td>ORDER-3EFE62</td><td>USER-F79860</td><td>1000565897-5</td><td>93</td><td>91.12</td><td>8</td><td>Houston</td></tr><tr><td>ORDER-3EFE62</td><td>USER-F79860</td><td>1000565897-5</td><td>93</td><td>91.12</td><td>8</td><td>New York</td></tr><tr><td>ORDER-0F347C</td><td>USER-F916A5</td><td>1062-1</td><td>93</td><td>45.44</td><td>8</td><td>Chicago</td></tr><tr><td>ORDER-0F347C</td><td>USER-F916A5</td><td>1062-1</td><td>93</td><td>45.44</td><td>8</td><td>Chicago</td></tr><tr><td>ORDER-0F347C</td><td>USER-F916A5</td><td>1062-1</td><td>93</td><td>45.44</td><td>8</td><td>Chicago</td></tr><tr><td>ORDER-918744</td><td>USER-8FAF56</td><td>10240-1</td><td>93</td><td>15.58</td><td>1</td><td>Houston</td></tr><tr><td>ORDER-F35620</td><td>USER-932C65</td><td>10059-1</td><td>93</td><td>46.18</td><td>7</td><td>Los Angeles</td></tr><tr><td>ORDER-C4762F</td><td>USER-330452</td><td>21-1</td><td>93</td><td>82.48</td><td>1</td><td>Los Angeles</td></tr><tr><td>ORDER-A679C0</td><td>USER-7D9219</td><td>10019-1</td><td>93</td><td>47.69</td><td>3</td><td>Chicago</td></tr><tr><td>ORDER-A679C0</td><td>USER-7D9219</td><td>10019-1</td><td>93</td><td>47.69</td><td>3</td><td>Chicago</td></tr><tr><td>ORDER-DF3F2B</td><td>USER-17A6B0</td><td>21000-1</td><td>93</td><td>14.84</td><td>9</td><td>Chicago</td></tr><tr><td>ORDER-DF3F2B</td><td>USER-17A6B0</td><td>21000-1</td><td>93</td><td>14.84</td><td>9</td><td>New York</td></tr><tr><td>ORDER-6906E5</td><td>USER-D6DD28</td><td>5008162-1</td><td>93</td><td>30.94</td><td>6</td><td>Los Angeles</td></tr><tr><td>ORDER-C340DB</td><td>USER-B00705</td><td>1062-1</td><td>93</td><td>9.43</td><td>6</td><td>New York</td></tr><tr><td>ORDER-B407C9</td><td>USER-590AF1</td><td>10019-1</td><td>93</td><td>89.72</td><td>10</td><td>Los Angeles</td></tr><tr><td>ORDER-2E8A64</td><td>USER-2E0ED1</td><td>242.1-1</td><td>93</td><td>13.43</td><td>8</td><td>Los Angeles</td></tr><tr><td>ORDER-2BD2A0</td><td>USER-43E1A0</td><td>065-1</td><td>93</td><td>84.78</td><td>8</td><td>Houston</td></tr><tr><td>ORDER-2838F2</td><td>USER-B2DD27</td><td>10292-1</td><td>93</td><td>92.09</td><td>5</td><td>Houston</td></tr><tr><td>ORDER-2838F2</td><td>USER-B2DD27</td><td>10292-1</td><td>93</td><td>92.09</td><td>5</td><td>Phoenix</td></tr><tr><td>ORDER-A679C0</td><td>USER-7D9219</td><td>21-1</td><td>93</td><td>80.08</td><td>2</td><td>Chicago</td></tr><tr><td>ORDER-A679C0</td><td>USER-7D9219</td><td>21-1</td><td>93</td><td>80.08</td><td>2</td><td>Chicago</td></tr><tr><td>ORDER-978B16</td><td>USER-6EE64D</td><td>1062-1</td><td>93</td><td>41.88</td><td>4</td><td>Chicago</td></tr><tr><td>ORDER-978B16</td><td>USER-6EE64D</td><td>1062-1</td><td>93</td><td>41.88</td><td>4</td><td>Los Angeles</td></tr><tr><td>ORDER-E42E63</td><td>USER-723241</td><td>10511-1</td><td>93</td><td>37.87</td><td>4</td><td>New York</td></tr><tr><td>ORDER-98CD6B</td><td>USER-599B13</td><td>0015-1</td><td>93</td><td>5.84</td><td>1</td><td>Los Angeles</td></tr><tr><td>ORDER-7D6CAE</td><td>USER-B97CEF</td><td>41801-1</td><td>93</td><td>62.31</td><td>9</td><td>Phoenix</td></tr><tr><td>ORDER-7D6CAE</td><td>USER-B97CEF</td><td>41801-1</td><td>93</td><td>62.31</td><td>9</td><td>New York</td></tr><tr><td>ORDER-D4DE78</td><td>USER-33806A</td><td>10059-1</td><td>93</td><td>9.21</td><td>6</td><td>Los Angeles</td></tr><tr><td>ORDER-1BF707</td><td>USER-598571</td><td>010-1</td><td>93</td><td>48.45</td><td>3</td><td>Houston</td></tr><tr><td>ORDER-521238</td><td>USER-AD430F</td><td>2101259516196-1</td><td>93</td><td>64.57</td><td>2</td><td>New York</td></tr><tr><td>ORDER-521238</td><td>USER-AD430F</td><td>2101259516196-1</td><td>93</td><td>64.57</td><td>2</td><td>Houston</td></tr><tr><td>ORDER-52C36A</td><td>USER-4E7EE0</td><td>10059-1</td><td>93</td><td>56.77</td><td>6</td><td>New York</td></tr><tr><td>ORDER-52C36A</td><td>USER-4E7EE0</td><td>10059-1</td><td>93</td><td>56.77</td><td>6</td><td>Houston</td></tr><tr><td>ORDER-70755B</td><td>USER-9E3940</td><td>10701-1</td><td>93</td><td>99.48</td><td>4</td><td>Chicago</td></tr><tr><td>ORDER-70755B</td><td>USER-9E3940</td><td>10701-1</td><td>93</td><td>99.48</td><td>4</td><td>New York</td></tr><tr><td>ORDER-B9B22E</td><td>USER-27FA85</td><td>41801-1</td><td>93</td><td>8.61</td><td>5</td><td>New York</td></tr><tr><td>ORDER-B9B22E</td><td>USER-27FA85</td><td>41801-1</td><td>93</td><td>8.61</td><td>5</td><td>Chicago</td></tr><tr><td>ORDER-B9B22E</td><td>USER-27FA85</td><td>41801-1</td><td>93</td><td>8.61</td><td>5</td><td>Houston</td></tr><tr><td>ORDER-48F25F</td><td>USER-37EB14</td><td>5008162-1</td><td>93</td><td>50.12</td><td>8</td><td>Houston</td></tr><tr><td>ORDER-A14910</td><td>USER-1DBAEA</td><td>5008162-1</td><td>93</td><td>75.34</td><td>5</td><td>New York</td></tr><tr><td>ORDER-A14910</td><td>USER-1DBAEA</td><td>5008162-1</td><td>93</td><td>75.34</td><td>5</td><td>New York</td></tr><tr><td>ORDER-2838F2</td><td>USER-B2DD27</td><td>10059-1</td><td>93</td><td>73.73</td><td>3</td><td>Houston</td></tr><tr><td>ORDER-2838F2</td><td>USER-B2DD27</td><td>10059-1</td><td>93</td><td>73.73</td><td>3</td><td>Phoenix</td></tr><tr><td>ORDER-0175BA</td><td>USER-8B52B7</td><td>7511-1</td><td>93</td><td>35.38</td><td>2</td><td>Chicago</td></tr><tr><td>ORDER-0175BA</td><td>USER-8B52B7</td><td>7511-1</td><td>93</td><td>35.38</td><td>2</td><td>Houston</td></tr><tr><td>ORDER-8999B8</td><td>USER-7843DE</td><td>211901-1</td><td>93</td><td>36.88</td><td>6</td><td>Los Angeles</td></tr><tr><td>ORDER-0252DC</td><td>USER-9DCF37</td><td>010-1</td><td>93</td><td>50.91</td><td>10</td><td>Houston</td></tr><tr><td>ORDER-0252DC</td><td>USER-9DCF37</td><td>010-1</td><td>93</td><td>50.91</td><td>10</td><td>Phoenix</td></tr><tr><td>ORDER-021C98</td><td>USER-BE0A40</td><td>10041-1</td><td>93</td><td>63.31</td><td>1</td><td>Houston</td></tr><tr><td>ORDER-021C98</td><td>USER-BE0A40</td><td>10041-1</td><td>93</td><td>63.31</td><td>1</td><td>Los Angeles</td></tr><tr><td>ORDER-021C98</td><td>USER-BE0A40</td><td>10041-1</td><td>93</td><td>63.31</td><td>1</td><td>New York</td></tr><tr><td>ORDER-7F172E</td><td>USER-2FDE6D</td><td>21000-1</td><td>93</td><td>84.27</td><td>3</td><td>New York</td></tr><tr><td>ORDER-7F172E</td><td>USER-2FDE6D</td><td>21000-1</td><td>93</td><td>84.27</td><td>3</td><td>Phoenix</td></tr><tr><td>ORDER-9A8DEE</td><td>USER-932C65</td><td>5008162-1</td><td>93</td><td>7.69</td><td>6</td><td>Los Angeles</td></tr><tr><td>ORDER-9A8DEE</td><td>USER-932C65</td><td>5008162-1</td><td>93</td><td>7.69</td><td>6</td><td>Houston</td></tr><tr><td>ORDER-D770FF</td><td>USER-C29A5D</td><td>5009187-1</td><td>93</td><td>11.11</td><td>3</td><td>Los Angeles</td></tr><tr><td>ORDER-D770FF</td><td>USER-C29A5D</td><td>5009187-1</td><td>93</td><td>11.11</td><td>3</td><td>Los Angeles</td></tr><tr><td>ORDER-D770FF</td><td>USER-C29A5D</td><td>5009187-1</td><td>93</td><td>11.11</td><td>3</td><td>Los Angeles</td></tr><tr><td>ORDER-B9B22E</td><td>USER-27FA85</td><td>211901-1</td><td>93</td><td>89.4</td><td>9</td><td>New York</td></tr><tr><td>ORDER-B9B22E</td><td>USER-27FA85</td><td>211901-1</td><td>93</td><td>89.4</td><td>9</td><td>Chicago</td></tr><tr><td>ORDER-B9B22E</td><td>USER-27FA85</td><td>211901-1</td><td>93</td><td>89.4</td><td>9</td><td>Houston</td></tr><tr><td>ORDER-0D0E4A</td><td>USER-F8B6FD</td><td>10391-1</td><td>93</td><td>7.69</td><td>8</td><td>Houston</td></tr><tr><td>ORDER-A20C0B</td><td>USER-911B35</td><td>702-1</td><td>93</td><td>18.14</td><td>3</td><td>Houston</td></tr><tr><td>ORDER-1D6692</td><td>USER-D1550A</td><td>10133-1</td><td>93</td><td>20.2</td><td>10</td><td>Los Angeles</td></tr><tr><td>ORDER-88C43A</td><td>USER-BC070D</td><td>852545-1</td><td>93</td><td>41.14</td><td>7</td><td>New York</td></tr><tr><td>ORDER-3B7B64</td><td>USER-62FA85</td><td>10701-1</td><td>93</td><td>90.86</td><td>8</td><td>Los Angeles</td></tr><tr><td>ORDER-C237E8</td><td>USER-D6707B</td><td>5007877-1</td><td>93</td><td>26.1</td><td>6</td><td>Houston</td></tr><tr><td>ORDER-35CFDA</td><td>USER-FDEFC9</td><td>242.1-1</td><td>93</td><td>92.18</td><td>7</td><td>Phoenix</td></tr><tr><td>ORDER-77DBA8</td><td>USER-EF2B3A</td><td>10173-1</td><td>93</td><td>59.39</td><td>10</td><td>Phoenix</td></tr><tr><td>ORDER-CF700D</td><td>USER-19FF23</td><td>215-2B</td><td>93</td><td>13.03</td><td>6</td><td>Los Angeles</td></tr><tr><td>ORDER-5A19B2</td><td>USER-B9A581</td><td>852545-1</td><td>93</td><td>30.48</td><td>9</td><td>Houston</td></tr><tr><td>ORDER-9BC799</td><td>USER-E242F4</td><td>215-2B</td><td>93</td><td>86.45</td><td>3</td><td>Houston</td></tr><tr><td>ORDER-7A60A1</td><td>USER-6345D8</td><td>271723-1</td><td>93</td><td>16.36</td><td>5</td><td>Chicago</td></tr><tr><td>ORDER-7A60A1</td><td>USER-6345D8</td><td>271723-1</td><td>93</td><td>16.36</td><td>5</td><td>Los Angeles</td></tr><tr><td>ORDER-A43ED0</td><td>USER-889DB6</td><td>0015-1</td><td>93</td><td>33.15</td><td>10</td><td>Los Angeles</td></tr><tr><td>ORDER-DB3E6B</td><td>USER-AC2E26</td><td>1062-1</td><td>93</td><td>17.48</td><td>6</td><td>Chicago</td></tr><tr><td>ORDER-11476C</td><td>USER-AFB37A</td><td>10292-1</td><td>93</td><td>72.77</td><td>5</td><td>New York</td></tr><tr><td>ORDER-61D2E9</td><td>USER-66A3D6</td><td>10019-1</td><td>93</td><td>85.64</td><td>5</td><td>Phoenix</td></tr><tr><td>ORDER-A14910</td><td>USER-1DBAEA</td><td>10019-1</td><td>93</td><td>86.36</td><td>7</td><td>New York</td></tr><tr><td>ORDER-A14910</td><td>USER-1DBAEA</td><td>10019-1</td><td>93</td><td>86.36</td><td>7</td><td>New York</td></tr><tr><td>ORDER-21D186</td><td>USER-CB0C3C</td><td>0906946506-1</td><td>93</td><td>83.66</td><td>1</td><td>Phoenix</td></tr><tr><td>ORDER-21D186</td><td>USER-CB0C3C</td><td>0906946506-1</td><td>93</td><td>83.66</td><td>1</td><td>Chicago</td></tr><tr><td>ORDER-21D186</td><td>USER-CB0C3C</td><td>0906946506-1</td><td>93</td><td>83.66</td><td>1</td><td>Los Angeles</td></tr><tr><td>ORDER-21D186</td><td>USER-CB0C3C</td><td>0906946506-1</td><td>93</td><td>83.66</td><td>1</td><td>New York</td></tr><tr><td>ORDER-D65D6F</td><td>USER-01B9C4</td><td>10572-1</td><td>93</td><td>59.06</td><td>9</td><td>Los Angeles</td></tr><tr><td>ORDER-D65D6F</td><td>USER-01B9C4</td><td>10572-1</td><td>93</td><td>59.06</td><td>9</td><td>Los Angeles</td></tr><tr><td>ORDER-54647B</td><td>USER-AF9E41</td><td>5007613-1</td><td>93</td><td>89.22</td><td>10</td><td>New York</td></tr><tr><td>ORDER-D216F1</td><td>USER-6B95CD</td><td>226-4</td><td>93</td><td>81.1</td><td>6</td><td>Phoenix</td></tr><tr><td>ORDER-2EFE41</td><td>USER-431BA8</td><td>5007613-1</td><td>93</td><td>19.15</td><td>3</td><td>Los Angeles</td></tr><tr><td>ORDER-8BB7A8</td><td>USER-683BF7</td><td>10511-1</td><td>93</td><td>61.49</td><td>6</td><td>Houston</td></tr><tr><td>ORDER-B6C54C</td><td>USER-FB2F07</td><td>41944-1</td><td>93</td><td>71.29</td><td>7</td><td>Los Angeles</td></tr><tr><td>ORDER-B6C54C</td><td>USER-FB2F07</td><td>41944-1</td><td>93</td><td>71.29</td><td>7</td><td>Phoenix</td></tr><tr><td>ORDER-B6C54C</td><td>USER-FB2F07</td><td>41944-1</td><td>93</td><td>71.29</td><td>7</td><td>Los Angeles</td></tr><tr><td>ORDER-7B51EE</td><td>USER-0FCE24</td><td>10173-1</td><td>93</td><td>52.85</td><td>5</td><td>Chicago</td></tr><tr><td>ORDER-7B51EE</td><td>USER-0FCE24</td><td>10173-1</td><td>93</td><td>52.85</td><td>5</td><td>New York</td></tr><tr><td>ORDER-7B51EE</td><td>USER-0FCE24</td><td>10173-1</td><td>93</td><td>52.85</td><td>5</td><td>Chicago</td></tr><tr><td>ORDER-433D74</td><td>USER-F6A634</td><td>045-1</td><td>93</td><td>95.03</td><td>3</td><td>New York</td></tr><tr><td>ORDER-433D74</td><td>USER-F6A634</td><td>045-1</td><td>93</td><td>95.03</td><td>3</td><td>New York</td></tr><tr><td>ORDER-A4D3C9</td><td>USER-0EBD5F</td><td>10511-1</td><td>93</td><td>46.84</td><td>5</td><td>Chicago</td></tr><tr><td>ORDER-A4D3C9</td><td>USER-0EBD5F</td><td>10511-1</td><td>93</td><td>46.84</td><td>5</td><td>Houston</td></tr><tr><td>ORDER-3F0322</td><td>USER-AD8804</td><td>5007613-1</td><td>93</td><td>95.25</td><td>1</td><td>New York</td></tr><tr><td>ORDER-1236FB</td><td>USER-CA74DB</td><td>70706-1</td><td>93</td><td>56.01</td><td>8</td><td>New York</td></tr><tr><td>ORDER-0B1FDB</td><td>USER-2313F5</td><td>1000565897-5</td><td>93</td><td>18.98</td><td>9</td><td>Phoenix</td></tr><tr><td>ORDER-0B1FDB</td><td>USER-2313F5</td><td>1000565897-5</td><td>93</td><td>18.98</td><td>9</td><td>Los Angeles</td></tr><tr><td>ORDER-BC7A38</td><td>USER-8D2392</td><td>271723-1</td><td>93</td><td>39.31</td><td>8</td><td>Phoenix</td></tr><tr><td>ORDER-BC7A38</td><td>USER-8D2392</td><td>271723-1</td><td>93</td><td>39.31</td><td>8</td><td>Houston</td></tr><tr><td>ORDER-172701</td><td>USER-27E84C</td><td>21000-1</td><td>93</td><td>94.53</td><td>1</td><td>New York</td></tr><tr><td>ORDER-33854A</td><td>USER-C253C3</td><td>5009187-1</td><td>93</td><td>82.98</td><td>8</td><td>Phoenix</td></tr><tr><td>ORDER-33854A</td><td>USER-C253C3</td><td>5009187-1</td><td>93</td><td>82.98</td><td>8</td><td>Houston</td></tr><tr><td>ORDER-E221BD</td><td>USER-CDE765</td><td>2101259516196-1</td><td>93</td><td>53.18</td><td>1</td><td>Chicago</td></tr><tr><td>ORDER-899FD1</td><td>USER-26DF4D</td><td>21-1</td><td>93</td><td>27.79</td><td>10</td><td>New York</td></tr><tr><td>ORDER-7A5775</td><td>USER-8758D7</td><td>21-1</td><td>93</td><td>22.91</td><td>7</td><td>Los Angeles</td></tr><tr><td>ORDER-7A5775</td><td>USER-8758D7</td><td>21-1</td><td>93</td><td>22.91</td><td>7</td><td>New York</td></tr><tr><td>ORDER-3DA491</td><td>USER-B5879E</td><td>226-4</td><td>93</td><td>10.19</td><td>2</td><td>Los Angeles</td></tr><tr><td>ORDER-F521AC</td><td>USER-59B255</td><td>5007613-1</td><td>93</td><td>93.07</td><td>9</td><td>Los Angeles</td></tr><tr><td>ORDER-A1F1F8</td><td>USER-5DC3B9</td><td>10572-1</td><td>93</td><td>89.62</td><td>8</td><td>Chicago</td></tr><tr><td>ORDER-A1F1F8</td><td>USER-5DC3B9</td><td>10572-1</td><td>93</td><td>89.62</td><td>8</td><td>New York</td></tr><tr><td>ORDER-A1F1F8</td><td>USER-5DC3B9</td><td>10572-1</td><td>93</td><td>89.62</td><td>8</td><td>Phoenix</td></tr><tr><td>ORDER-382E09</td><td>USER-498D40</td><td>1000565897-5</td><td>93</td><td>75.75</td><td>2</td><td>Houston</td></tr><tr><td>ORDER-F514DA</td><td>USER-21CCA7</td><td>5009187-1</td><td>93</td><td>19.26</td><td>2</td><td>Chicago</td></tr><tr><td>ORDER-796465</td><td>USER-A4F730</td><td>10133-1</td><td>93</td><td>73.8</td><td>5</td><td>New York</td></tr><tr><td>ORDER-61D2E9</td><td>USER-66A3D6</td><td>242.1-1</td><td>93</td><td>33.53</td><td>10</td><td>Phoenix</td></tr><tr><td>ORDER-4779E9</td><td>USER-BB3D87</td><td>226-4</td><td>93</td><td>52.86</td><td>9</td><td>Los Angeles</td></tr><tr><td>ORDER-C0CE28</td><td>USER-ACA0D1</td><td>21344-1</td><td>93</td><td>30.77</td><td>1</td><td>Los Angeles</td></tr><tr><td>ORDER-3E25C2</td><td>USER-8BA361</td><td>10041-1</td><td>93</td><td>97.11</td><td>9</td><td>Chicago</td></tr><tr><td>ORDER-3E25C2</td><td>USER-8BA361</td><td>10041-1</td><td>93</td><td>97.11</td><td>9</td><td>Los Angeles</td></tr><tr><td>ORDER-868618</td><td>USER-486882</td><td>951178-1</td><td>93</td><td>90.62</td><td>4</td><td>Houston</td></tr><tr><td>ORDER-B30878</td><td>USER-B4631C</td><td>102-1</td><td>93</td><td>59.74</td><td>2</td><td>Phoenix</td></tr><tr><td>ORDER-9B98C9</td><td>USER-849F44</td><td>702-1</td><td>93</td><td>72.17</td><td>8</td><td>Phoenix</td></tr><tr><td>ORDER-1BF98C</td><td>USER-522AB7</td><td>5007392-1</td><td>93</td><td>62.55</td><td>7</td><td>Houston</td></tr><tr><td>ORDER-0B14E6</td><td>USER-D184AC</td><td>10041-1</td><td>93</td><td>33.09</td><td>7</td><td>New York</td></tr><tr><td>ORDER-C4D32C</td><td>USER-F2847E</td><td>852545-1</td><td>93</td><td>89.14</td><td>1</td><td>Houston</td></tr><tr><td>ORDER-D42D1E</td><td>USER-F368E9</td><td>5007877-1</td><td>93</td><td>47.92</td><td>3</td><td>Phoenix</td></tr><tr><td>ORDER-D42D1E</td><td>USER-F368E9</td><td>5007877-1</td><td>93</td><td>47.92</td><td>3</td><td>Los Angeles</td></tr><tr><td>ORDER-0D37EA</td><td>USER-27E84C</td><td>10041-1</td><td>93</td><td>50.36</td><td>6</td><td>New York</td></tr><tr><td>ORDER-26385D</td><td>USER-FC2F54</td><td>102-1</td><td>93</td><td>77.56</td><td>3</td><td>Phoenix</td></tr><tr><td>ORDER-0BE3B7</td><td>USER-D96ED7</td><td>7511-1</td><td>93</td><td>92.62</td><td>9</td><td>New York</td></tr><tr><td>ORDER-0BE3B7</td><td>USER-D96ED7</td><td>7511-1</td><td>93</td><td>92.62</td><td>9</td><td>Chicago</td></tr><tr><td>ORDER-21E9BD</td><td>USER-18A1FC</td><td>10059-1</td><td>93</td><td>30.06</td><td>3</td><td>Chicago</td></tr><tr><td>ORDER-21E9BD</td><td>USER-18A1FC</td><td>10059-1</td><td>93</td><td>30.06</td><td>3</td><td>Chicago</td></tr><tr><td>ORDER-21E9BD</td><td>USER-18A1FC</td><td>10059-1</td><td>93</td><td>30.06</td><td>3</td><td>Chicago</td></tr><tr><td>ORDER-584449</td><td>USER-AD430F</td><td>10240-1</td><td>93</td><td>44.58</td><td>8</td><td>Chicago</td></tr><tr><td>ORDER-1F830C</td><td>USER-04B139</td><td>10572-1</td><td>93</td><td>25.78</td><td>2</td><td>Houston</td></tr><tr><td>ORDER-DC08F5</td><td>USER-23CE3D</td><td>2101259516196-1</td><td>93</td><td>95.91</td><td>1</td><td>Houston</td></tr><tr><td>ORDER-67C4B4</td><td>USER-B29758</td><td>5009187-1</td><td>93</td><td>98.71</td><td>5</td><td>Phoenix</td></tr><tr><td>ORDER-67C4B4</td><td>USER-B29758</td><td>5009187-1</td><td>93</td><td>98.71</td><td>5</td><td>Chicago</td></tr><tr><td>ORDER-67C4B4</td><td>USER-B29758</td><td>5009187-1</td><td>93</td><td>98.71</td><td>5</td><td>Los Angeles</td></tr><tr><td>ORDER-67C4B4</td><td>USER-B29758</td><td>5009187-1</td><td>93</td><td>98.71</td><td>5</td><td>Chicago</td></tr><tr><td>ORDER-91F154</td><td>USER-678274</td><td>41801-1</td><td>93</td><td>89.95</td><td>4</td><td>New York</td></tr><tr><td>ORDER-91F154</td><td>USER-678274</td><td>41801-1</td><td>93</td><td>89.95</td><td>4</td><td>Phoenix</td></tr><tr><td>ORDER-91F154</td><td>USER-678274</td><td>41801-1</td><td>93</td><td>89.95</td><td>4</td><td>Los Angeles</td></tr><tr><td>ORDER-91F154</td><td>USER-678274</td><td>41801-1</td><td>93</td><td>89.95</td><td>4</td><td>Houston</td></tr><tr><td>ORDER-D216F1</td><td>USER-6B95CD</td><td>70706-1</td><td>93</td><td>57.34</td><td>7</td><td>Phoenix</td></tr><tr><td>ORDER-529D7F</td><td>USER-FB166D</td><td>271723-1</td><td>93</td><td>99.27</td><td>1</td><td>Phoenix</td></tr><tr><td>ORDER-624716</td><td>USER-2993B6</td><td>0015-1</td><td>93</td><td>67.63</td><td>4</td><td>Los Angeles</td></tr><tr><td>ORDER-624716</td><td>USER-2993B6</td><td>0015-1</td><td>93</td><td>67.63</td><td>4</td><td>Houston</td></tr><tr><td>ORDER-624716</td><td>USER-2993B6</td><td>0015-1</td><td>93</td><td>67.63</td><td>4</td><td>New York</td></tr><tr><td>ORDER-455402</td><td>USER-35DDEE</td><td>215-2B</td><td>93</td><td>12.73</td><td>2</td><td>New York</td></tr><tr><td>ORDER-90B690</td><td>USER-36EC59</td><td>1062-1</td><td>93</td><td>51.45</td><td>3</td><td>New York</td></tr><tr><td>ORDER-90B690</td><td>USER-36EC59</td><td>1062-1</td><td>93</td><td>51.45</td><td>3</td><td>Chicago</td></tr><tr><td>ORDER-ABD7A7</td><td>USER-026CCD</td><td>41944-1</td><td>93</td><td>24.45</td><td>3</td><td>Phoenix</td></tr><tr><td>ORDER-8C7DF3</td><td>USER-1A3FBD</td><td>5008162-1</td><td>93</td><td>85.97</td><td>6</td><td>Phoenix</td></tr><tr><td>ORDER-E11FBD</td><td>USER-F6EE58</td><td>10173-1</td><td>93</td><td>42.23</td><td>10</td><td>Los Angeles</td></tr><tr><td>ORDER-E11FBD</td><td>USER-F6EE58</td><td>10173-1</td><td>93</td><td>42.23</td><td>10</td><td>Los Angeles</td></tr><tr><td>ORDER-FC4CEA</td><td>USER-944A5C</td><td>21344-1</td><td>93</td><td>70.55</td><td>5</td><td>Los Angeles</td></tr><tr><td>ORDER-34079F</td><td>USER-30FF71</td><td>102-1</td><td>93</td><td>49.5</td><td>8</td><td>Phoenix</td></tr><tr><td>ORDER-D1062A</td><td>USER-9B809D</td><td>211901-1</td><td>93</td><td>19.01</td><td>8</td><td>New York</td></tr><tr><td>ORDER-D1062A</td><td>USER-9B809D</td><td>211901-1</td><td>93</td><td>19.01</td><td>8</td><td>New York</td></tr><tr><td>ORDER-B60CAD</td><td>USER-109F4A</td><td>21344-1</td><td>93</td><td>86.37</td><td>2</td><td>Houston</td></tr><tr><td>ORDER-12522E</td><td>USER-B4D69F</td><td>102-1</td><td>93</td><td>73.23</td><td>7</td><td>Los Angeles</td></tr><tr><td>ORDER-F39F42</td><td>USER-E0EB15</td><td>0015-1</td><td>93</td><td>71.12</td><td>4</td><td>New York</td></tr><tr><td>ORDER-5E5DD5</td><td>USER-431DD1</td><td>1000565897-5</td><td>93</td><td>52.17</td><td>10</td><td>Los Angeles</td></tr><tr><td>ORDER-362E33</td><td>USER-4F1D52</td><td>7042-1</td><td>93</td><td>54.7</td><td>9</td><td>Phoenix</td></tr><tr><td>ORDER-A5228F</td><td>USER-F13249</td><td>010-1</td><td>93</td><td>97.77</td><td>7</td><td>Los Angeles</td></tr><tr><td>ORDER-0B7E98</td><td>USER-943267</td><td>41801-1</td><td>93</td><td>48.96</td><td>7</td><td>New York</td></tr><tr><td>ORDER-2838F2</td><td>USER-B2DD27</td><td>5008162-1</td><td>93</td><td>61.36</td><td>9</td><td>Houston</td></tr><tr><td>ORDER-2838F2</td><td>USER-B2DD27</td><td>5008162-1</td><td>93</td><td>61.36</td><td>9</td><td>Phoenix</td></tr><tr><td>ORDER-D47607</td><td>USER-D9BE48</td><td>10292-1</td><td>93</td><td>90.94</td><td>9</td><td>Phoenix</td></tr><tr><td>ORDER-800B7D</td><td>USER-ECCF27</td><td>5007613-1</td><td>93</td><td>79.34</td><td>3</td><td>Chicago</td></tr><tr><td>ORDER-800B7D</td><td>USER-ECCF27</td><td>5007613-1</td><td>93</td><td>79.34</td><td>3</td><td>Phoenix</td></tr><tr><td>ORDER-801A78</td><td>USER-2313F5</td><td>7042-1</td><td>93</td><td>8.28</td><td>4</td><td>Los Angeles</td></tr><tr><td>ORDER-C43E6C</td><td>USER-453226</td><td>5009187-1</td><td>93</td><td>44.45</td><td>8</td><td>Los Angeles</td></tr><tr><td>ORDER-A43ED0</td><td>USER-889DB6</td><td>7042-1</td><td>93</td><td>12.95</td><td>2</td><td>Los Angeles</td></tr><tr><td>ORDER-13B531</td><td>USER-C9C0EC</td><td>5009187-1</td><td>93</td><td>41.15</td><td>8</td><td>Phoenix</td></tr><tr><td>ORDER-6B3AA8</td><td>USER-A23FE0</td><td>218158-1</td><td>93</td><td>29.81</td><td>8</td><td>Phoenix</td></tr><tr><td>ORDER-6B3AA8</td><td>USER-A23FE0</td><td>218158-1</td><td>93</td><td>29.81</td><td>8</td><td>New York</td></tr><tr><td>ORDER-6B3AA8</td><td>USER-A23FE0</td><td>218158-1</td><td>93</td><td>29.81</td><td>8</td><td>Phoenix</td></tr><tr><td>ORDER-970FE6</td><td>USER-8630B4</td><td>226-4</td><td>93</td><td>79.62</td><td>4</td><td>Los Angeles</td></tr><tr><td>ORDER-B5EF76</td><td>USER-45CD43</td><td>10173-1</td><td>93</td><td>45.85</td><td>3</td><td>Chicago</td></tr><tr><td>ORDER-5CE28B</td><td>USER-860AA9</td><td>5009187-1</td><td>93</td><td>13.98</td><td>8</td><td>Los Angeles</td></tr><tr><td>ORDER-EBD110</td><td>USER-A316D0</td><td>10041-1</td><td>93</td><td>32.26</td><td>2</td><td>New York</td></tr><tr><td>ORDER-EBD110</td><td>USER-A316D0</td><td>10041-1</td><td>93</td><td>32.26</td><td>2</td><td>New York</td></tr><tr><td>ORDER-EBD110</td><td>USER-A316D0</td><td>10041-1</td><td>93</td><td>32.26</td><td>2</td><td>New York</td></tr><tr><td>ORDER-D3AF48</td><td>USER-CC9DBB</td><td>0906946506-1</td><td>93</td><td>33.14</td><td>4</td><td>New York</td></tr><tr><td>ORDER-D3AF48</td><td>USER-CC9DBB</td><td>0906946506-1</td><td>93</td><td>33.14</td><td>4</td><td>Phoenix</td></tr><tr><td>ORDER-D3AF48</td><td>USER-CC9DBB</td><td>0906946506-1</td><td>93</td><td>33.14</td><td>4</td><td>Phoenix</td></tr><tr><td>ORDER-1B46E5</td><td>USER-8D579F</td><td>0906946506-1</td><td>93</td><td>8.95</td><td>3</td><td>Chicago</td></tr><tr><td>ORDER-4D28F2</td><td>USER-3DCDEF</td><td>852545-1</td><td>93</td><td>50.65</td><td>2</td><td>Chicago</td></tr><tr><td>ORDER-DB638B</td><td>USER-BAF107</td><td>065-1</td><td>93</td><td>92.68</td><td>9</td><td>Los Angeles</td></tr><tr><td>ORDER-DB638B</td><td>USER-BAF107</td><td>065-1</td><td>93</td><td>92.68</td><td>9</td><td>Los Angeles</td></tr><tr><td>ORDER-B3C403</td><td>USER-64618D</td><td>211901-1</td><td>93</td><td>56.12</td><td>2</td><td>Houston</td></tr><tr><td>ORDER-B3C403</td><td>USER-64618D</td><td>211901-1</td><td>93</td><td>56.12</td><td>2</td><td>New York</td></tr><tr><td>ORDER-B3C403</td><td>USER-64618D</td><td>211901-1</td><td>93</td><td>56.12</td><td>2</td><td>Houston</td></tr><tr><td>ORDER-26385D</td><td>USER-FC2F54</td><td>226-4</td><td>93</td><td>20.2</td><td>4</td><td>Phoenix</td></tr><tr><td>ORDER-7B16BF</td><td>USER-28B83B</td><td>10173-1</td><td>93</td><td>97.75</td><td>8</td><td>Phoenix</td></tr><tr><td>ORDER-7B16BF</td><td>USER-28B83B</td><td>10173-1</td><td>93</td><td>97.75</td><td>8</td><td>Houston</td></tr><tr><td>ORDER-7B16BF</td><td>USER-28B83B</td><td>10173-1</td><td>93</td><td>97.75</td><td>8</td><td>Los Angeles</td></tr><tr><td>ORDER-DAD0C8</td><td>USER-522AB7</td><td>21-1</td><td>93</td><td>71.54</td><td>9</td><td>Houston</td></tr><tr><td>ORDER-0D90E6</td><td>USER-0F7987</td><td>045-1</td><td>93</td><td>42.21</td><td>1</td><td>New York</td></tr><tr><td>ORDER-0D90E6</td><td>USER-0F7987</td><td>045-1</td><td>93</td><td>42.21</td><td>1</td><td>New York</td></tr><tr><td>ORDER-D2894B</td><td>USER-8BA172</td><td>7511-1</td><td>93</td><td>13.47</td><td>4</td><td>Los Angeles</td></tr><tr><td>ORDER-D2894B</td><td>USER-8BA172</td><td>7511-1</td><td>93</td><td>13.47</td><td>4</td><td>Phoenix</td></tr><tr><td>ORDER-AB8B30</td><td>USER-E06F35</td><td>271723-1</td><td>93</td><td>28.81</td><td>8</td><td>Phoenix</td></tr><tr><td>ORDER-BCC935</td><td>USER-6E1272</td><td>10292-1</td><td>93</td><td>21.12</td><td>2</td><td>Houston</td></tr><tr><td>ORDER-452BE6</td><td>USER-86DA2E</td><td>10240-1</td><td>93</td><td>15.26</td><td>2</td><td>Los Angeles</td></tr><tr><td>ORDER-21E9BD</td><td>USER-18A1FC</td><td>10572-1</td><td>93</td><td>77.27</td><td>2</td><td>Chicago</td></tr><tr><td>ORDER-21E9BD</td><td>USER-18A1FC</td><td>10572-1</td><td>93</td><td>77.27</td><td>2</td><td>Chicago</td></tr><tr><td>ORDER-21E9BD</td><td>USER-18A1FC</td><td>10572-1</td><td>93</td><td>77.27</td><td>2</td><td>Chicago</td></tr><tr><td>ORDER-618DE2</td><td>USER-95E279</td><td>10701-1</td><td>93</td><td>56.9</td><td>8</td><td>Chicago</td></tr><tr><td>ORDER-618DE2</td><td>USER-95E279</td><td>10701-1</td><td>93</td><td>56.9</td><td>8</td><td>New York</td></tr><tr><td>ORDER-618DE2</td><td>USER-95E279</td><td>10701-1</td><td>93</td><td>56.9</td><td>8</td><td>New York</td></tr><tr><td>ORDER-E7D94C</td><td>USER-2F3B68</td><td>5008162-1</td><td>93</td><td>13.95</td><td>5</td><td>Phoenix</td></tr><tr><td>ORDER-684537</td><td>USER-2993B6</td><td>5007877-1</td><td>93</td><td>43.62</td><td>7</td><td>Houston</td></tr><tr><td>ORDER-684537</td><td>USER-2993B6</td><td>5007877-1</td><td>93</td><td>43.62</td><td>7</td><td>Phoenix</td></tr><tr><td>ORDER-25BF3B</td><td>USER-78F638</td><td>10059-1</td><td>93</td><td>68.64</td><td>2</td><td>Los Angeles</td></tr><tr><td>ORDER-25BF3B</td><td>USER-78F638</td><td>10059-1</td><td>93</td><td>68.64</td><td>2</td><td>Chicago</td></tr><tr><td>ORDER-25BF3B</td><td>USER-78F638</td><td>10059-1</td><td>93</td><td>68.64</td><td>2</td><td>Houston</td></tr><tr><td>ORDER-30E864</td><td>USER-9A7050</td><td>10041-1</td><td>93</td><td>83.37</td><td>6</td><td>New York</td></tr><tr><td>ORDER-30E864</td><td>USER-9A7050</td><td>10041-1</td><td>93</td><td>83.37</td><td>6</td><td>Chicago</td></tr><tr><td>ORDER-30E864</td><td>USER-9A7050</td><td>10041-1</td><td>93</td><td>83.37</td><td>6</td><td>Los Angeles</td></tr><tr><td>ORDER-30E864</td><td>USER-9A7050</td><td>10041-1</td><td>93</td><td>83.37</td><td>6</td><td>New York</td></tr><tr><td>ORDER-29F249</td><td>USER-944C3C</td><td>5009187-1</td><td>93</td><td>42.98</td><td>4</td><td>Chicago</td></tr><tr><td>ORDER-8EF563</td><td>USER-91B5CC</td><td>10041-1</td><td>93</td><td>11.49</td><td>7</td><td>Houston</td></tr><tr><td>ORDER-8EF563</td><td>USER-91B5CC</td><td>10041-1</td><td>93</td><td>11.49</td><td>7</td><td>Houston</td></tr><tr><td>ORDER-8EF563</td><td>USER-91B5CC</td><td>10041-1</td><td>93</td><td>11.49</td><td>7</td><td>Phoenix</td></tr><tr><td>ORDER-899FD1</td><td>USER-26DF4D</td><td>10292-1</td><td>93</td><td>37.18</td><td>9</td><td>New York</td></tr><tr><td>ORDER-BA6F4E</td><td>USER-474C16</td><td>1062-1</td><td>93</td><td>68.38</td><td>4</td><td>Houston</td></tr><tr><td>ORDER-F928EE</td><td>USER-6C595C</td><td>852545-1</td><td>93</td><td>79.93</td><td>1</td><td>New York</td></tr><tr><td>ORDER-F928EE</td><td>USER-6C595C</td><td>852545-1</td><td>93</td><td>79.93</td><td>1</td><td>Phoenix</td></tr><tr><td>ORDER-A679C0</td><td>USER-7D9219</td><td>852545-1</td><td>93</td><td>53.58</td><td>7</td><td>Chicago</td></tr><tr><td>ORDER-A679C0</td><td>USER-7D9219</td><td>852545-1</td><td>93</td><td>53.58</td><td>7</td><td>Chicago</td></tr><tr><td>ORDER-0D9AB0</td><td>USER-3AFEA8</td><td>045-1</td><td>93</td><td>97.6</td><td>7</td><td>Houston</td></tr><tr><td>ORDER-EA9B71</td><td>USER-47D2BB</td><td>2101259516196-1</td><td>93</td><td>15.71</td><td>5</td><td>Phoenix</td></tr><tr><td>ORDER-F3C4DD</td><td>USER-B78963</td><td>215-2B</td><td>93</td><td>25.07</td><td>5</td><td>Los Angeles</td></tr><tr><td>ORDER-086160</td><td>USER-E4CA40</td><td>1062-1</td><td>93</td><td>46.12</td><td>10</td><td>Chicago</td></tr><tr><td>ORDER-086160</td><td>USER-E4CA40</td><td>1062-1</td><td>93</td><td>46.12</td><td>10</td><td>New York</td></tr><tr><td>ORDER-958539</td><td>USER-4E502C</td><td>41944-1</td><td>93</td><td>46.41</td><td>9</td><td>Phoenix</td></tr><tr><td>ORDER-1061D5</td><td>USER-33D9C9</td><td>218158-1</td><td>93</td><td>80.62</td><td>7</td><td>Houston</td></tr><tr><td>ORDER-378138</td><td>USER-CC5E93</td><td>045-1</td><td>93</td><td>83.04</td><td>5</td><td>New York</td></tr><tr><td>ORDER-378138</td><td>USER-CC5E93</td><td>045-1</td><td>93</td><td>83.04</td><td>5</td><td>Chicago</td></tr><tr><td>ORDER-378138</td><td>USER-CC5E93</td><td>045-1</td><td>93</td><td>83.04</td><td>5</td><td>Chicago</td></tr><tr><td>ORDER-378138</td><td>USER-CC5E93</td><td>045-1</td><td>93</td><td>83.04</td><td>5</td><td>New York</td></tr><tr><td>ORDER-5CE28B</td><td>USER-860AA9</td><td>10292-1</td><td>93</td><td>5.38</td><td>7</td><td>Los Angeles</td></tr><tr><td>ORDER-CCCD71</td><td>USER-04F4D0</td><td>852545-1</td><td>93</td><td>34.56</td><td>9</td><td>Houston</td></tr><tr><td>ORDER-CCCD71</td><td>USER-04F4D0</td><td>852545-1</td><td>93</td><td>34.56</td><td>9</td><td>Los Angeles</td></tr><tr><td>ORDER-0FD8E6</td><td>USER-9E2FF6</td><td>101032405-1</td><td>93</td><td>81.32</td><td>8</td><td>Chicago</td></tr><tr><td>ORDER-0FD8E6</td><td>USER-9E2FF6</td><td>101032405-1</td><td>93</td><td>81.32</td><td>8</td><td>Houston</td></tr><tr><td>ORDER-9A2703</td><td>USER-889DB6</td><td>102-1</td><td>93</td><td>84.72</td><td>9</td><td>New York</td></tr><tr><td>ORDER-D5EBAF</td><td>USER-60824F</td><td>5007613-1</td><td>93</td><td>37.64</td><td>5</td><td>Houston</td></tr><tr><td>ORDER-D5EBAF</td><td>USER-60824F</td><td>5007613-1</td><td>93</td><td>37.64</td><td>5</td><td>Chicago</td></tr><tr><td>ORDER-D5EBAF</td><td>USER-60824F</td><td>5007613-1</td><td>93</td><td>37.64</td><td>5</td><td>Houston</td></tr><tr><td>ORDER-DC5B40</td><td>USER-25B3F3</td><td>10572-1</td><td>93</td><td>51.92</td><td>3</td><td>Houston</td></tr><tr><td>ORDER-D2DBB7</td><td>USER-EB44A4</td><td>10292-1</td><td>93</td><td>31.57</td><td>7</td><td>Houston</td></tr><tr><td>ORDER-0644BB</td><td>USER-A312EA</td><td>7511-1</td><td>93</td><td>35.04</td><td>5</td><td>Houston</td></tr><tr><td>ORDER-0644BB</td><td>USER-A312EA</td><td>7511-1</td><td>93</td><td>35.04</td><td>5</td><td>Phoenix</td></tr><tr><td>ORDER-0644BB</td><td>USER-A312EA</td><td>7511-1</td><td>93</td><td>35.04</td><td>5</td><td>Chicago</td></tr><tr><td>ORDER-F2167C</td><td>USER-8C9F7F</td><td>5008162-1</td><td>93</td><td>79.33</td><td>3</td><td>Phoenix</td></tr><tr><td>ORDER-F2167C</td><td>USER-8C9F7F</td><td>5008162-1</td><td>93</td><td>79.33</td><td>3</td><td>New York</td></tr><tr><td>ORDER-AA974C</td><td>USER-FC6E94</td><td>242.1-1</td><td>93</td><td>69.89</td><td>3</td><td>Houston</td></tr><tr><td>ORDER-AA974C</td><td>USER-FC6E94</td><td>242.1-1</td><td>93</td><td>69.89</td><td>3</td><td>New York</td></tr><tr><td>ORDER-5B4E70</td><td>USER-4B094C</td><td>10041-1</td><td>93</td><td>16.55</td><td>8</td><td>Chicago</td></tr><tr><td>ORDER-8999B8</td><td>USER-7843DE</td><td>271723-1</td><td>93</td><td>86.84</td><td>6</td><td>Los Angeles</td></tr><tr><td>ORDER-E369AA</td><td>USER-5925FF</td><td>102-1</td><td>93</td><td>89.54</td><td>2</td><td>Chicago</td></tr><tr><td>ORDER-C0BF55</td><td>USER-64618D</td><td>242.1-1</td><td>93</td><td>17.53</td><td>2</td><td>New York</td></tr><tr><td>ORDER-C0BF55</td><td>USER-64618D</td><td>242.1-1</td><td>93</td><td>17.53</td><td>2</td><td>Chicago</td></tr><tr><td>ORDER-C0BF55</td><td>USER-64618D</td><td>242.1-1</td><td>93</td><td>17.53</td><td>2</td><td>Houston</td></tr><tr><td>ORDER-584449</td><td>USER-AD430F</td><td>7511-1</td><td>93</td><td>48.31</td><td>4</td><td>Chicago</td></tr><tr><td>ORDER-6DCF98</td><td>USER-AA6543</td><td>10701-1</td><td>93</td><td>81.76</td><td>5</td><td>Houston</td></tr><tr><td>ORDER-50CACD</td><td>USER-EBFA58</td><td>215-2B</td><td>93</td><td>30.99</td><td>6</td><td>New York</td></tr><tr><td>ORDER-91F154</td><td>USER-678274</td><td>5008162-1</td><td>93</td><td>12.51</td><td>2</td><td>New York</td></tr><tr><td>ORDER-91F154</td><td>USER-678274</td><td>5008162-1</td><td>93</td><td>12.51</td><td>2</td><td>Phoenix</td></tr><tr><td>ORDER-91F154</td><td>USER-678274</td><td>5008162-1</td><td>93</td><td>12.51</td><td>2</td><td>Los Angeles</td></tr><tr><td>ORDER-91F154</td><td>USER-678274</td><td>5008162-1</td><td>93</td><td>12.51</td><td>2</td><td>Houston</td></tr><tr><td>ORDER-8677E7</td><td>USER-847EC8</td><td>5007877-1</td><td>93</td><td>88.65</td><td>5</td><td>Houston</td></tr><tr><td>ORDER-8677E7</td><td>USER-847EC8</td><td>5007877-1</td><td>93</td><td>88.65</td><td>5</td><td>New York</td></tr><tr><td>ORDER-2E813E</td><td>USER-A9A2BA</td><td>21-1</td><td>93</td><td>74.78</td><td>4</td><td>Phoenix</td></tr><tr><td>ORDER-CD37C4</td><td>USER-556A04</td><td>226-4</td><td>93</td><td>60.08</td><td>1</td><td>New York</td></tr><tr><td>ORDER-BA6F4E</td><td>USER-474C16</td><td>951178-1</td><td>93</td><td>23.43</td><td>7</td><td>Houston</td></tr><tr><td>ORDER-52805D</td><td>USER-B3E1E7</td><td>10511-1</td><td>93</td><td>66.21</td><td>9</td><td>Houston</td></tr><tr><td>ORDER-23099A</td><td>USER-CA74DB</td><td>242.1-1</td><td>93</td><td>56.66</td><td>3</td><td>Los Angeles</td></tr><tr><td>ORDER-6402CB</td><td>USER-0872CF</td><td>215-2B</td><td>93</td><td>97.42</td><td>6</td><td>Phoenix</td></tr><tr><td>ORDER-6402CB</td><td>USER-0872CF</td><td>215-2B</td><td>93</td><td>97.42</td><td>6</td><td>Houston</td></tr><tr><td>ORDER-3E42CE</td><td>USER-24AF42</td><td>10059-1</td><td>93</td><td>13.94</td><td>10</td><td>Chicago</td></tr><tr><td>ORDER-3E42CE</td><td>USER-24AF42</td><td>10059-1</td><td>93</td><td>13.94</td><td>10</td><td>Phoenix</td></tr><tr><td>ORDER-433D74</td><td>USER-F6A634</td><td>7042-1</td><td>93</td><td>48.71</td><td>3</td><td>New York</td></tr><tr><td>ORDER-433D74</td><td>USER-F6A634</td><td>7042-1</td><td>93</td><td>48.71</td><td>3</td><td>New York</td></tr><tr><td>ORDER-9F31FC</td><td>USER-EB7121</td><td>702-1</td><td>93</td><td>36.57</td><td>6</td><td>New York</td></tr><tr><td>ORDER-45E904</td><td>USER-EB015F</td><td>10511-1</td><td>93</td><td>37.87</td><td>7</td><td>Chicago</td></tr><tr><td>ORDER-45E904</td><td>USER-EB015F</td><td>10511-1</td><td>93</td><td>37.87</td><td>7</td><td>Los Angeles</td></tr><tr><td>ORDER-45E904</td><td>USER-EB015F</td><td>10511-1</td><td>93</td><td>37.87</td><td>7</td><td>Los Angeles</td></tr><tr><td>ORDER-900068</td><td>USER-C64DA0</td><td>21000-1</td><td>93</td><td>55.07</td><td>9</td><td>Chicago</td></tr><tr><td>ORDER-48B6C1</td><td>USER-F2A3B7</td><td>010-1</td><td>93</td><td>90.3</td><td>3</td><td>New York</td></tr><tr><td>ORDER-5E6C64</td><td>USER-FD6D91</td><td>215-2B</td><td>93</td><td>21.48</td><td>9</td><td>Los Angeles</td></tr><tr><td>ORDER-6BC582</td><td>USER-C39FD8</td><td>10133-1</td><td>93</td><td>97.96</td><td>3</td><td>Phoenix</td></tr><tr><td>ORDER-6BC582</td><td>USER-C39FD8</td><td>10133-1</td><td>93</td><td>97.96</td><td>3</td><td>Chicago</td></tr><tr><td>ORDER-DDBA79</td><td>USER-86F746</td><td>5007392-1</td><td>93</td><td>48.45</td><td>5</td><td>New York</td></tr><tr><td>ORDER-DDBA79</td><td>USER-86F746</td><td>5007392-1</td><td>93</td><td>48.45</td><td>5</td><td>Phoenix</td></tr><tr><td>ORDER-67F170</td><td>USER-8630B4</td><td>5007392-1</td><td>93</td><td>20.92</td><td>10</td><td>Houston</td></tr><tr><td>ORDER-67F170</td><td>USER-8630B4</td><td>5007392-1</td><td>93</td><td>20.92</td><td>10</td><td>New York</td></tr><tr><td>ORDER-DCC08C</td><td>USER-B5F9F6</td><td>852545-1</td><td>93</td><td>88.23</td><td>6</td><td>Houston</td></tr><tr><td>ORDER-DCC08C</td><td>USER-B5F9F6</td><td>852545-1</td><td>93</td><td>88.23</td><td>6</td><td>New York</td></tr><tr><td>ORDER-DCC08C</td><td>USER-B5F9F6</td><td>852545-1</td><td>93</td><td>88.23</td><td>6</td><td>New York</td></tr><tr><td>ORDER-A7CAC3</td><td>USER-C17CA5</td><td>10292-1</td><td>93</td><td>52.11</td><td>8</td><td>Chicago</td></tr><tr><td>ORDER-A7CAC3</td><td>USER-C17CA5</td><td>10292-1</td><td>93</td><td>52.11</td><td>8</td><td>Houston</td></tr><tr><td>ORDER-B9B22E</td><td>USER-27FA85</td><td>7042-1</td><td>93</td><td>11.6</td><td>2</td><td>New York</td></tr><tr><td>ORDER-B9B22E</td><td>USER-27FA85</td><td>7042-1</td><td>93</td><td>11.6</td><td>2</td><td>Chicago</td></tr><tr><td>ORDER-B9B22E</td><td>USER-27FA85</td><td>7042-1</td><td>93</td><td>11.6</td><td>2</td><td>Houston</td></tr><tr><td>ORDER-137EAF</td><td>USER-FC6AFC</td><td>045-1</td><td>93</td><td>65.41</td><td>5</td><td>Los Angeles</td></tr><tr><td>ORDER-9BC799</td><td>USER-E242F4</td><td>215-2B</td><td>93</td><td>52.23</td><td>8</td><td>Houston</td></tr><tr><td>ORDER-0CB00B</td><td>USER-CA74DB</td><td>10511-1</td><td>93</td><td>34.0</td><td>1</td><td>Houston</td></tr><tr><td>ORDER-0CB00B</td><td>USER-CA74DB</td><td>10511-1</td><td>93</td><td>34.0</td><td>1</td><td>Phoenix</td></tr><tr><td>ORDER-0CB00B</td><td>USER-CA74DB</td><td>10511-1</td><td>93</td><td>34.0</td><td>1</td><td>Los Angeles</td></tr><tr><td>ORDER-C60F5F</td><td>USER-4FE9BD</td><td>10572-1</td><td>93</td><td>69.4</td><td>4</td><td>Phoenix</td></tr><tr><td>ORDER-C60F5F</td><td>USER-4FE9BD</td><td>10572-1</td><td>93</td><td>69.4</td><td>4</td><td>Los Angeles</td></tr><tr><td>ORDER-B333A2</td><td>USER-DB1CBD</td><td>10511-1</td><td>93</td><td>54.58</td><td>2</td><td>New York</td></tr><tr><td>ORDER-C31C84</td><td>USER-8630B4</td><td>702-1</td><td>93</td><td>9.1</td><td>1</td><td>New York</td></tr><tr><td>ORDER-21D186</td><td>USER-CB0C3C</td><td>7511-1</td><td>93</td><td>66.03</td><td>5</td><td>Phoenix</td></tr><tr><td>ORDER-21D186</td><td>USER-CB0C3C</td><td>7511-1</td><td>93</td><td>66.03</td><td>5</td><td>Chicago</td></tr><tr><td>ORDER-21D186</td><td>USER-CB0C3C</td><td>7511-1</td><td>93</td><td>66.03</td><td>5</td><td>Los Angeles</td></tr><tr><td>ORDER-21D186</td><td>USER-CB0C3C</td><td>7511-1</td><td>93</td><td>66.03</td><td>5</td><td>New York</td></tr><tr><td>ORDER-BCFA2A</td><td>USER-E902B0</td><td>1000565897-5</td><td>93</td><td>55.62</td><td>6</td><td>Phoenix</td></tr><tr><td>ORDER-B86022</td><td>USER-69302E</td><td>21000-1</td><td>93</td><td>58.89</td><td>3</td><td>New York</td></tr><tr><td>ORDER-378138</td><td>USER-CC5E93</td><td>10133-1</td><td>93</td><td>81.49</td><td>10</td><td>New York</td></tr><tr><td>ORDER-378138</td><td>USER-CC5E93</td><td>10133-1</td><td>93</td><td>81.49</td><td>10</td><td>Chicago</td></tr><tr><td>ORDER-378138</td><td>USER-CC5E93</td><td>10133-1</td><td>93</td><td>81.49</td><td>10</td><td>Chicago</td></tr><tr><td>ORDER-378138</td><td>USER-CC5E93</td><td>10133-1</td><td>93</td><td>81.49</td><td>10</td><td>New York</td></tr><tr><td>ORDER-5EA14E</td><td>USER-8BA361</td><td>951178-1</td><td>93</td><td>49.01</td><td>10</td><td>Los Angeles</td></tr><tr><td>ORDER-F514DA</td><td>USER-21CCA7</td><td>10572-1</td><td>93</td><td>68.13</td><td>7</td><td>Chicago</td></tr><tr><td>ORDER-4328BD</td><td>USER-FF22AE</td><td>7511-1</td><td>93</td><td>8.51</td><td>5</td><td>New York</td></tr><tr><td>ORDER-4328BD</td><td>USER-FF22AE</td><td>7511-1</td><td>93</td><td>8.51</td><td>5</td><td>Phoenix</td></tr><tr><td>ORDER-EC2E24</td><td>USER-A7DDF3</td><td>271723-1</td><td>93</td><td>45.52</td><td>1</td><td>Chicago</td></tr><tr><td>ORDER-EC2E24</td><td>USER-A7DDF3</td><td>271723-1</td><td>93</td><td>45.52</td><td>1</td><td>Houston</td></tr><tr><td>ORDER-EC2E24</td><td>USER-A7DDF3</td><td>271723-1</td><td>93</td><td>45.52</td><td>1</td><td>Chicago</td></tr><tr><td>ORDER-A3E0B4</td><td>USER-3CD336</td><td>41801-1</td><td>93</td><td>54.53</td><td>9</td><td>Chicago</td></tr><tr><td>ORDER-BC7A38</td><td>USER-8D2392</td><td>010-1</td><td>93</td><td>77.98</td><td>1</td><td>Phoenix</td></tr><tr><td>ORDER-BC7A38</td><td>USER-8D2392</td><td>010-1</td><td>93</td><td>77.98</td><td>1</td><td>Houston</td></tr><tr><td>ORDER-3441E8</td><td>USER-0E6653</td><td>10059-1</td><td>93</td><td>98.09</td><td>10</td><td>Phoenix</td></tr><tr><td>ORDER-3441E8</td><td>USER-0E6653</td><td>10059-1</td><td>93</td><td>98.09</td><td>10</td><td>Chicago</td></tr><tr><td>ORDER-A5228F</td><td>USER-F13249</td><td>045-1</td><td>93</td><td>17.97</td><td>3</td><td>Los Angeles</td></tr><tr><td>ORDER-D64E60</td><td>USER-335710</td><td>10701-1</td><td>93</td><td>57.17</td><td>5</td><td>Chicago</td></tr><tr><td>ORDER-D64E60</td><td>USER-335710</td><td>10701-1</td><td>93</td><td>57.17</td><td>5</td><td>Phoenix</td></tr><tr><td>ORDER-B262CC</td><td>USER-32381B</td><td>7042-1</td><td>93</td><td>54.82</td><td>5</td><td>Phoenix</td></tr><tr><td>ORDER-B262CC</td><td>USER-32381B</td><td>7042-1</td><td>93</td><td>54.82</td><td>5</td><td>New York</td></tr><tr><td>ORDER-B262CC</td><td>USER-32381B</td><td>7042-1</td><td>93</td><td>54.82</td><td>5</td><td>Chicago</td></tr><tr><td>ORDER-177F66</td><td>USER-81EA8A</td><td>010-1</td><td>93</td><td>43.73</td><td>3</td><td>Houston</td></tr><tr><td>ORDER-0644BB</td><td>USER-A312EA</td><td>10572-1</td><td>93</td><td>80.4</td><td>3</td><td>Houston</td></tr><tr><td>ORDER-0644BB</td><td>USER-A312EA</td><td>10572-1</td><td>93</td><td>80.4</td><td>3</td><td>Phoenix</td></tr><tr><td>ORDER-0644BB</td><td>USER-A312EA</td><td>10572-1</td><td>93</td><td>80.4</td><td>3</td><td>Chicago</td></tr><tr><td>ORDER-2E813E</td><td>USER-A9A2BA</td><td>5008162-1</td><td>93</td><td>85.62</td><td>6</td><td>Phoenix</td></tr><tr><td>ORDER-6CA692</td><td>USER-D19308</td><td>10041-1</td><td>93</td><td>65.07</td><td>10</td><td>Houston</td></tr><tr><td>ORDER-6CA692</td><td>USER-D19308</td><td>10041-1</td><td>93</td><td>65.07</td><td>10</td><td>Los Angeles</td></tr><tr><td>ORDER-4D28F2</td><td>USER-3DCDEF</td><td>10511-1</td><td>93</td><td>15.85</td><td>10</td><td>Chicago</td></tr><tr><td>ORDER-D64E60</td><td>USER-335710</td><td>5007877-1</td><td>93</td><td>97.98</td><td>3</td><td>Chicago</td></tr><tr><td>ORDER-D64E60</td><td>USER-335710</td><td>5007877-1</td><td>93</td><td>97.98</td><td>3</td><td>Phoenix</td></tr><tr><td>ORDER-137EAF</td><td>USER-FC6AFC</td><td>21-1</td><td>93</td><td>96.93</td><td>6</td><td>Los Angeles</td></tr><tr><td>ORDER-D1062A</td><td>USER-9B809D</td><td>10041-1</td><td>93</td><td>9.39</td><td>1</td><td>New York</td></tr><tr><td>ORDER-D1062A</td><td>USER-9B809D</td><td>10041-1</td><td>93</td><td>9.39</td><td>1</td><td>New York</td></tr><tr><td>ORDER-D8440B</td><td>USER-76F258</td><td>21000-1</td><td>93</td><td>30.92</td><td>7</td><td>Los Angeles</td></tr><tr><td>ORDER-D8440B</td><td>USER-76F258</td><td>21000-1</td><td>93</td><td>30.92</td><td>7</td><td>New York</td></tr><tr><td>ORDER-91525A</td><td>USER-3F5722</td><td>2101259516196-1</td><td>93</td><td>52.52</td><td>1</td><td>New York</td></tr><tr><td>ORDER-91525A</td><td>USER-3F5722</td><td>2101259516196-1</td><td>93</td><td>52.52</td><td>1</td><td>Phoenix</td></tr><tr><td>ORDER-CFE157</td><td>USER-7E2207</td><td>5009187-1</td><td>93</td><td>39.61</td><td>6</td><td>Houston</td></tr><tr><td>ORDER-D4DE78</td><td>USER-33806A</td><td>10240-1</td><td>93</td><td>14.66</td><td>6</td><td>Los Angeles</td></tr><tr><td>ORDER-C2E005</td><td>USER-95E279</td><td>7511-1</td><td>93</td><td>75.62</td><td>4</td><td>Phoenix</td></tr><tr><td>ORDER-C2E005</td><td>USER-95E279</td><td>7511-1</td><td>93</td><td>75.62</td><td>4</td><td>Chicago</td></tr><tr><td>ORDER-C2E005</td><td>USER-95E279</td><td>7511-1</td><td>93</td><td>75.62</td><td>4</td><td>New York</td></tr><tr><td>ORDER-59AE5F</td><td>USER-180B16</td><td>21-1</td><td>93</td><td>44.61</td><td>7</td><td>New York</td></tr><tr><td>ORDER-0D90E6</td><td>USER-0F7987</td><td>271723-1</td><td>93</td><td>10.07</td><td>4</td><td>New York</td></tr><tr><td>ORDER-0D90E6</td><td>USER-0F7987</td><td>271723-1</td><td>93</td><td>10.07</td><td>4</td><td>New York</td></tr><tr><td>ORDER-8083B5</td><td>USER-64F5A5</td><td>0906946506-1</td><td>93</td><td>20.0</td><td>6</td><td>Chicago</td></tr><tr><td>ORDER-D9AC3D</td><td>USER-686CCE</td><td>215-2B</td><td>93</td><td>15.59</td><td>10</td><td>Chicago</td></tr><tr><td>ORDER-DF3F2B</td><td>USER-17A6B0</td><td>951178-1</td><td>93</td><td>28.67</td><td>3</td><td>Chicago</td></tr><tr><td>ORDER-DF3F2B</td><td>USER-17A6B0</td><td>951178-1</td><td>93</td><td>28.67</td><td>3</td><td>New York</td></tr><tr><td>ORDER-9E37AA</td><td>USER-614ABE</td><td>10292-1</td><td>93</td><td>75.81</td><td>3</td><td>Chicago</td></tr><tr><td>ORDER-8999B8</td><td>USER-7843DE</td><td>218158-1</td><td>93</td><td>68.83</td><td>7</td><td>Los Angeles</td></tr><tr><td>ORDER-FA5407</td><td>USER-8F1D44</td><td>0015-1</td><td>93</td><td>31.3</td><td>3</td><td>Houston</td></tr><tr><td>ORDER-6ACF85</td><td>USER-C15EB4</td><td>10173-1</td><td>93</td><td>33.93</td><td>9</td><td>Phoenix</td></tr><tr><td>ORDER-6ACF85</td><td>USER-C15EB4</td><td>10173-1</td><td>93</td><td>33.93</td><td>9</td><td>Phoenix</td></tr><tr><td>ORDER-656AB6</td><td>USER-62FA85</td><td>0906946506-1</td><td>93</td><td>51.47</td><td>10</td><td>Phoenix</td></tr><tr><td>ORDER-A679C0</td><td>USER-7D9219</td><td>242.1-1</td><td>93</td><td>28.65</td><td>7</td><td>Chicago</td></tr><tr><td>ORDER-A679C0</td><td>USER-7D9219</td><td>242.1-1</td><td>93</td><td>28.65</td><td>7</td><td>Chicago</td></tr><tr><td>ORDER-9B98C9</td><td>USER-849F44</td><td>010-1</td><td>93</td><td>77.46</td><td>2</td><td>Phoenix</td></tr><tr><td>ORDER-3E25C2</td><td>USER-8BA361</td><td>0015-1</td><td>93</td><td>9.34</td><td>7</td><td>Chicago</td></tr><tr><td>ORDER-3E25C2</td><td>USER-8BA361</td><td>0015-1</td><td>93</td><td>9.34</td><td>7</td><td>Los Angeles</td></tr><tr><td>ORDER-4328BD</td><td>USER-FF22AE</td><td>2101259516196-1</td><td>93</td><td>33.05</td><td>10</td><td>New York</td></tr><tr><td>ORDER-4328BD</td><td>USER-FF22AE</td><td>2101259516196-1</td><td>93</td><td>33.05</td><td>10</td><td>Phoenix</td></tr><tr><td>ORDER-AC1DC8</td><td>USER-0E6653</td><td>10041-1</td><td>93</td><td>15.83</td><td>6</td><td>Houston</td></tr><tr><td>ORDER-8677E7</td><td>USER-847EC8</td><td>101032405-1</td><td>93</td><td>67.32</td><td>6</td><td>Houston</td></tr><tr><td>ORDER-8677E7</td><td>USER-847EC8</td><td>101032405-1</td><td>93</td><td>67.32</td><td>6</td><td>New York</td></tr><tr><td>ORDER-8F9BAF</td><td>USER-FB2F07</td><td>10511-1</td><td>93</td><td>90.47</td><td>8</td><td>Houston</td></tr><tr><td>ORDER-8F9BAF</td><td>USER-FB2F07</td><td>10511-1</td><td>93</td><td>90.47</td><td>8</td><td>Houston</td></tr><tr><td>ORDER-492391</td><td>USER-2E0ED1</td><td>7511-1</td><td>93</td><td>73.52</td><td>7</td><td>Los Angeles</td></tr><tr><td>ORDER-492391</td><td>USER-2E0ED1</td><td>7511-1</td><td>93</td><td>73.52</td><td>7</td><td>Phoenix</td></tr><tr><td>ORDER-492391</td><td>USER-2E0ED1</td><td>7511-1</td><td>93</td><td>73.52</td><td>7</td><td>Phoenix</td></tr></tbody></table></div>"
      ]
     },
     "metadata": {
      "application/vnd.databricks.v1+output": {
       "addedWidgets": {},
       "aggData": [],
       "aggError": "",
       "aggOverflow": false,
       "aggSchema": [],
       "aggSeriesLimitReached": false,
       "aggType": "",
       "arguments": {},
       "columnCustomDisplayInfos": {},
       "data": [
        [
         "ORDER-27D9FE",
         "USER-D1197C",
         "065-1",
         93,
         15.68,
         8,
         "Houston"
        ],
        [
         "ORDER-D2902C",
         "USER-1B9A94",
         "21000-1",
         93,
         53.97,
         1,
         "New York"
        ],
        [
         "ORDER-CFE157",
         "USER-7E2207",
         "5008162-1",
         93,
         75.27,
         7,
         "Houston"
        ],
        [
         "ORDER-684537",
         "USER-2993B6",
         "10701-1",
         93,
         53.2,
         9,
         "Houston"
        ],
        [
         "ORDER-684537",
         "USER-2993B6",
         "10701-1",
         93,
         53.2,
         9,
         "Phoenix"
        ],
        [
         "ORDER-387E6A",
         "USER-AC3AF3",
         "7511-1",
         93,
         47.51,
         4,
         "Chicago"
        ],
        [
         "ORDER-387E6A",
         "USER-AC3AF3",
         "7511-1",
         93,
         47.51,
         4,
         "Houston"
        ],
        [
         "ORDER-387E6A",
         "USER-AC3AF3",
         "7511-1",
         93,
         47.51,
         4,
         "Houston"
        ],
        [
         "ORDER-387E6A",
         "USER-AC3AF3",
         "7511-1",
         93,
         47.51,
         4,
         "Chicago"
        ],
        [
         "ORDER-A91A40",
         "USER-F97B28",
         "5007392-1",
         93,
         62.38,
         4,
         "Houston"
        ],
        [
         "ORDER-73DA94",
         "USER-E399BE",
         "10059-1",
         93,
         94.62,
         8,
         "Houston"
        ],
        [
         "ORDER-73DA94",
         "USER-E399BE",
         "10059-1",
         93,
         94.62,
         8,
         "New York"
        ],
        [
         "ORDER-182C14",
         "USER-4D82A0",
         "951178-1",
         93,
         92.58,
         2,
         "Los Angeles"
        ],
        [
         "ORDER-A4FA3D",
         "USER-AD8814",
         "21344-1",
         93,
         40.95,
         1,
         "Houston"
        ],
        [
         "ORDER-FA5407",
         "USER-8F1D44",
         "5007877-1",
         93,
         25.7,
         9,
         "Houston"
        ],
        [
         "ORDER-8ABDEC",
         "USER-FC6AFC",
         "21344-1",
         93,
         45.36,
         1,
         "Houston"
        ],
        [
         "ORDER-FAB32F",
         "USER-58A53D",
         "5007877-1",
         93,
         61.08,
         9,
         "Phoenix"
        ],
        [
         "ORDER-FAB32F",
         "USER-58A53D",
         "5007877-1",
         93,
         61.08,
         9,
         "New York"
        ],
        [
         "ORDER-913301",
         "USER-1DBE17",
         "218158-1",
         93,
         67.43,
         1,
         "New York"
        ],
        [
         "ORDER-C0BF55",
         "USER-64618D",
         "41801-1",
         93,
         99.38,
         7,
         "New York"
        ],
        [
         "ORDER-C0BF55",
         "USER-64618D",
         "41801-1",
         93,
         99.38,
         7,
         "Chicago"
        ],
        [
         "ORDER-C0BF55",
         "USER-64618D",
         "41801-1",
         93,
         99.38,
         7,
         "Houston"
        ],
        [
         "ORDER-E461DA",
         "USER-CED89E",
         "271723-1",
         93,
         38.19,
         4,
         "New York"
        ],
        [
         "ORDER-E461DA",
         "USER-CED89E",
         "271723-1",
         93,
         38.19,
         4,
         "Chicago"
        ],
        [
         "ORDER-E461DA",
         "USER-CED89E",
         "271723-1",
         93,
         38.19,
         4,
         "Los Angeles"
        ],
        [
         "ORDER-A03487",
         "USER-25B3F3",
         "0015-1",
         93,
         94.73,
         2,
         "Los Angeles"
        ],
        [
         "ORDER-A03487",
         "USER-25B3F3",
         "0015-1",
         93,
         94.73,
         2,
         "Houston"
        ],
        [
         "ORDER-A03487",
         "USER-25B3F3",
         "0015-1",
         93,
         94.73,
         2,
         "Phoenix"
        ],
        [
         "ORDER-8D59B6",
         "USER-0E6653",
         "702-1",
         93,
         34.58,
         7,
         "New York"
        ],
        [
         "ORDER-84C078",
         "USER-62D0FE",
         "702-1",
         93,
         88.36,
         8,
         "Houston"
        ],
        [
         "ORDER-84C078",
         "USER-62D0FE",
         "702-1",
         93,
         88.36,
         8,
         "Phoenix"
        ],
        [
         "ORDER-84C078",
         "USER-62D0FE",
         "702-1",
         93,
         88.36,
         8,
         "Los Angeles"
        ],
        [
         "ORDER-84C078",
         "USER-62D0FE",
         "702-1",
         93,
         88.36,
         8,
         "Houston"
        ],
        [
         "ORDER-2E8A64",
         "USER-2E0ED1",
         "211901-1",
         93,
         55.31,
         1,
         "Los Angeles"
        ],
        [
         "ORDER-E351B9",
         "USER-66A3D6",
         "5008162-1",
         93,
         85.18,
         2,
         "Los Angeles"
        ],
        [
         "ORDER-E351B9",
         "USER-66A3D6",
         "5008162-1",
         93,
         85.18,
         2,
         "New York"
        ],
        [
         "ORDER-1544BF",
         "USER-AF6517",
         "5007392-1",
         93,
         53,
         6,
         "Chicago"
        ],
        [
         "ORDER-1544BF",
         "USER-AF6517",
         "5007392-1",
         93,
         53,
         6,
         "Phoenix"
        ],
        [
         "ORDER-BA6F4E",
         "USER-474C16",
         "242.1-1",
         93,
         21.15,
         9,
         "Houston"
        ],
        [
         "ORDER-BC7A38",
         "USER-8D2392",
         "2101259516196-1",
         93,
         63.52,
         8,
         "Phoenix"
        ],
        [
         "ORDER-BC7A38",
         "USER-8D2392",
         "2101259516196-1",
         93,
         63.52,
         8,
         "Houston"
        ],
        [
         "ORDER-0E4E1A",
         "USER-BBA901",
         "10133-1",
         93,
         31.97,
         9,
         "Los Angeles"
        ],
        [
         "ORDER-0E4E1A",
         "USER-BBA901",
         "10133-1",
         93,
         31.97,
         9,
         "Los Angeles"
        ],
        [
         "ORDER-D3AF48",
         "USER-CC9DBB",
         "010-1",
         93,
         27.16,
         5,
         "New York"
        ],
        [
         "ORDER-D3AF48",
         "USER-CC9DBB",
         "010-1",
         93,
         27.16,
         5,
         "Phoenix"
        ],
        [
         "ORDER-D3AF48",
         "USER-CC9DBB",
         "010-1",
         93,
         27.16,
         5,
         "Phoenix"
        ],
        [
         "ORDER-2E813E",
         "USER-A9A2BA",
         "1000565897-5",
         93,
         30.99,
         4,
         "Phoenix"
        ],
        [
         "ORDER-4E042A",
         "USER-1BE9FE",
         "5009187-1",
         93,
         92.24,
         5,
         "New York"
        ],
        [
         "ORDER-4E042A",
         "USER-1BE9FE",
         "5009187-1",
         93,
         92.24,
         5,
         "New York"
        ],
        [
         "ORDER-4E042A",
         "USER-1BE9FE",
         "5009187-1",
         93,
         92.24,
         5,
         "Houston"
        ],
        [
         "ORDER-D882C0",
         "USER-E01F79",
         "0015-1",
         93,
         86.41,
         6,
         "New York"
        ],
        [
         "ORDER-D882C0",
         "USER-E01F79",
         "0015-1",
         93,
         86.41,
         6,
         "Houston"
        ],
        [
         "ORDER-D882C0",
         "USER-E01F79",
         "0015-1",
         93,
         86.41,
         6,
         "Chicago"
        ],
        [
         "ORDER-D882C0",
         "USER-E01F79",
         "0015-1",
         93,
         86.41,
         6,
         "Phoenix"
        ],
        [
         "ORDER-D47607",
         "USER-D9BE48",
         "5009187-1",
         93,
         33.22,
         4,
         "Phoenix"
        ],
        [
         "ORDER-07F7D9",
         "USER-6BF9F0",
         "10572-1",
         93,
         77.17,
         6,
         "Los Angeles"
        ],
        [
         "ORDER-F3C4DD",
         "USER-B78963",
         "5009187-1",
         93,
         15.85,
         7,
         "Los Angeles"
        ],
        [
         "ORDER-C0BF55",
         "USER-64618D",
         "226-4",
         93,
         19.82,
         8,
         "New York"
        ],
        [
         "ORDER-C0BF55",
         "USER-64618D",
         "226-4",
         93,
         19.82,
         8,
         "Chicago"
        ],
        [
         "ORDER-C0BF55",
         "USER-64618D",
         "226-4",
         93,
         19.82,
         8,
         "Houston"
        ],
        [
         "ORDER-6A5F76",
         "USER-4041DF",
         "1000565897-5",
         93,
         59.97,
         2,
         "Houston"
        ],
        [
         "ORDER-668ABC",
         "USER-E0D3CE",
         "211901-1",
         93,
         5.44,
         10,
         "Chicago"
        ],
        [
         "ORDER-668ABC",
         "USER-E0D3CE",
         "211901-1",
         93,
         5.44,
         10,
         "Los Angeles"
        ],
        [
         "ORDER-B371CB",
         "USER-F8F40D",
         "7511-1",
         93,
         36.82,
         2,
         "Houston"
        ],
        [
         "ORDER-30E864",
         "USER-9A7050",
         "271723-1",
         93,
         78.92,
         5,
         "New York"
        ],
        [
         "ORDER-30E864",
         "USER-9A7050",
         "271723-1",
         93,
         78.92,
         5,
         "Chicago"
        ],
        [
         "ORDER-30E864",
         "USER-9A7050",
         "271723-1",
         93,
         78.92,
         5,
         "Los Angeles"
        ],
        [
         "ORDER-30E864",
         "USER-9A7050",
         "271723-1",
         93,
         78.92,
         5,
         "New York"
        ],
        [
         "ORDER-45179A",
         "USER-2A1E37",
         "7042-1",
         93,
         6.8,
         5,
         "Phoenix"
        ],
        [
         "ORDER-9DE90B",
         "USER-D7BB68",
         "10511-1",
         93,
         53.27,
         8,
         "Chicago"
        ],
        [
         "ORDER-105926",
         "USER-9E3940",
         "21344-1",
         93,
         82.79,
         9,
         "Los Angeles"
        ],
        [
         "ORDER-FA5407",
         "USER-8F1D44",
         "0906946506-1",
         93,
         22.78,
         2,
         "Houston"
        ],
        [
         "ORDER-118D33",
         "USER-D1550A",
         "065-1",
         93,
         41.22,
         5,
         "New York"
        ],
        [
         "ORDER-EDDB1E",
         "USER-FB2F07",
         "21344-1",
         93,
         41.12,
         5,
         "Chicago"
        ],
        [
         "ORDER-9B98C9",
         "USER-849F44",
         "218158-1",
         93,
         57.5,
         8,
         "Phoenix"
        ],
        [
         "ORDER-B86022",
         "USER-69302E",
         "10240-1",
         93,
         39.34,
         7,
         "New York"
        ],
        [
         "ORDER-B0C31E",
         "USER-CFA978",
         "218158-1",
         93,
         93.64,
         6,
         "Houston"
        ],
        [
         "ORDER-A5228F",
         "USER-F13249",
         "10059-1",
         93,
         15.34,
         7,
         "Los Angeles"
        ],
        [
         "ORDER-57A804",
         "USER-2055C3",
         "2101259516196-1",
         93,
         84.89,
         7,
         "New York"
        ],
        [
         "ORDER-6A5F76",
         "USER-4041DF",
         "10701-1",
         93,
         86.55,
         6,
         "Houston"
        ],
        [
         "ORDER-B57468",
         "USER-67DAF1",
         "41944-1",
         93,
         17.88,
         8,
         "Phoenix"
        ],
        [
         "ORDER-172701",
         "USER-27E84C",
         "5008162-1",
         93,
         90.15,
         4,
         "New York"
        ],
        [
         "ORDER-F2F05B",
         "USER-EB7121",
         "951178-1",
         93,
         94.91,
         1,
         "Houston"
        ],
        [
         "ORDER-F2F05B",
         "USER-EB7121",
         "951178-1",
         93,
         94.91,
         1,
         "New York"
        ],
        [
         "ORDER-62CA13",
         "USER-BD2CF3",
         "5007392-1",
         93,
         12.3,
         4,
         "Los Angeles"
        ],
        [
         "ORDER-6EFF37",
         "USER-DB0F57",
         "215-2B",
         93,
         56.34,
         7,
         "Houston"
        ],
        [
         "ORDER-375098",
         "USER-D96ED7",
         "271723-1",
         93,
         32.46,
         10,
         "Los Angeles"
        ],
        [
         "ORDER-21E9BD",
         "USER-18A1FC",
         "0015-1",
         93,
         67.24,
         1,
         "Chicago"
        ],
        [
         "ORDER-21E9BD",
         "USER-18A1FC",
         "0015-1",
         93,
         67.24,
         1,
         "Chicago"
        ],
        [
         "ORDER-21E9BD",
         "USER-18A1FC",
         "0015-1",
         93,
         67.24,
         1,
         "Chicago"
        ],
        [
         "ORDER-77F86D",
         "USER-3CF0A3",
         "10511-1",
         93,
         75.36,
         7,
         "Chicago"
        ],
        [
         "ORDER-67A027",
         "USER-A7DDF3",
         "101032405-1",
         93,
         45.87,
         6,
         "Chicago"
        ],
        [
         "ORDER-BC86BE",
         "USER-055BDB",
         "065-1",
         93,
         10.41,
         2,
         "New York"
        ],
        [
         "ORDER-BC86BE",
         "USER-055BDB",
         "065-1",
         93,
         10.41,
         2,
         "New York"
        ],
        [
         "ORDER-AE7A97",
         "USER-CE2149",
         "0015-1",
         93,
         42.73,
         4,
         "Los Angeles"
        ],
        [
         "ORDER-8F0A22",
         "USER-C17CA5",
         "065-1",
         93,
         92.69,
         1,
         "Chicago"
        ],
        [
         "ORDER-8C9F2B",
         "USER-66F316",
         "271723-1",
         93,
         93.66,
         2,
         "Los Angeles"
        ],
        [
         "ORDER-9A2703",
         "USER-889DB6",
         "702-1",
         93,
         9.02,
         1,
         "New York"
        ],
        [
         "ORDER-9ED573",
         "USER-977D2A",
         "21344-1",
         93,
         31.48,
         10,
         "New York"
        ],
        [
         "ORDER-35C6CC",
         "USER-5EA33B",
         "10019-1",
         93,
         64.04,
         7,
         "Phoenix"
        ],
        [
         "ORDER-35C6CC",
         "USER-5EA33B",
         "10019-1",
         93,
         64.04,
         7,
         "New York"
        ],
        [
         "ORDER-35C6CC",
         "USER-5EA33B",
         "10019-1",
         93,
         64.04,
         7,
         "Los Angeles"
        ],
        [
         "ORDER-35C6CC",
         "USER-5EA33B",
         "10019-1",
         93,
         64.04,
         7,
         "New York"
        ],
        [
         "ORDER-D4ADF6",
         "USER-5F19A0",
         "215-2B",
         93,
         70.08,
         6,
         "Chicago"
        ],
        [
         "ORDER-85FCF6",
         "USER-9D0FA4",
         "10572-1",
         93,
         33.68,
         6,
         "Phoenix"
        ],
        [
         "ORDER-2AF6B7",
         "USER-0968B4",
         "1000565897-5",
         93,
         29.84,
         6,
         "Los Angeles"
        ],
        [
         "ORDER-978B16",
         "USER-6EE64D",
         "41801-1",
         93,
         95.26,
         9,
         "Chicago"
        ],
        [
         "ORDER-978B16",
         "USER-6EE64D",
         "41801-1",
         93,
         95.26,
         9,
         "Los Angeles"
        ],
        [
         "ORDER-B76B67",
         "USER-807484",
         "045-1",
         93,
         13.83,
         1,
         "Houston"
        ],
        [
         "ORDER-3FA636",
         "USER-BD2CF3",
         "5007392-1",
         93,
         48.09,
         9,
         "Chicago"
        ],
        [
         "ORDER-3FA636",
         "USER-BD2CF3",
         "5007392-1",
         93,
         48.09,
         9,
         "Chicago"
        ],
        [
         "ORDER-3F5351",
         "USER-67333D",
         "242.1-1",
         93,
         87.08,
         7,
         "Houston"
        ],
        [
         "ORDER-1C5AE5",
         "USER-ADDCB5",
         "951178-1",
         93,
         50.2,
         2,
         "Chicago"
        ],
        [
         "ORDER-1C5AE5",
         "USER-ADDCB5",
         "951178-1",
         93,
         50.2,
         2,
         "Houston"
        ],
        [
         "ORDER-97A943",
         "USER-5DB70D",
         "7511-1",
         93,
         45.18,
         10,
         "Phoenix"
        ],
        [
         "ORDER-5EA14E",
         "USER-8BA361",
         "215-2B",
         93,
         71.98,
         7,
         "Los Angeles"
        ],
        [
         "ORDER-DF3F2B",
         "USER-17A6B0",
         "0015-1",
         93,
         20.78,
         3,
         "Chicago"
        ],
        [
         "ORDER-DF3F2B",
         "USER-17A6B0",
         "0015-1",
         93,
         20.78,
         3,
         "New York"
        ],
        [
         "ORDER-CF700D",
         "USER-19FF23",
         "1000565897-5",
         93,
         22.86,
         6,
         "Los Angeles"
        ],
        [
         "ORDER-7B51EE",
         "USER-0FCE24",
         "41944-1",
         93,
         18.65,
         1,
         "Chicago"
        ],
        [
         "ORDER-7B51EE",
         "USER-0FCE24",
         "41944-1",
         93,
         18.65,
         1,
         "New York"
        ],
        [
         "ORDER-7B51EE",
         "USER-0FCE24",
         "41944-1",
         93,
         18.65,
         1,
         "Chicago"
        ],
        [
         "ORDER-918744",
         "USER-8FAF56",
         "10133-1",
         93,
         43.96,
         7,
         "Houston"
        ],
        [
         "ORDER-7B16BF",
         "USER-28B83B",
         "0015-1",
         93,
         68.02,
         1,
         "Phoenix"
        ],
        [
         "ORDER-7B16BF",
         "USER-28B83B",
         "0015-1",
         93,
         68.02,
         1,
         "Houston"
        ],
        [
         "ORDER-7B16BF",
         "USER-28B83B",
         "0015-1",
         93,
         68.02,
         1,
         "Los Angeles"
        ],
        [
         "ORDER-7D6CAE",
         "USER-B97CEF",
         "0015-1",
         93,
         43.88,
         4,
         "Phoenix"
        ],
        [
         "ORDER-7D6CAE",
         "USER-B97CEF",
         "0015-1",
         93,
         43.88,
         4,
         "New York"
        ],
        [
         "ORDER-16BD6C",
         "USER-1780FC",
         "0906946506-1",
         93,
         67.37,
         9,
         "Los Angeles"
        ],
        [
         "ORDER-5A19B2",
         "USER-B9A581",
         "10240-1",
         93,
         64.63,
         1,
         "Houston"
        ],
        [
         "ORDER-F9768E",
         "USER-F51CA6",
         "21-1",
         93,
         76.19,
         1,
         "Los Angeles"
        ],
        [
         "ORDER-F9768E",
         "USER-F51CA6",
         "21-1",
         93,
         76.19,
         1,
         "Houston"
        ],
        [
         "ORDER-F9768E",
         "USER-F51CA6",
         "21-1",
         93,
         76.19,
         1,
         "New York"
        ],
        [
         "ORDER-B262CC",
         "USER-32381B",
         "10511-1",
         93,
         40.27,
         1,
         "Phoenix"
        ],
        [
         "ORDER-B262CC",
         "USER-32381B",
         "10511-1",
         93,
         40.27,
         1,
         "New York"
        ],
        [
         "ORDER-B262CC",
         "USER-32381B",
         "10511-1",
         93,
         40.27,
         1,
         "Chicago"
        ],
        [
         "ORDER-0D37EA",
         "USER-27E84C",
         "10059-1",
         93,
         93.45,
         5,
         "New York"
        ],
        [
         "ORDER-958539",
         "USER-4E502C",
         "5008162-1",
         93,
         56.63,
         6,
         "Phoenix"
        ],
        [
         "ORDER-D9AC3D",
         "USER-686CCE",
         "10511-1",
         93,
         69.41,
         10,
         "Chicago"
        ],
        [
         "ORDER-188AF0",
         "USER-A0202E",
         "218158-1",
         93,
         26.97,
         9,
         "New York"
        ],
        [
         "ORDER-CCCD71",
         "USER-04F4D0",
         "2101259516196-1",
         93,
         93.43,
         2,
         "Houston"
        ],
        [
         "ORDER-CCCD71",
         "USER-04F4D0",
         "2101259516196-1",
         93,
         93.43,
         2,
         "Los Angeles"
        ],
        [
         "ORDER-71B003",
         "USER-551D56",
         "045-1",
         93,
         95.33,
         1,
         "New York"
        ],
        [
         "ORDER-71B003",
         "USER-551D56",
         "045-1",
         93,
         95.33,
         1,
         "New York"
        ],
        [
         "ORDER-2B5AFF",
         "USER-DC2101",
         "21000-1",
         93,
         21.04,
         1,
         "Chicago"
        ],
        [
         "ORDER-BB28F6",
         "USER-B9A3A0",
         "10019-1",
         93,
         55.77,
         2,
         "Houston"
        ],
        [
         "ORDER-BB28F6",
         "USER-B9A3A0",
         "10019-1",
         93,
         55.77,
         2,
         "Los Angeles"
        ],
        [
         "ORDER-23A26F",
         "USER-F21E6C",
         "10701-1",
         93,
         17.92,
         8,
         "New York"
        ],
        [
         "ORDER-23A26F",
         "USER-F21E6C",
         "10701-1",
         93,
         17.92,
         8,
         "Los Angeles"
        ],
        [
         "ORDER-900068",
         "USER-C64DA0",
         "211901-1",
         93,
         70.06,
         7,
         "Chicago"
        ],
        [
         "ORDER-2E8A64",
         "USER-2E0ED1",
         "951178-1",
         93,
         62.41,
         6,
         "Los Angeles"
        ],
        [
         "ORDER-03FD46",
         "USER-AFF84C",
         "226-4",
         93,
         93.54,
         5,
         "Phoenix"
        ],
        [
         "ORDER-03FD46",
         "USER-AFF84C",
         "226-4",
         93,
         93.54,
         5,
         "Los Angeles"
        ],
        [
         "ORDER-AD42DC",
         "USER-694FA3",
         "10019-1",
         93,
         66.41,
         3,
         "New York"
        ],
        [
         "ORDER-34079F",
         "USER-30FF71",
         "10240-1",
         93,
         46.3,
         4,
         "Phoenix"
        ],
        [
         "ORDER-B060ED",
         "USER-F4350D",
         "102-1",
         93,
         87.23,
         3,
         "New York"
        ],
        [
         "ORDER-B060ED",
         "USER-F4350D",
         "102-1",
         93,
         87.23,
         3,
         "Los Angeles"
        ],
        [
         "ORDER-49EA09",
         "USER-813F04",
         "10240-1",
         93,
         31.04,
         3,
         "Houston"
        ],
        [
         "ORDER-FDEB04",
         "USER-BD80DD",
         "10391-1",
         93,
         47.1,
         5,
         "Houston"
        ],
        [
         "ORDER-EDDB1E",
         "USER-FB2F07",
         "41944-1",
         93,
         14.69,
         8,
         "Chicago"
        ],
        [
         "ORDER-DC08F5",
         "USER-23CE3D",
         "102-1",
         93,
         94.18,
         1,
         "Houston"
        ],
        [
         "ORDER-E244B5",
         "USER-694FA3",
         "0015-1",
         93,
         7.29,
         2,
         "Los Angeles"
        ],
        [
         "ORDER-E244B5",
         "USER-694FA3",
         "0015-1",
         93,
         7.29,
         2,
         "Houston"
        ],
        [
         "ORDER-E244B5",
         "USER-694FA3",
         "0015-1",
         93,
         7.29,
         2,
         "Chicago"
        ],
        [
         "ORDER-878225",
         "USER-57451F",
         "215-2B",
         93,
         86.78,
         1,
         "Chicago"
        ],
        [
         "ORDER-D6F4CB",
         "USER-7A6EF6",
         "065-1",
         93,
         71.26,
         5,
         "Houston"
        ],
        [
         "ORDER-9A8DEE",
         "USER-932C65",
         "10133-1",
         93,
         25.34,
         1,
         "Los Angeles"
        ],
        [
         "ORDER-9A8DEE",
         "USER-932C65",
         "10133-1",
         93,
         25.34,
         1,
         "Houston"
        ],
        [
         "ORDER-188AF0",
         "USER-A0202E",
         "045-1",
         93,
         11.36,
         1,
         "New York"
        ],
        [
         "ORDER-241DE6",
         "USER-7843DE",
         "10019-1",
         93,
         21.51,
         4,
         "Phoenix"
        ],
        [
         "ORDER-CCCD71",
         "USER-04F4D0",
         "5007392-1",
         93,
         12.11,
         10,
         "Houston"
        ],
        [
         "ORDER-CCCD71",
         "USER-04F4D0",
         "5007392-1",
         93,
         12.11,
         10,
         "Los Angeles"
        ],
        [
         "ORDER-970FE6",
         "USER-8630B4",
         "951178-1",
         93,
         72.14,
         7,
         "Los Angeles"
        ],
        [
         "ORDER-79A7AE",
         "USER-1BE9FE",
         "21-1",
         93,
         50.88,
         6,
         "Los Angeles"
        ],
        [
         "ORDER-1D6692",
         "USER-D1550A",
         "21000-1",
         93,
         37.69,
         3,
         "Los Angeles"
        ],
        [
         "ORDER-6BD0BF",
         "USER-1949F7",
         "5009187-1",
         93,
         63.44,
         2,
         "Houston"
        ],
        [
         "ORDER-6BD0BF",
         "USER-1949F7",
         "5009187-1",
         93,
         63.44,
         2,
         "Phoenix"
        ],
        [
         "ORDER-6BD0BF",
         "USER-1949F7",
         "5009187-1",
         93,
         63.44,
         2,
         "New York"
        ],
        [
         "ORDER-D009A2",
         "USER-4E502C",
         "102-1",
         93,
         52.1,
         5,
         "New York"
        ],
        [
         "ORDER-63C50C",
         "USER-A1ED18",
         "1000565897-5",
         93,
         97.29,
         9,
         "New York"
        ],
        [
         "ORDER-4779E9",
         "USER-BB3D87",
         "7511-1",
         93,
         95.59,
         6,
         "Los Angeles"
        ],
        [
         "ORDER-313A87",
         "USER-0D26E3",
         "10133-1",
         93,
         42.86,
         6,
         "Houston"
        ],
        [
         "ORDER-313A87",
         "USER-0D26E3",
         "10133-1",
         93,
         42.86,
         6,
         "Chicago"
        ],
        [
         "ORDER-EA9B71",
         "USER-47D2BB",
         "1000565897-5",
         93,
         26.02,
         6,
         "Phoenix"
        ],
        [
         "ORDER-79A7AE",
         "USER-1BE9FE",
         "7042-1",
         93,
         99.92,
         3,
         "Los Angeles"
        ],
        [
         "ORDER-188AF0",
         "USER-A0202E",
         "10019-1",
         93,
         58.98,
         5,
         "New York"
        ],
        [
         "ORDER-4EE32B",
         "USER-D2CBCF",
         "10292-1",
         93,
         94.95,
         6,
         "Phoenix"
        ],
        [
         "ORDER-4EE32B",
         "USER-D2CBCF",
         "10292-1",
         93,
         94.95,
         6,
         "Chicago"
        ],
        [
         "ORDER-FC4128",
         "USER-FD5FD7",
         "101032405-1",
         93,
         57.54,
         8,
         "Los Angeles"
        ],
        [
         "ORDER-D48057",
         "USER-824789",
         "010-1",
         93,
         17.17,
         7,
         "New York"
        ],
        [
         "ORDER-BD5B67",
         "USER-5C355B",
         "702-1",
         93,
         40.24,
         6,
         "Los Angeles"
        ],
        [
         "ORDER-BD5B67",
         "USER-5C355B",
         "702-1",
         93,
         40.24,
         6,
         "Houston"
        ],
        [
         "ORDER-DC5B40",
         "USER-25B3F3",
         "0906946506-1",
         93,
         30.28,
         5,
         "Houston"
        ],
        [
         "ORDER-A03487",
         "USER-25B3F3",
         "1062-1",
         93,
         15.76,
         3,
         "Los Angeles"
        ],
        [
         "ORDER-A03487",
         "USER-25B3F3",
         "1062-1",
         93,
         15.76,
         3,
         "Houston"
        ],
        [
         "ORDER-A03487",
         "USER-25B3F3",
         "1062-1",
         93,
         15.76,
         3,
         "Phoenix"
        ],
        [
         "ORDER-6209AE",
         "USER-BC4B7C",
         "1000565897-5",
         93,
         61.29,
         2,
         "Chicago"
        ],
        [
         "ORDER-6209AE",
         "USER-BC4B7C",
         "1000565897-5",
         93,
         61.29,
         2,
         "Los Angeles"
        ],
        [
         "ORDER-D48057",
         "USER-824789",
         "1062-1",
         93,
         69.54,
         9,
         "New York"
        ],
        [
         "ORDER-B3FDBE",
         "USER-126BFB",
         "045-1",
         93,
         14.07,
         7,
         "Chicago"
        ],
        [
         "ORDER-43AD2F",
         "USER-925134",
         "10059-1",
         93,
         14.45,
         8,
         "Chicago"
        ],
        [
         "ORDER-B41396",
         "USER-DC58AF",
         "271723-1",
         93,
         61.42,
         4,
         "Phoenix"
        ],
        [
         "ORDER-FDEB04",
         "USER-BD80DD",
         "10572-1",
         93,
         28.17,
         3,
         "Houston"
        ],
        [
         "ORDER-9A92ED",
         "USER-644F9D",
         "702-1",
         93,
         43.16,
         8,
         "New York"
        ],
        [
         "ORDER-9A92ED",
         "USER-644F9D",
         "702-1",
         93,
         43.16,
         8,
         "New York"
        ],
        [
         "ORDER-FA5407",
         "USER-8F1D44",
         "5007613-1",
         93,
         58.09,
         9,
         "Houston"
        ],
        [
         "ORDER-F999CB",
         "USER-15A825",
         "7042-1",
         93,
         63.36,
         1,
         "Phoenix"
        ],
        [
         "ORDER-9092A4",
         "USER-CC9DBB",
         "10701-1",
         93,
         26.24,
         6,
         "Phoenix"
        ],
        [
         "ORDER-89FD2A",
         "USER-549ACE",
         "215-2B",
         93,
         37.74,
         9,
         "Phoenix"
        ],
        [
         "ORDER-E221BD",
         "USER-CDE765",
         "5007877-1",
         93,
         67.28,
         8,
         "Chicago"
        ],
        [
         "ORDER-EBBF91",
         "USER-1DBAEA",
         "21000-1",
         93,
         50.89,
         6,
         "Phoenix"
        ],
        [
         "ORDER-2B42AD",
         "USER-CE10F2",
         "0906946506-1",
         93,
         61.34,
         8,
         "Houston"
        ],
        [
         "ORDER-63C50C",
         "USER-A1ED18",
         "41944-1",
         93,
         56.09,
         2,
         "New York"
        ],
        [
         "ORDER-F6D83D",
         "USER-474C16",
         "0906946506-1",
         93,
         40.27,
         5,
         "Phoenix"
        ],
        [
         "ORDER-E11FBD",
         "USER-F6EE58",
         "10133-1",
         93,
         84.03,
         2,
         "Los Angeles"
        ],
        [
         "ORDER-E11FBD",
         "USER-F6EE58",
         "10133-1",
         93,
         84.03,
         2,
         "Los Angeles"
        ],
        [
         "ORDER-145817",
         "USER-FE43B5",
         "5007877-1",
         93,
         36.63,
         3,
         "Los Angeles"
        ],
        [
         "ORDER-145817",
         "USER-FE43B5",
         "5007877-1",
         93,
         36.63,
         3,
         "Chicago"
        ],
        [
         "ORDER-AEF960",
         "USER-8EC82D",
         "10173-1",
         93,
         24.07,
         1,
         "New York"
        ],
        [
         "ORDER-AEF960",
         "USER-8EC82D",
         "10173-1",
         93,
         24.07,
         1,
         "Chicago"
        ],
        [
         "ORDER-8C9F2B",
         "USER-66F316",
         "0015-1",
         93,
         17.46,
         3,
         "Los Angeles"
        ],
        [
         "ORDER-F514DA",
         "USER-21CCA7",
         "852545-1",
         93,
         90.72,
         7,
         "Chicago"
        ],
        [
         "ORDER-34079F",
         "USER-30FF71",
         "10701-1",
         93,
         23.16,
         3,
         "Phoenix"
        ],
        [
         "ORDER-F3353C",
         "USER-D96ED7",
         "10391-1",
         93,
         27.72,
         3,
         "Houston"
        ],
        [
         "ORDER-2B5AFF",
         "USER-DC2101",
         "10292-1",
         93,
         53.05,
         9,
         "Chicago"
        ],
        [
         "ORDER-BAB069",
         "USER-860AA9",
         "5007877-1",
         93,
         77.95,
         9,
         "Chicago"
        ],
        [
         "ORDER-BAB069",
         "USER-860AA9",
         "5007877-1",
         93,
         77.95,
         9,
         "Chicago"
        ],
        [
         "ORDER-BAB069",
         "USER-860AA9",
         "5007877-1",
         93,
         77.95,
         9,
         "Los Angeles"
        ],
        [
         "ORDER-DEAF6D",
         "USER-2910E0",
         "702-1",
         93,
         60.87,
         1,
         "New York"
        ],
        [
         "ORDER-4D52A0",
         "USER-6BBCB0",
         "10133-1",
         93,
         65.36,
         8,
         "Houston"
        ],
        [
         "ORDER-8D59B6",
         "USER-0E6653",
         "70706-1",
         93,
         91.45,
         8,
         "New York"
        ],
        [
         "ORDER-B9E5DC",
         "USER-EF6582",
         "1062-1",
         93,
         10.82,
         6,
         "Phoenix"
        ],
        [
         "ORDER-4219E0",
         "USER-DA4EFA",
         "0906946506-1",
         93,
         41.83,
         10,
         "Houston"
        ],
        [
         "ORDER-4219E0",
         "USER-DA4EFA",
         "0906946506-1",
         93,
         41.83,
         10,
         "Chicago"
        ],
        [
         "ORDER-D2DBB7",
         "USER-EB44A4",
         "10173-1",
         93,
         90.94,
         4,
         "Houston"
        ],
        [
         "ORDER-18E09B",
         "USER-F6EE58",
         "10511-1",
         93,
         48.49,
         10,
         "Houston"
        ],
        [
         "ORDER-BC13A0",
         "USER-E5B37B",
         "10572-1",
         93,
         90.28,
         5,
         "Chicago"
        ],
        [
         "ORDER-BC13A0",
         "USER-E5B37B",
         "10572-1",
         93,
         90.28,
         5,
         "Houston"
        ],
        [
         "ORDER-8999B8",
         "USER-7843DE",
         "10511-1",
         93,
         79.41,
         9,
         "Los Angeles"
        ],
        [
         "ORDER-E1C2EB",
         "USER-AE51F3",
         "41944-1",
         93,
         73.52,
         3,
         "Los Angeles"
        ],
        [
         "ORDER-7B51EE",
         "USER-0FCE24",
         "1062-1",
         93,
         64.28,
         4,
         "Chicago"
        ],
        [
         "ORDER-7B51EE",
         "USER-0FCE24",
         "1062-1",
         93,
         64.28,
         4,
         "New York"
        ],
        [
         "ORDER-7B51EE",
         "USER-0FCE24",
         "1062-1",
         93,
         64.28,
         4,
         "Chicago"
        ],
        [
         "ORDER-EB3A10",
         "USER-33C9D2",
         "065-1",
         93,
         43.99,
         9,
         "Los Angeles"
        ],
        [
         "ORDER-EB3A10",
         "USER-33C9D2",
         "065-1",
         93,
         43.99,
         9,
         "Los Angeles"
        ],
        [
         "ORDER-83497F",
         "USER-979A5B",
         "10019-1",
         93,
         77.08,
         3,
         "Phoenix"
        ],
        [
         "ORDER-3DA661",
         "USER-57451F",
         "101032405-1",
         93,
         33.19,
         10,
         "Houston"
        ],
        [
         "ORDER-796465",
         "USER-A4F730",
         "271723-1",
         93,
         59.14,
         5,
         "New York"
        ],
        [
         "ORDER-0CFE8D",
         "USER-CA8519",
         "010-1",
         93,
         98.15,
         1,
         "Houston"
        ],
        [
         "ORDER-67F170",
         "USER-8630B4",
         "045-1",
         93,
         53.18,
         5,
         "Houston"
        ],
        [
         "ORDER-67F170",
         "USER-8630B4",
         "045-1",
         93,
         53.18,
         5,
         "New York"
        ],
        [
         "ORDER-3E25C2",
         "USER-8BA361",
         "1062-1",
         93,
         68.17,
         5,
         "Chicago"
        ],
        [
         "ORDER-3E25C2",
         "USER-8BA361",
         "1062-1",
         93,
         68.17,
         5,
         "Los Angeles"
        ],
        [
         "ORDER-7A5775",
         "USER-8758D7",
         "10701-1",
         93,
         75.98,
         10,
         "Los Angeles"
        ],
        [
         "ORDER-7A5775",
         "USER-8758D7",
         "10701-1",
         93,
         75.98,
         10,
         "New York"
        ],
        [
         "ORDER-73134F",
         "USER-6BF9F0",
         "10240-1",
         93,
         18.95,
         6,
         "Phoenix"
        ],
        [
         "ORDER-EA9B71",
         "USER-47D2BB",
         "10019-1",
         93,
         6.15,
         5,
         "Phoenix"
        ],
        [
         "ORDER-97A943",
         "USER-5DB70D",
         "271723-1",
         93,
         15.79,
         1,
         "Phoenix"
        ],
        [
         "ORDER-102548",
         "USER-3E27AB",
         "21-1",
         93,
         70.48,
         3,
         "New York"
        ],
        [
         "ORDER-102548",
         "USER-3E27AB",
         "21-1",
         93,
         70.48,
         3,
         "Los Angeles"
        ],
        [
         "ORDER-102548",
         "USER-3E27AB",
         "21-1",
         93,
         70.48,
         3,
         "New York"
        ],
        [
         "ORDER-78664E",
         "USER-CBB57F",
         "0906946506-1",
         93,
         32.65,
         6,
         "Houston"
        ],
        [
         "ORDER-BBC529",
         "USER-3E7413",
         "242.1-1",
         93,
         94.83,
         6,
         "New York"
        ],
        [
         "ORDER-DFD6EF",
         "USER-EBFA58",
         "7042-1",
         93,
         43.34,
         7,
         "New York"
        ],
        [
         "ORDER-76325D",
         "USER-CC9DBB",
         "21000-1",
         93,
         29.16,
         6,
         "New York"
        ],
        [
         "ORDER-76325D",
         "USER-CC9DBB",
         "21000-1",
         93,
         29.16,
         6,
         "Phoenix"
        ],
        [
         "ORDER-DAD0C8",
         "USER-522AB7",
         "010-1",
         93,
         49.22,
         6,
         "Houston"
        ],
        [
         "ORDER-B76B67",
         "USER-807484",
         "271723-1",
         93,
         9.44,
         6,
         "Houston"
        ],
        [
         "ORDER-6BD0BF",
         "USER-1949F7",
         "0906946506-1",
         93,
         50.86,
         4,
         "Houston"
        ],
        [
         "ORDER-6BD0BF",
         "USER-1949F7",
         "0906946506-1",
         93,
         50.86,
         4,
         "Phoenix"
        ],
        [
         "ORDER-6BD0BF",
         "USER-1949F7",
         "0906946506-1",
         93,
         50.86,
         4,
         "New York"
        ],
        [
         "ORDER-E351B9",
         "USER-66A3D6",
         "5008162-1",
         93,
         89.37,
         10,
         "Los Angeles"
        ],
        [
         "ORDER-E351B9",
         "USER-66A3D6",
         "5008162-1",
         93,
         89.37,
         10,
         "New York"
        ],
        [
         "ORDER-1834D8",
         "USER-6CE8EA",
         "10572-1",
         93,
         92.17,
         3,
         "Chicago"
        ],
        [
         "ORDER-6DCF98",
         "USER-AA6543",
         "045-1",
         93,
         82.99,
         6,
         "Houston"
        ],
        [
         "ORDER-B9B22E",
         "USER-27FA85",
         "10511-1",
         93,
         17.95,
         3,
         "New York"
        ],
        [
         "ORDER-B9B22E",
         "USER-27FA85",
         "10511-1",
         93,
         17.95,
         3,
         "Chicago"
        ],
        [
         "ORDER-B9B22E",
         "USER-27FA85",
         "10511-1",
         93,
         17.95,
         3,
         "Houston"
        ],
        [
         "ORDER-16BD6C",
         "USER-1780FC",
         "5007392-1",
         93,
         49.67,
         9,
         "Los Angeles"
        ],
        [
         "ORDER-466381",
         "USER-FC2F54",
         "10240-1",
         93,
         63.99,
         9,
         "Chicago"
        ],
        [
         "ORDER-466381",
         "USER-FC2F54",
         "10240-1",
         93,
         63.99,
         9,
         "Phoenix"
        ],
        [
         "ORDER-D770FF",
         "USER-C29A5D",
         "271723-1",
         93,
         21.92,
         1,
         "Los Angeles"
        ],
        [
         "ORDER-D770FF",
         "USER-C29A5D",
         "271723-1",
         93,
         21.92,
         1,
         "Los Angeles"
        ],
        [
         "ORDER-D770FF",
         "USER-C29A5D",
         "271723-1",
         93,
         21.92,
         1,
         "Los Angeles"
        ],
        [
         "ORDER-696090",
         "USER-17F2C4",
         "211901-1",
         93,
         69.47,
         6,
         "Chicago"
        ],
        [
         "ORDER-912882",
         "USER-C23529",
         "41944-1",
         93,
         91.51,
         5,
         "New York"
        ],
        [
         "ORDER-912882",
         "USER-C23529",
         "41944-1",
         93,
         91.51,
         5,
         "New York"
        ],
        [
         "ORDER-912882",
         "USER-C23529",
         "41944-1",
         93,
         91.51,
         5,
         "Phoenix"
        ],
        [
         "ORDER-F2167C",
         "USER-8C9F7F",
         "41944-1",
         93,
         60.41,
         5,
         "Phoenix"
        ],
        [
         "ORDER-F2167C",
         "USER-8C9F7F",
         "41944-1",
         93,
         60.41,
         5,
         "New York"
        ],
        [
         "ORDER-B407C9",
         "USER-590AF1",
         "5007392-1",
         93,
         51.03,
         1,
         "Los Angeles"
        ],
        [
         "ORDER-918744",
         "USER-8FAF56",
         "10292-1",
         93,
         58.35,
         8,
         "Houston"
        ],
        [
         "ORDER-9A46E3",
         "USER-A2837D",
         "5007613-1",
         93,
         83.68,
         5,
         "New York"
        ],
        [
         "ORDER-9A46E3",
         "USER-A2837D",
         "5007613-1",
         93,
         83.68,
         5,
         "New York"
        ],
        [
         "ORDER-801A78",
         "USER-2313F5",
         "010-1",
         93,
         55.41,
         7,
         "Los Angeles"
        ],
        [
         "ORDER-7FB69A",
         "USER-2BDA86",
         "5007392-1",
         93,
         63.96,
         8,
         "New York"
        ],
        [
         "ORDER-B30878",
         "USER-B4631C",
         "702-1",
         93,
         73.72,
         10,
         "Phoenix"
        ],
        [
         "ORDER-52C36A",
         "USER-4E7EE0",
         "10701-1",
         93,
         82.43,
         3,
         "New York"
        ],
        [
         "ORDER-52C36A",
         "USER-4E7EE0",
         "10701-1",
         93,
         82.43,
         3,
         "Houston"
        ],
        [
         "ORDER-DFD6EF",
         "USER-EBFA58",
         "10240-1",
         93,
         31.53,
         9,
         "New York"
        ],
        [
         "ORDER-7CF6A3",
         "USER-2271C5",
         "10572-1",
         93,
         93.32,
         9,
         "Houston"
        ],
        [
         "ORDER-3FA636",
         "USER-BD2CF3",
         "218158-1",
         93,
         57.71,
         2,
         "Chicago"
        ],
        [
         "ORDER-3FA636",
         "USER-BD2CF3",
         "218158-1",
         93,
         57.71,
         2,
         "Chicago"
        ],
        [
         "ORDER-27FEF1",
         "USER-B9A3A0",
         "10059-1",
         93,
         34.28,
         10,
         "Chicago"
        ],
        [
         "ORDER-878225",
         "USER-57451F",
         "10292-1",
         93,
         35.83,
         8,
         "Chicago"
        ],
        [
         "ORDER-F3C4DD",
         "USER-B78963",
         "7511-1",
         93,
         68.59,
         9,
         "Los Angeles"
        ],
        [
         "ORDER-F928EE",
         "USER-6C595C",
         "10572-1",
         93,
         33.24,
         2,
         "New York"
        ],
        [
         "ORDER-F928EE",
         "USER-6C595C",
         "10572-1",
         93,
         33.24,
         2,
         "Phoenix"
        ],
        [
         "ORDER-1E77E6",
         "USER-47A71B",
         "41801-1",
         93,
         41.06,
         2,
         "New York"
        ],
        [
         "ORDER-1E77E6",
         "USER-47A71B",
         "41801-1",
         93,
         41.06,
         2,
         "Los Angeles"
        ],
        [
         "ORDER-83497F",
         "USER-979A5B",
         "5007877-1",
         93,
         42,
         3,
         "Phoenix"
        ],
        [
         "ORDER-1F17B9",
         "USER-8F390C",
         "102-1",
         93,
         16.55,
         4,
         "Chicago"
        ],
        [
         "ORDER-1F17B9",
         "USER-8F390C",
         "102-1",
         93,
         16.55,
         4,
         "Chicago"
        ],
        [
         "ORDER-1F17B9",
         "USER-8F390C",
         "102-1",
         93,
         16.55,
         4,
         "Phoenix"
        ],
        [
         "ORDER-1F17B9",
         "USER-8F390C",
         "102-1",
         93,
         16.55,
         4,
         "Houston"
        ],
        [
         "ORDER-8D1F83",
         "USER-15A825",
         "045-1",
         93,
         52.61,
         9,
         "Chicago"
        ],
        [
         "ORDER-2C98E9",
         "USER-A080AD",
         "1062-1",
         93,
         49.55,
         1,
         "Chicago"
        ],
        [
         "ORDER-2C98E9",
         "USER-A080AD",
         "1062-1",
         93,
         49.55,
         1,
         "Chicago"
        ],
        [
         "ORDER-EAB30F",
         "USER-C33439",
         "41801-1",
         93,
         68.83,
         10,
         "New York"
        ],
        [
         "ORDER-B0C31E",
         "USER-CFA978",
         "10391-1",
         93,
         84.03,
         9,
         "Houston"
        ],
        [
         "ORDER-5D539F",
         "USER-E5B37B",
         "10019-1",
         93,
         36.2,
         9,
         "Chicago"
        ],
        [
         "ORDER-BB5E0A",
         "USER-15F52C",
         "21-1",
         93,
         56.81,
         8,
         "Chicago"
        ],
        [
         "ORDER-BB5E0A",
         "USER-15F52C",
         "21-1",
         93,
         56.81,
         8,
         "Houston"
        ],
        [
         "ORDER-9BC799",
         "USER-E242F4",
         "70706-1",
         93,
         59.73,
         4,
         "Houston"
        ],
        [
         "ORDER-A95DCB",
         "USER-A0B986",
         "10292-1",
         93,
         23.07,
         1,
         "Chicago"
        ],
        [
         "ORDER-A95DCB",
         "USER-A0B986",
         "10292-1",
         93,
         23.07,
         1,
         "Los Angeles"
        ],
        [
         "ORDER-F24BEE",
         "USER-EB307F",
         "951178-1",
         93,
         71.05,
         7,
         "Los Angeles"
        ],
        [
         "ORDER-21E9BD",
         "USER-18A1FC",
         "045-1",
         93,
         70.55,
         1,
         "Chicago"
        ],
        [
         "ORDER-21E9BD",
         "USER-18A1FC",
         "045-1",
         93,
         70.55,
         1,
         "Chicago"
        ],
        [
         "ORDER-21E9BD",
         "USER-18A1FC",
         "045-1",
         93,
         70.55,
         1,
         "Chicago"
        ],
        [
         "ORDER-0D1516",
         "USER-6D4F60",
         "102-1",
         93,
         33.55,
         1,
         "New York"
        ],
        [
         "ORDER-E369AA",
         "USER-5925FF",
         "10292-1",
         93,
         53.94,
         3,
         "Chicago"
        ],
        [
         "ORDER-83497F",
         "USER-979A5B",
         "0015-1",
         93,
         78.46,
         9,
         "Phoenix"
        ],
        [
         "ORDER-E07BD0",
         "USER-188299",
         "702-1",
         93,
         66.55,
         3,
         "Houston"
        ],
        [
         "ORDER-E07BD0",
         "USER-188299",
         "702-1",
         93,
         66.55,
         3,
         "Phoenix"
        ],
        [
         "ORDER-C2E005",
         "USER-95E279",
         "7042-1",
         93,
         94.22,
         9,
         "Phoenix"
        ],
        [
         "ORDER-C2E005",
         "USER-95E279",
         "7042-1",
         93,
         94.22,
         9,
         "Chicago"
        ],
        [
         "ORDER-C2E005",
         "USER-95E279",
         "7042-1",
         93,
         94.22,
         9,
         "New York"
        ],
        [
         "ORDER-5D51DC",
         "USER-DB34C6",
         "1062-1",
         93,
         72.35,
         9,
         "Houston"
        ],
        [
         "ORDER-5D51DC",
         "USER-DB34C6",
         "1062-1",
         93,
         72.35,
         9,
         "New York"
        ],
        [
         "ORDER-34079F",
         "USER-30FF71",
         "211901-1",
         93,
         83.53,
         6,
         "Phoenix"
        ],
        [
         "ORDER-9AC064",
         "USER-180E72",
         "10511-1",
         93,
         43,
         9,
         "Chicago"
        ],
        [
         "ORDER-1F830C",
         "USER-04B139",
         "21-1",
         93,
         91.32,
         2,
         "Houston"
        ],
        [
         "ORDER-20F72B",
         "USER-1F494D",
         "101032405-1",
         93,
         14.43,
         7,
         "Phoenix"
        ],
        [
         "ORDER-20F72B",
         "USER-1F494D",
         "101032405-1",
         93,
         14.43,
         7,
         "Chicago"
        ],
        [
         "ORDER-20F72B",
         "USER-1F494D",
         "101032405-1",
         93,
         14.43,
         7,
         "Houston"
        ],
        [
         "ORDER-2838F2",
         "USER-B2DD27",
         "7042-1",
         93,
         60.66,
         3,
         "Houston"
        ],
        [
         "ORDER-2838F2",
         "USER-B2DD27",
         "7042-1",
         93,
         60.66,
         3,
         "Phoenix"
        ],
        [
         "ORDER-EBBF91",
         "USER-1DBAEA",
         "21-1",
         93,
         76.75,
         5,
         "Phoenix"
        ],
        [
         "ORDER-086FBF",
         "USER-4B094C",
         "5007877-1",
         93,
         98,
         8,
         "Phoenix"
        ],
        [
         "ORDER-8BB7A8",
         "USER-683BF7",
         "21000-1",
         93,
         68.67,
         10,
         "Houston"
        ],
        [
         "ORDER-D8440B",
         "USER-76F258",
         "21344-1",
         93,
         27.4,
         7,
         "Los Angeles"
        ],
        [
         "ORDER-D8440B",
         "USER-76F258",
         "21344-1",
         93,
         27.4,
         7,
         "New York"
        ],
        [
         "ORDER-62FA5C",
         "USER-943267",
         "10059-1",
         93,
         62.14,
         3,
         "New York"
        ],
        [
         "ORDER-62FA5C",
         "USER-943267",
         "10059-1",
         93,
         62.14,
         3,
         "Phoenix"
        ],
        [
         "ORDER-62FA5C",
         "USER-943267",
         "10059-1",
         93,
         62.14,
         3,
         "New York"
        ],
        [
         "ORDER-F9D786",
         "USER-A9E1A9",
         "10019-1",
         93,
         89.27,
         3,
         "New York"
        ],
        [
         "ORDER-F9D786",
         "USER-A9E1A9",
         "10019-1",
         93,
         89.27,
         3,
         "Los Angeles"
        ],
        [
         "ORDER-A20C0B",
         "USER-911B35",
         "10511-1",
         93,
         44.46,
         9,
         "Houston"
        ],
        [
         "ORDER-A4C864",
         "USER-A312EA",
         "10391-1",
         93,
         88.73,
         10,
         "Houston"
        ],
        [
         "ORDER-7831F6",
         "USER-ADC4C3",
         "218158-1",
         93,
         9.95,
         9,
         "New York"
        ],
        [
         "ORDER-98CD6B",
         "USER-599B13",
         "010-1",
         93,
         71.91,
         7,
         "Los Angeles"
        ],
        [
         "ORDER-382E09",
         "USER-498D40",
         "41944-1",
         93,
         78.13,
         1,
         "Houston"
        ],
        [
         "ORDER-634948",
         "USER-4C764F",
         "5007392-1",
         93,
         5.79,
         5,
         "Phoenix"
        ],
        [
         "ORDER-AF3F95",
         "USER-2164A9",
         "702-1",
         93,
         39.44,
         3,
         "Phoenix"
        ],
        [
         "ORDER-AF3F95",
         "USER-2164A9",
         "702-1",
         93,
         39.44,
         3,
         "New York"
        ],
        [
         "ORDER-CFE157",
         "USER-7E2207",
         "41944-1",
         93,
         37.95,
         1,
         "Houston"
        ],
        [
         "ORDER-5CE28B",
         "USER-860AA9",
         "10133-1",
         93,
         18.71,
         9,
         "Los Angeles"
        ],
        [
         "ORDER-26385D",
         "USER-FC2F54",
         "5007392-1",
         93,
         8.06,
         7,
         "Phoenix"
        ],
        [
         "ORDER-0D37D9",
         "USER-8A05C5",
         "10240-1",
         93,
         26.84,
         9,
         "Los Angeles"
        ],
        [
         "ORDER-35AA7C",
         "USER-47A71B",
         "70706-1",
         93,
         60.42,
         10,
         "New York"
        ],
        [
         "ORDER-35AA7C",
         "USER-47A71B",
         "70706-1",
         93,
         60.42,
         10,
         "Los Angeles"
        ],
        [
         "ORDER-618DE2",
         "USER-95E279",
         "5008162-1",
         93,
         85.59,
         4,
         "Chicago"
        ],
        [
         "ORDER-618DE2",
         "USER-95E279",
         "5008162-1",
         93,
         85.59,
         4,
         "New York"
        ],
        [
         "ORDER-618DE2",
         "USER-95E279",
         "5008162-1",
         93,
         85.59,
         4,
         "New York"
        ],
        [
         "ORDER-27FEF1",
         "USER-B9A3A0",
         "271723-1",
         93,
         53.38,
         9,
         "Chicago"
        ],
        [
         "ORDER-3870B5",
         "USER-7EC40C",
         "0906946506-1",
         93,
         36.38,
         5,
         "Houston"
        ],
        [
         "ORDER-3870B5",
         "USER-7EC40C",
         "0906946506-1",
         93,
         36.38,
         5,
         "Phoenix"
        ],
        [
         "ORDER-91D8FB",
         "USER-D75F47",
         "70706-1",
         93,
         49.34,
         10,
         "Los Angeles"
        ],
        [
         "ORDER-5E6C64",
         "USER-FD6D91",
         "1000565897-5",
         93,
         59.89,
         3,
         "Los Angeles"
        ],
        [
         "ORDER-EF8ABA",
         "USER-C0D1EE",
         "10572-1",
         93,
         22.17,
         6,
         "Chicago"
        ],
        [
         "ORDER-C5FCB4",
         "USER-E2D27C",
         "101032405-1",
         93,
         69.84,
         2,
         "Los Angeles"
        ],
        [
         "ORDER-223CD3",
         "USER-416FA4",
         "10701-1",
         93,
         94.28,
         5,
         "New York"
        ],
        [
         "ORDER-4DA53E",
         "USER-E242F4",
         "10019-1",
         93,
         51.31,
         6,
         "Houston"
        ],
        [
         "ORDER-4DA53E",
         "USER-E242F4",
         "10019-1",
         93,
         51.31,
         6,
         "Phoenix"
        ],
        [
         "ORDER-4DA53E",
         "USER-E242F4",
         "10019-1",
         93,
         51.31,
         6,
         "Phoenix"
        ],
        [
         "ORDER-AEF960",
         "USER-8EC82D",
         "215-2B",
         93,
         30.08,
         2,
         "New York"
        ],
        [
         "ORDER-AEF960",
         "USER-8EC82D",
         "215-2B",
         93,
         30.08,
         2,
         "Chicago"
        ],
        [
         "ORDER-43477C",
         "USER-15D19E",
         "21344-1",
         93,
         46.62,
         1,
         "New York"
        ],
        [
         "ORDER-20CAF9",
         "USER-861016",
         "41801-1",
         93,
         76.15,
         2,
         "Houston"
        ],
        [
         "ORDER-6EFF37",
         "USER-DB0F57",
         "218158-1",
         93,
         85.49,
         5,
         "Houston"
        ],
        [
         "ORDER-A7CAC3",
         "USER-C17CA5",
         "0015-1",
         93,
         99.52,
         9,
         "Chicago"
        ],
        [
         "ORDER-A7CAC3",
         "USER-C17CA5",
         "0015-1",
         93,
         99.52,
         9,
         "Houston"
        ],
        [
         "ORDER-B57468",
         "USER-67DAF1",
         "7511-1",
         93,
         56.12,
         2,
         "Phoenix"
        ],
        [
         "ORDER-7D6CAE",
         "USER-B97CEF",
         "215-2B",
         93,
         18.64,
         10,
         "Phoenix"
        ],
        [
         "ORDER-7D6CAE",
         "USER-B97CEF",
         "215-2B",
         93,
         18.64,
         10,
         "New York"
        ],
        [
         "ORDER-6402CB",
         "USER-0872CF",
         "10133-1",
         93,
         10.47,
         4,
         "Phoenix"
        ],
        [
         "ORDER-6402CB",
         "USER-0872CF",
         "10133-1",
         93,
         10.47,
         4,
         "Houston"
        ],
        [
         "ORDER-FB8B89",
         "USER-A312EA",
         "21-1",
         93,
         53.61,
         3,
         "Chicago"
        ],
        [
         "ORDER-B254EB",
         "USER-FE1598",
         "226-4",
         93,
         44.29,
         8,
         "Phoenix"
        ],
        [
         "ORDER-A679C0",
         "USER-7D9219",
         "10511-1",
         93,
         24.28,
         3,
         "Chicago"
        ],
        [
         "ORDER-A679C0",
         "USER-7D9219",
         "10511-1",
         93,
         24.28,
         3,
         "Chicago"
        ],
        [
         "ORDER-912882",
         "USER-C23529",
         "0015-1",
         93,
         77.96,
         6,
         "New York"
        ],
        [
         "ORDER-912882",
         "USER-C23529",
         "0015-1",
         93,
         77.96,
         6,
         "New York"
        ],
        [
         "ORDER-912882",
         "USER-C23529",
         "0015-1",
         93,
         77.96,
         6,
         "Phoenix"
        ],
        [
         "ORDER-118D33",
         "USER-D1550A",
         "5007613-1",
         93,
         44.54,
         8,
         "New York"
        ],
        [
         "ORDER-DC5B40",
         "USER-25B3F3",
         "101032405-1",
         93,
         25.38,
         8,
         "Houston"
        ],
        [
         "ORDER-466381",
         "USER-FC2F54",
         "045-1",
         93,
         53.81,
         5,
         "Chicago"
        ],
        [
         "ORDER-466381",
         "USER-FC2F54",
         "045-1",
         93,
         53.81,
         5,
         "Phoenix"
        ],
        [
         "ORDER-0D37EA",
         "USER-27E84C",
         "21000-1",
         93,
         61.4,
         9,
         "New York"
        ],
        [
         "ORDER-9A8DEE",
         "USER-932C65",
         "5007613-1",
         93,
         74.25,
         5,
         "Los Angeles"
        ],
        [
         "ORDER-9A8DEE",
         "USER-932C65",
         "5007613-1",
         93,
         74.25,
         5,
         "Houston"
        ],
        [
         "ORDER-524BB5",
         "USER-C75D9C",
         "211901-1",
         93,
         33.39,
         9,
         "New York"
        ],
        [
         "ORDER-1BF707",
         "USER-598571",
         "10041-1",
         93,
         52.96,
         7,
         "Houston"
        ],
        [
         "ORDER-7A60A1",
         "USER-6345D8",
         "10240-1",
         93,
         33.76,
         10,
         "Chicago"
        ],
        [
         "ORDER-7A60A1",
         "USER-6345D8",
         "10240-1",
         93,
         33.76,
         10,
         "Los Angeles"
        ],
        [
         "ORDER-A430D2",
         "USER-8C9F7F",
         "271723-1",
         93,
         17.65,
         8,
         "Houston"
        ],
        [
         "ORDER-4AE98C",
         "USER-3AAAE1",
         "218158-1",
         93,
         71.42,
         5,
         "Phoenix"
        ],
        [
         "ORDER-B03B63",
         "USER-E8667E",
         "5007877-1",
         93,
         61.3,
         6,
         "Phoenix"
        ],
        [
         "ORDER-B03B63",
         "USER-E8667E",
         "5007877-1",
         93,
         61.3,
         6,
         "Phoenix"
        ],
        [
         "ORDER-B03B63",
         "USER-E8667E",
         "5007877-1",
         93,
         61.3,
         6,
         "New York"
        ],
        [
         "ORDER-B03B63",
         "USER-E8667E",
         "5007877-1",
         93,
         61.3,
         6,
         "Houston"
        ],
        [
         "ORDER-1061D5",
         "USER-33D9C9",
         "0015-1",
         93,
         11.81,
         10,
         "Houston"
        ],
        [
         "ORDER-B262CC",
         "USER-32381B",
         "10391-1",
         93,
         20.91,
         6,
         "Phoenix"
        ],
        [
         "ORDER-B262CC",
         "USER-32381B",
         "10391-1",
         93,
         20.91,
         6,
         "New York"
        ],
        [
         "ORDER-B262CC",
         "USER-32381B",
         "10391-1",
         93,
         20.91,
         6,
         "Chicago"
        ],
        [
         "ORDER-0D37EA",
         "USER-27E84C",
         "7042-1",
         93,
         32.76,
         9,
         "New York"
        ],
        [
         "ORDER-F2167C",
         "USER-8C9F7F",
         "1062-1",
         93,
         78.01,
         8,
         "Phoenix"
        ],
        [
         "ORDER-F2167C",
         "USER-8C9F7F",
         "1062-1",
         93,
         78.01,
         8,
         "New York"
        ],
        [
         "ORDER-9092A4",
         "USER-CC9DBB",
         "5007613-1",
         93,
         33.87,
         7,
         "Phoenix"
        ],
        [
         "ORDER-45179A",
         "USER-2A1E37",
         "41944-1",
         93,
         68.44,
         5,
         "Phoenix"
        ],
        [
         "ORDER-215C31",
         "USER-861016",
         "41944-1",
         93,
         18.58,
         6,
         "Phoenix"
        ],
        [
         "ORDER-31AFF3",
         "USER-6FC6C1",
         "21000-1",
         93,
         8.48,
         8,
         "Phoenix"
        ],
        [
         "ORDER-31AFF3",
         "USER-6FC6C1",
         "21000-1",
         93,
         8.48,
         8,
         "Los Angeles"
        ],
        [
         "ORDER-9AC064",
         "USER-180E72",
         "41944-1",
         93,
         80.57,
         8,
         "Chicago"
        ],
        [
         "ORDER-B333A2",
         "USER-DB1CBD",
         "21344-1",
         93,
         85.89,
         4,
         "New York"
        ],
        [
         "ORDER-BD6FA5",
         "USER-31B35C",
         "21344-1",
         93,
         80.62,
         2,
         "New York"
        ],
        [
         "ORDER-BD6FA5",
         "USER-31B35C",
         "21344-1",
         93,
         80.62,
         2,
         "New York"
        ],
        [
         "ORDER-3E25C2",
         "USER-8BA361",
         "10019-1",
         93,
         20.3,
         10,
         "Chicago"
        ],
        [
         "ORDER-3E25C2",
         "USER-8BA361",
         "10019-1",
         93,
         20.3,
         10,
         "Los Angeles"
        ],
        [
         "ORDER-0CB00B",
         "USER-CA74DB",
         "21000-1",
         93,
         44.4,
         8,
         "Houston"
        ],
        [
         "ORDER-0CB00B",
         "USER-CA74DB",
         "21000-1",
         93,
         44.4,
         8,
         "Phoenix"
        ],
        [
         "ORDER-0CB00B",
         "USER-CA74DB",
         "21000-1",
         93,
         44.4,
         8,
         "Los Angeles"
        ],
        [
         "ORDER-A0F870",
         "USER-E8667E",
         "5008162-1",
         93,
         90.8,
         1,
         "Phoenix"
        ],
        [
         "ORDER-A0F870",
         "USER-E8667E",
         "5008162-1",
         93,
         90.8,
         1,
         "New York"
        ],
        [
         "ORDER-A0F870",
         "USER-E8667E",
         "5008162-1",
         93,
         90.8,
         1,
         "Los Angeles"
        ],
        [
         "ORDER-A5C263",
         "USER-FD6D91",
         "271723-1",
         93,
         76.64,
         9,
         "Los Angeles"
        ],
        [
         "ORDER-C4C9E3",
         "USER-426B08",
         "10292-1",
         93,
         95.85,
         1,
         "Houston"
        ],
        [
         "ORDER-C4C9E3",
         "USER-426B08",
         "10292-1",
         93,
         95.85,
         1,
         "Houston"
        ],
        [
         "ORDER-3632AD",
         "USER-480160",
         "211901-1",
         93,
         45.87,
         1,
         "Houston"
        ],
        [
         "ORDER-C26A1D",
         "USER-AC3AF3",
         "702-1",
         93,
         53.18,
         3,
         "New York"
        ],
        [
         "ORDER-91525A",
         "USER-3F5722",
         "21000-1",
         93,
         5.77,
         8,
         "New York"
        ],
        [
         "ORDER-91525A",
         "USER-3F5722",
         "21000-1",
         93,
         5.77,
         8,
         "Phoenix"
        ],
        [
         "ORDER-7A5775",
         "USER-8758D7",
         "0015-1",
         93,
         35.56,
         4,
         "Los Angeles"
        ],
        [
         "ORDER-7A5775",
         "USER-8758D7",
         "0015-1",
         93,
         35.56,
         4,
         "New York"
        ],
        [
         "ORDER-7E0D10",
         "USER-63AC25",
         "102-1",
         93,
         26.84,
         6,
         "Chicago"
        ],
        [
         "ORDER-37F7B2",
         "USER-683BF7",
         "41801-1",
         93,
         65.64,
         8,
         "Los Angeles"
        ],
        [
         "ORDER-A7F8CB",
         "USER-979A5B",
         "21344-1",
         93,
         65.93,
         5,
         "Houston"
        ],
        [
         "ORDER-62C886",
         "USER-194560",
         "218158-1",
         93,
         55.16,
         8,
         "Houston"
        ],
        [
         "ORDER-62C886",
         "USER-194560",
         "218158-1",
         93,
         55.16,
         8,
         "New York"
        ],
        [
         "ORDER-C43E6C",
         "USER-453226",
         "41801-1",
         93,
         62.01,
         2,
         "Los Angeles"
        ],
        [
         "ORDER-C7295E",
         "USER-248C05",
         "10240-1",
         93,
         92.27,
         3,
         "Phoenix"
        ],
        [
         "ORDER-C7295E",
         "USER-248C05",
         "10240-1",
         93,
         92.27,
         3,
         "Los Angeles"
        ],
        [
         "ORDER-50CACD",
         "USER-EBFA58",
         "21000-1",
         93,
         77.16,
         9,
         "New York"
        ],
        [
         "ORDER-88C43A",
         "USER-BC070D",
         "0015-1",
         93,
         44,
         7,
         "New York"
        ],
        [
         "ORDER-C43E6C",
         "USER-453226",
         "10701-1",
         93,
         70.5,
         9,
         "Los Angeles"
        ],
        [
         "ORDER-BBC529",
         "USER-3E7413",
         "1062-1",
         93,
         68.64,
         10,
         "New York"
        ],
        [
         "ORDER-AEF960",
         "USER-8EC82D",
         "70706-1",
         93,
         6.05,
         6,
         "New York"
        ],
        [
         "ORDER-AEF960",
         "USER-8EC82D",
         "70706-1",
         93,
         6.05,
         6,
         "Chicago"
        ],
        [
         "ORDER-D1062A",
         "USER-9B809D",
         "215-2B",
         93,
         74.26,
         4,
         "New York"
        ],
        [
         "ORDER-D1062A",
         "USER-9B809D",
         "215-2B",
         93,
         74.26,
         4,
         "New York"
        ],
        [
         "ORDER-B69D44",
         "USER-F8B6FD",
         "41944-1",
         93,
         12.59,
         2,
         "Phoenix"
        ],
        [
         "ORDER-D42D1E",
         "USER-F368E9",
         "10391-1",
         93,
         34.99,
         6,
         "Phoenix"
        ],
        [
         "ORDER-D42D1E",
         "USER-F368E9",
         "10391-1",
         93,
         34.99,
         6,
         "Los Angeles"
        ],
        [
         "ORDER-5B4E70",
         "USER-4B094C",
         "5007877-1",
         93,
         29.53,
         6,
         "Chicago"
        ],
        [
         "ORDER-3EFE62",
         "USER-F79860",
         "226-4",
         93,
         57.35,
         10,
         "Houston"
        ],
        [
         "ORDER-3EFE62",
         "USER-F79860",
         "226-4",
         93,
         57.35,
         10,
         "New York"
        ],
        [
         "ORDER-D5EBAF",
         "USER-60824F",
         "2101259516196-1",
         93,
         79.49,
         10,
         "Houston"
        ],
        [
         "ORDER-D5EBAF",
         "USER-60824F",
         "2101259516196-1",
         93,
         79.49,
         10,
         "Chicago"
        ],
        [
         "ORDER-D5EBAF",
         "USER-60824F",
         "2101259516196-1",
         93,
         79.49,
         10,
         "Houston"
        ],
        [
         "ORDER-8999B8",
         "USER-7843DE",
         "70706-1",
         93,
         36.07,
         2,
         "Los Angeles"
        ],
        [
         "ORDER-16BD6C",
         "USER-1780FC",
         "010-1",
         93,
         6.34,
         3,
         "Los Angeles"
        ],
        [
         "ORDER-507A74",
         "USER-3889D1",
         "702-1",
         93,
         77.5,
         7,
         "Los Angeles"
        ],
        [
         "ORDER-507A74",
         "USER-3889D1",
         "702-1",
         93,
         77.5,
         7,
         "Chicago"
        ],
        [
         "ORDER-E461DA",
         "USER-CED89E",
         "21000-1",
         93,
         76.98,
         7,
         "New York"
        ],
        [
         "ORDER-E461DA",
         "USER-CED89E",
         "21000-1",
         93,
         76.98,
         7,
         "Chicago"
        ],
        [
         "ORDER-E461DA",
         "USER-CED89E",
         "21000-1",
         93,
         76.98,
         7,
         "Los Angeles"
        ],
        [
         "ORDER-3A0581",
         "USER-D6E68C",
         "10240-1",
         93,
         17.91,
         2,
         "Los Angeles"
        ],
        [
         "ORDER-A20C0B",
         "USER-911B35",
         "21-1",
         93,
         58.82,
         10,
         "Houston"
        ],
        [
         "ORDER-88C43A",
         "USER-BC070D",
         "21344-1",
         93,
         66.41,
         3,
         "New York"
        ],
        [
         "ORDER-7C5F89",
         "USER-7DE051",
         "852545-1",
         93,
         51.37,
         9,
         "Chicago"
        ],
        [
         "ORDER-7C5F89",
         "USER-7DE051",
         "852545-1",
         93,
         51.37,
         9,
         "Los Angeles"
        ],
        [
         "ORDER-EF8ABA",
         "USER-C0D1EE",
         "951178-1",
         93,
         64.73,
         2,
         "Chicago"
        ],
        [
         "ORDER-BB28F6",
         "USER-B9A3A0",
         "1000565897-5",
         93,
         27.27,
         1,
         "Houston"
        ],
        [
         "ORDER-BB28F6",
         "USER-B9A3A0",
         "1000565897-5",
         93,
         27.27,
         1,
         "Los Angeles"
        ],
        [
         "ORDER-4E042A",
         "USER-1BE9FE",
         "70706-1",
         93,
         18.48,
         2,
         "New York"
        ],
        [
         "ORDER-4E042A",
         "USER-1BE9FE",
         "70706-1",
         93,
         18.48,
         2,
         "New York"
        ],
        [
         "ORDER-4E042A",
         "USER-1BE9FE",
         "70706-1",
         93,
         18.48,
         2,
         "Houston"
        ],
        [
         "ORDER-4D52A0",
         "USER-6BBCB0",
         "0015-1",
         93,
         88,
         4,
         "Houston"
        ],
        [
         "ORDER-7CF6A3",
         "USER-2271C5",
         "10572-1",
         93,
         36.88,
         1,
         "Houston"
        ],
        [
         "ORDER-5E6C64",
         "USER-FD6D91",
         "1062-1",
         93,
         50.63,
         7,
         "Los Angeles"
        ],
        [
         "ORDER-AB8B30",
         "USER-E06F35",
         "065-1",
         93,
         83.18,
         9,
         "Phoenix"
        ],
        [
         "ORDER-D4DE78",
         "USER-33806A",
         "0015-1",
         93,
         29.54,
         5,
         "Los Angeles"
        ],
        [
         "ORDER-4219E0",
         "USER-DA4EFA",
         "1062-1",
         93,
         35.33,
         4,
         "Houston"
        ],
        [
         "ORDER-4219E0",
         "USER-DA4EFA",
         "1062-1",
         93,
         35.33,
         4,
         "Chicago"
        ],
        [
         "ORDER-DCDFEF",
         "USER-455BD6",
         "218158-1",
         93,
         23.58,
         8,
         "Phoenix"
        ],
        [
         "ORDER-DCDFEF",
         "USER-455BD6",
         "218158-1",
         93,
         23.58,
         8,
         "Phoenix"
        ],
        [
         "ORDER-DCDFEF",
         "USER-455BD6",
         "218158-1",
         93,
         23.58,
         8,
         "Phoenix"
        ],
        [
         "ORDER-63C50C",
         "USER-A1ED18",
         "70706-1",
         93,
         76.09,
         10,
         "New York"
        ],
        [
         "ORDER-CF700D",
         "USER-19FF23",
         "045-1",
         93,
         62.69,
         6,
         "Los Angeles"
        ],
        [
         "ORDER-8AF000",
         "USER-4A8196",
         "10701-1",
         93,
         73.24,
         5,
         "New York"
        ],
        [
         "ORDER-7ACFBA",
         "USER-1F4D7E",
         "21-1",
         93,
         23.04,
         5,
         "New York"
        ],
        [
         "ORDER-7ACFBA",
         "USER-1F4D7E",
         "21-1",
         93,
         23.04,
         5,
         "Phoenix"
        ],
        [
         "ORDER-CB1780",
         "USER-CB76C0",
         "10391-1",
         93,
         10.15,
         7,
         "Chicago"
        ],
        [
         "ORDER-CB1780",
         "USER-CB76C0",
         "10391-1",
         93,
         10.15,
         7,
         "Phoenix"
        ],
        [
         "ORDER-CB1780",
         "USER-CB76C0",
         "10391-1",
         93,
         10.15,
         7,
         "Chicago"
        ],
        [
         "ORDER-CE3466",
         "USER-DC58AF",
         "1062-1",
         93,
         53.51,
         5,
         "New York"
        ],
        [
         "ORDER-D3E16A",
         "USER-6CE8EA",
         "271723-1",
         93,
         12.07,
         9,
         "Los Angeles"
        ],
        [
         "ORDER-50CACD",
         "USER-EBFA58",
         "271723-1",
         93,
         19.21,
         4,
         "New York"
        ],
        [
         "ORDER-2EFE41",
         "USER-431BA8",
         "242.1-1",
         93,
         42.52,
         10,
         "Los Angeles"
        ],
        [
         "ORDER-0D90E6",
         "USER-0F7987",
         "5008162-1",
         93,
         95.72,
         5,
         "New York"
        ],
        [
         "ORDER-0D90E6",
         "USER-0F7987",
         "5008162-1",
         93,
         95.72,
         5,
         "New York"
        ],
        [
         "ORDER-DFD6EF",
         "USER-EBFA58",
         "702-1",
         93,
         31.6,
         1,
         "New York"
        ],
        [
         "ORDER-926ACD",
         "USER-357916",
         "065-1",
         93,
         78.43,
         9,
         "Houston"
        ],
        [
         "ORDER-926ACD",
         "USER-357916",
         "065-1",
         93,
         78.43,
         9,
         "Los Angeles"
        ],
        [
         "ORDER-D2894B",
         "USER-8BA172",
         "101032405-1",
         93,
         99.75,
         3,
         "Los Angeles"
        ],
        [
         "ORDER-D2894B",
         "USER-8BA172",
         "101032405-1",
         93,
         99.75,
         3,
         "Phoenix"
        ],
        [
         "ORDER-A20C0B",
         "USER-911B35",
         "5008162-1",
         93,
         10.69,
         9,
         "Houston"
        ],
        [
         "ORDER-9B98C9",
         "USER-849F44",
         "10572-1",
         93,
         34.79,
         6,
         "Phoenix"
        ],
        [
         "ORDER-7CF6A3",
         "USER-2271C5",
         "10292-1",
         93,
         73.65,
         1,
         "Houston"
        ],
        [
         "ORDER-7425DB",
         "USER-3DF342",
         "1000565897-5",
         93,
         63.73,
         9,
         "Houston"
        ],
        [
         "ORDER-7425DB",
         "USER-3DF342",
         "1000565897-5",
         93,
         63.73,
         9,
         "Los Angeles"
        ],
        [
         "ORDER-BA6F4E",
         "USER-474C16",
         "10240-1",
         93,
         90.91,
         8,
         "Houston"
        ],
        [
         "ORDER-54647B",
         "USER-AF9E41",
         "5009187-1",
         93,
         16.42,
         5,
         "New York"
        ],
        [
         "ORDER-FDDA12",
         "USER-BF53D1",
         "215-2B",
         93,
         25.63,
         4,
         "Houston"
        ],
        [
         "ORDER-5E5DD5",
         "USER-431DD1",
         "10059-1",
         93,
         26.91,
         6,
         "Los Angeles"
        ],
        [
         "ORDER-B7FABF",
         "USER-56108F",
         "102-1",
         93,
         44.16,
         4,
         "Los Angeles"
        ],
        [
         "ORDER-7D6CAE",
         "USER-B97CEF",
         "21-1",
         93,
         9.96,
         9,
         "Phoenix"
        ],
        [
         "ORDER-7D6CAE",
         "USER-B97CEF",
         "21-1",
         93,
         9.96,
         9,
         "New York"
        ],
        [
         "ORDER-D48057",
         "USER-824789",
         "226-4",
         93,
         97.45,
         10,
         "New York"
        ],
        [
         "ORDER-E7D94C",
         "USER-2F3B68",
         "7511-1",
         93,
         94.24,
         1,
         "Phoenix"
        ],
        [
         "ORDER-CF700D",
         "USER-19FF23",
         "10041-1",
         93,
         68.28,
         9,
         "Los Angeles"
        ],
        [
         "ORDER-0BE3B7",
         "USER-D96ED7",
         "21000-1",
         93,
         37.31,
         8,
         "New York"
        ],
        [
         "ORDER-0BE3B7",
         "USER-D96ED7",
         "21000-1",
         93,
         37.31,
         8,
         "Chicago"
        ],
        [
         "ORDER-DEAF6D",
         "USER-2910E0",
         "2101259516196-1",
         93,
         45.06,
         2,
         "New York"
        ],
        [
         "ORDER-965338",
         "USER-7B7CDA",
         "10173-1",
         93,
         13.65,
         7,
         "Chicago"
        ],
        [
         "ORDER-B9C7FE",
         "USER-4B2DC7",
         "21344-1",
         93,
         52.27,
         4,
         "Los Angeles"
        ],
        [
         "ORDER-FE527C",
         "USER-F3C830",
         "10391-1",
         93,
         67.71,
         3,
         "Los Angeles"
        ],
        [
         "ORDER-FE527C",
         "USER-F3C830",
         "10391-1",
         93,
         67.71,
         3,
         "Los Angeles"
        ],
        [
         "ORDER-149DE1",
         "USER-3807BD",
         "10041-1",
         93,
         89.75,
         2,
         "Chicago"
        ],
        [
         "ORDER-149DE1",
         "USER-3807BD",
         "10041-1",
         93,
         89.75,
         2,
         "Los Angeles"
        ],
        [
         "ORDER-E369AA",
         "USER-5925FF",
         "5008162-1",
         93,
         37.25,
         5,
         "Chicago"
        ],
        [
         "ORDER-16F103",
         "USER-AA6543",
         "045-1",
         93,
         57.57,
         3,
         "Chicago"
        ],
        [
         "ORDER-137EAF",
         "USER-FC6AFC",
         "41801-1",
         93,
         43.69,
         3,
         "Los Angeles"
        ],
        [
         "ORDER-F7CB04",
         "USER-FECDBD",
         "102-1",
         93,
         42.77,
         3,
         "Houston"
        ],
        [
         "ORDER-145817",
         "USER-FE43B5",
         "10292-1",
         93,
         52.08,
         4,
         "Los Angeles"
        ],
        [
         "ORDER-145817",
         "USER-FE43B5",
         "10292-1",
         93,
         52.08,
         4,
         "Chicago"
        ],
        [
         "ORDER-3DD018",
         "USER-68940D",
         "1062-1",
         93,
         59.26,
         1,
         "Houston"
        ],
        [
         "ORDER-3DD018",
         "USER-68940D",
         "1062-1",
         93,
         59.26,
         1,
         "Los Angeles"
        ],
        [
         "ORDER-FB8B89",
         "USER-A312EA",
         "5009187-1",
         93,
         97.22,
         6,
         "Chicago"
        ],
        [
         "ORDER-3EFE62",
         "USER-F79860",
         "1000565897-5",
         93,
         91.12,
         8,
         "Houston"
        ],
        [
         "ORDER-3EFE62",
         "USER-F79860",
         "1000565897-5",
         93,
         91.12,
         8,
         "New York"
        ],
        [
         "ORDER-0F347C",
         "USER-F916A5",
         "1062-1",
         93,
         45.44,
         8,
         "Chicago"
        ],
        [
         "ORDER-0F347C",
         "USER-F916A5",
         "1062-1",
         93,
         45.44,
         8,
         "Chicago"
        ],
        [
         "ORDER-0F347C",
         "USER-F916A5",
         "1062-1",
         93,
         45.44,
         8,
         "Chicago"
        ],
        [
         "ORDER-918744",
         "USER-8FAF56",
         "10240-1",
         93,
         15.58,
         1,
         "Houston"
        ],
        [
         "ORDER-F35620",
         "USER-932C65",
         "10059-1",
         93,
         46.18,
         7,
         "Los Angeles"
        ],
        [
         "ORDER-C4762F",
         "USER-330452",
         "21-1",
         93,
         82.48,
         1,
         "Los Angeles"
        ],
        [
         "ORDER-A679C0",
         "USER-7D9219",
         "10019-1",
         93,
         47.69,
         3,
         "Chicago"
        ],
        [
         "ORDER-A679C0",
         "USER-7D9219",
         "10019-1",
         93,
         47.69,
         3,
         "Chicago"
        ],
        [
         "ORDER-DF3F2B",
         "USER-17A6B0",
         "21000-1",
         93,
         14.84,
         9,
         "Chicago"
        ],
        [
         "ORDER-DF3F2B",
         "USER-17A6B0",
         "21000-1",
         93,
         14.84,
         9,
         "New York"
        ],
        [
         "ORDER-6906E5",
         "USER-D6DD28",
         "5008162-1",
         93,
         30.94,
         6,
         "Los Angeles"
        ],
        [
         "ORDER-C340DB",
         "USER-B00705",
         "1062-1",
         93,
         9.43,
         6,
         "New York"
        ],
        [
         "ORDER-B407C9",
         "USER-590AF1",
         "10019-1",
         93,
         89.72,
         10,
         "Los Angeles"
        ],
        [
         "ORDER-2E8A64",
         "USER-2E0ED1",
         "242.1-1",
         93,
         13.43,
         8,
         "Los Angeles"
        ],
        [
         "ORDER-2BD2A0",
         "USER-43E1A0",
         "065-1",
         93,
         84.78,
         8,
         "Houston"
        ],
        [
         "ORDER-2838F2",
         "USER-B2DD27",
         "10292-1",
         93,
         92.09,
         5,
         "Houston"
        ],
        [
         "ORDER-2838F2",
         "USER-B2DD27",
         "10292-1",
         93,
         92.09,
         5,
         "Phoenix"
        ],
        [
         "ORDER-A679C0",
         "USER-7D9219",
         "21-1",
         93,
         80.08,
         2,
         "Chicago"
        ],
        [
         "ORDER-A679C0",
         "USER-7D9219",
         "21-1",
         93,
         80.08,
         2,
         "Chicago"
        ],
        [
         "ORDER-978B16",
         "USER-6EE64D",
         "1062-1",
         93,
         41.88,
         4,
         "Chicago"
        ],
        [
         "ORDER-978B16",
         "USER-6EE64D",
         "1062-1",
         93,
         41.88,
         4,
         "Los Angeles"
        ],
        [
         "ORDER-E42E63",
         "USER-723241",
         "10511-1",
         93,
         37.87,
         4,
         "New York"
        ],
        [
         "ORDER-98CD6B",
         "USER-599B13",
         "0015-1",
         93,
         5.84,
         1,
         "Los Angeles"
        ],
        [
         "ORDER-7D6CAE",
         "USER-B97CEF",
         "41801-1",
         93,
         62.31,
         9,
         "Phoenix"
        ],
        [
         "ORDER-7D6CAE",
         "USER-B97CEF",
         "41801-1",
         93,
         62.31,
         9,
         "New York"
        ],
        [
         "ORDER-D4DE78",
         "USER-33806A",
         "10059-1",
         93,
         9.21,
         6,
         "Los Angeles"
        ],
        [
         "ORDER-1BF707",
         "USER-598571",
         "010-1",
         93,
         48.45,
         3,
         "Houston"
        ],
        [
         "ORDER-521238",
         "USER-AD430F",
         "2101259516196-1",
         93,
         64.57,
         2,
         "New York"
        ],
        [
         "ORDER-521238",
         "USER-AD430F",
         "2101259516196-1",
         93,
         64.57,
         2,
         "Houston"
        ],
        [
         "ORDER-52C36A",
         "USER-4E7EE0",
         "10059-1",
         93,
         56.77,
         6,
         "New York"
        ],
        [
         "ORDER-52C36A",
         "USER-4E7EE0",
         "10059-1",
         93,
         56.77,
         6,
         "Houston"
        ],
        [
         "ORDER-70755B",
         "USER-9E3940",
         "10701-1",
         93,
         99.48,
         4,
         "Chicago"
        ],
        [
         "ORDER-70755B",
         "USER-9E3940",
         "10701-1",
         93,
         99.48,
         4,
         "New York"
        ],
        [
         "ORDER-B9B22E",
         "USER-27FA85",
         "41801-1",
         93,
         8.61,
         5,
         "New York"
        ],
        [
         "ORDER-B9B22E",
         "USER-27FA85",
         "41801-1",
         93,
         8.61,
         5,
         "Chicago"
        ],
        [
         "ORDER-B9B22E",
         "USER-27FA85",
         "41801-1",
         93,
         8.61,
         5,
         "Houston"
        ],
        [
         "ORDER-48F25F",
         "USER-37EB14",
         "5008162-1",
         93,
         50.12,
         8,
         "Houston"
        ],
        [
         "ORDER-A14910",
         "USER-1DBAEA",
         "5008162-1",
         93,
         75.34,
         5,
         "New York"
        ],
        [
         "ORDER-A14910",
         "USER-1DBAEA",
         "5008162-1",
         93,
         75.34,
         5,
         "New York"
        ],
        [
         "ORDER-2838F2",
         "USER-B2DD27",
         "10059-1",
         93,
         73.73,
         3,
         "Houston"
        ],
        [
         "ORDER-2838F2",
         "USER-B2DD27",
         "10059-1",
         93,
         73.73,
         3,
         "Phoenix"
        ],
        [
         "ORDER-0175BA",
         "USER-8B52B7",
         "7511-1",
         93,
         35.38,
         2,
         "Chicago"
        ],
        [
         "ORDER-0175BA",
         "USER-8B52B7",
         "7511-1",
         93,
         35.38,
         2,
         "Houston"
        ],
        [
         "ORDER-8999B8",
         "USER-7843DE",
         "211901-1",
         93,
         36.88,
         6,
         "Los Angeles"
        ],
        [
         "ORDER-0252DC",
         "USER-9DCF37",
         "010-1",
         93,
         50.91,
         10,
         "Houston"
        ],
        [
         "ORDER-0252DC",
         "USER-9DCF37",
         "010-1",
         93,
         50.91,
         10,
         "Phoenix"
        ],
        [
         "ORDER-021C98",
         "USER-BE0A40",
         "10041-1",
         93,
         63.31,
         1,
         "Houston"
        ],
        [
         "ORDER-021C98",
         "USER-BE0A40",
         "10041-1",
         93,
         63.31,
         1,
         "Los Angeles"
        ],
        [
         "ORDER-021C98",
         "USER-BE0A40",
         "10041-1",
         93,
         63.31,
         1,
         "New York"
        ],
        [
         "ORDER-7F172E",
         "USER-2FDE6D",
         "21000-1",
         93,
         84.27,
         3,
         "New York"
        ],
        [
         "ORDER-7F172E",
         "USER-2FDE6D",
         "21000-1",
         93,
         84.27,
         3,
         "Phoenix"
        ],
        [
         "ORDER-9A8DEE",
         "USER-932C65",
         "5008162-1",
         93,
         7.69,
         6,
         "Los Angeles"
        ],
        [
         "ORDER-9A8DEE",
         "USER-932C65",
         "5008162-1",
         93,
         7.69,
         6,
         "Houston"
        ],
        [
         "ORDER-D770FF",
         "USER-C29A5D",
         "5009187-1",
         93,
         11.11,
         3,
         "Los Angeles"
        ],
        [
         "ORDER-D770FF",
         "USER-C29A5D",
         "5009187-1",
         93,
         11.11,
         3,
         "Los Angeles"
        ],
        [
         "ORDER-D770FF",
         "USER-C29A5D",
         "5009187-1",
         93,
         11.11,
         3,
         "Los Angeles"
        ],
        [
         "ORDER-B9B22E",
         "USER-27FA85",
         "211901-1",
         93,
         89.4,
         9,
         "New York"
        ],
        [
         "ORDER-B9B22E",
         "USER-27FA85",
         "211901-1",
         93,
         89.4,
         9,
         "Chicago"
        ],
        [
         "ORDER-B9B22E",
         "USER-27FA85",
         "211901-1",
         93,
         89.4,
         9,
         "Houston"
        ],
        [
         "ORDER-0D0E4A",
         "USER-F8B6FD",
         "10391-1",
         93,
         7.69,
         8,
         "Houston"
        ],
        [
         "ORDER-A20C0B",
         "USER-911B35",
         "702-1",
         93,
         18.14,
         3,
         "Houston"
        ],
        [
         "ORDER-1D6692",
         "USER-D1550A",
         "10133-1",
         93,
         20.2,
         10,
         "Los Angeles"
        ],
        [
         "ORDER-88C43A",
         "USER-BC070D",
         "852545-1",
         93,
         41.14,
         7,
         "New York"
        ],
        [
         "ORDER-3B7B64",
         "USER-62FA85",
         "10701-1",
         93,
         90.86,
         8,
         "Los Angeles"
        ],
        [
         "ORDER-C237E8",
         "USER-D6707B",
         "5007877-1",
         93,
         26.1,
         6,
         "Houston"
        ],
        [
         "ORDER-35CFDA",
         "USER-FDEFC9",
         "242.1-1",
         93,
         92.18,
         7,
         "Phoenix"
        ],
        [
         "ORDER-77DBA8",
         "USER-EF2B3A",
         "10173-1",
         93,
         59.39,
         10,
         "Phoenix"
        ],
        [
         "ORDER-CF700D",
         "USER-19FF23",
         "215-2B",
         93,
         13.03,
         6,
         "Los Angeles"
        ],
        [
         "ORDER-5A19B2",
         "USER-B9A581",
         "852545-1",
         93,
         30.48,
         9,
         "Houston"
        ],
        [
         "ORDER-9BC799",
         "USER-E242F4",
         "215-2B",
         93,
         86.45,
         3,
         "Houston"
        ],
        [
         "ORDER-7A60A1",
         "USER-6345D8",
         "271723-1",
         93,
         16.36,
         5,
         "Chicago"
        ],
        [
         "ORDER-7A60A1",
         "USER-6345D8",
         "271723-1",
         93,
         16.36,
         5,
         "Los Angeles"
        ],
        [
         "ORDER-A43ED0",
         "USER-889DB6",
         "0015-1",
         93,
         33.15,
         10,
         "Los Angeles"
        ],
        [
         "ORDER-DB3E6B",
         "USER-AC2E26",
         "1062-1",
         93,
         17.48,
         6,
         "Chicago"
        ],
        [
         "ORDER-11476C",
         "USER-AFB37A",
         "10292-1",
         93,
         72.77,
         5,
         "New York"
        ],
        [
         "ORDER-61D2E9",
         "USER-66A3D6",
         "10019-1",
         93,
         85.64,
         5,
         "Phoenix"
        ],
        [
         "ORDER-A14910",
         "USER-1DBAEA",
         "10019-1",
         93,
         86.36,
         7,
         "New York"
        ],
        [
         "ORDER-A14910",
         "USER-1DBAEA",
         "10019-1",
         93,
         86.36,
         7,
         "New York"
        ],
        [
         "ORDER-21D186",
         "USER-CB0C3C",
         "0906946506-1",
         93,
         83.66,
         1,
         "Phoenix"
        ],
        [
         "ORDER-21D186",
         "USER-CB0C3C",
         "0906946506-1",
         93,
         83.66,
         1,
         "Chicago"
        ],
        [
         "ORDER-21D186",
         "USER-CB0C3C",
         "0906946506-1",
         93,
         83.66,
         1,
         "Los Angeles"
        ],
        [
         "ORDER-21D186",
         "USER-CB0C3C",
         "0906946506-1",
         93,
         83.66,
         1,
         "New York"
        ],
        [
         "ORDER-D65D6F",
         "USER-01B9C4",
         "10572-1",
         93,
         59.06,
         9,
         "Los Angeles"
        ],
        [
         "ORDER-D65D6F",
         "USER-01B9C4",
         "10572-1",
         93,
         59.06,
         9,
         "Los Angeles"
        ],
        [
         "ORDER-54647B",
         "USER-AF9E41",
         "5007613-1",
         93,
         89.22,
         10,
         "New York"
        ],
        [
         "ORDER-D216F1",
         "USER-6B95CD",
         "226-4",
         93,
         81.1,
         6,
         "Phoenix"
        ],
        [
         "ORDER-2EFE41",
         "USER-431BA8",
         "5007613-1",
         93,
         19.15,
         3,
         "Los Angeles"
        ],
        [
         "ORDER-8BB7A8",
         "USER-683BF7",
         "10511-1",
         93,
         61.49,
         6,
         "Houston"
        ],
        [
         "ORDER-B6C54C",
         "USER-FB2F07",
         "41944-1",
         93,
         71.29,
         7,
         "Los Angeles"
        ],
        [
         "ORDER-B6C54C",
         "USER-FB2F07",
         "41944-1",
         93,
         71.29,
         7,
         "Phoenix"
        ],
        [
         "ORDER-B6C54C",
         "USER-FB2F07",
         "41944-1",
         93,
         71.29,
         7,
         "Los Angeles"
        ],
        [
         "ORDER-7B51EE",
         "USER-0FCE24",
         "10173-1",
         93,
         52.85,
         5,
         "Chicago"
        ],
        [
         "ORDER-7B51EE",
         "USER-0FCE24",
         "10173-1",
         93,
         52.85,
         5,
         "New York"
        ],
        [
         "ORDER-7B51EE",
         "USER-0FCE24",
         "10173-1",
         93,
         52.85,
         5,
         "Chicago"
        ],
        [
         "ORDER-433D74",
         "USER-F6A634",
         "045-1",
         93,
         95.03,
         3,
         "New York"
        ],
        [
         "ORDER-433D74",
         "USER-F6A634",
         "045-1",
         93,
         95.03,
         3,
         "New York"
        ],
        [
         "ORDER-A4D3C9",
         "USER-0EBD5F",
         "10511-1",
         93,
         46.84,
         5,
         "Chicago"
        ],
        [
         "ORDER-A4D3C9",
         "USER-0EBD5F",
         "10511-1",
         93,
         46.84,
         5,
         "Houston"
        ],
        [
         "ORDER-3F0322",
         "USER-AD8804",
         "5007613-1",
         93,
         95.25,
         1,
         "New York"
        ],
        [
         "ORDER-1236FB",
         "USER-CA74DB",
         "70706-1",
         93,
         56.01,
         8,
         "New York"
        ],
        [
         "ORDER-0B1FDB",
         "USER-2313F5",
         "1000565897-5",
         93,
         18.98,
         9,
         "Phoenix"
        ],
        [
         "ORDER-0B1FDB",
         "USER-2313F5",
         "1000565897-5",
         93,
         18.98,
         9,
         "Los Angeles"
        ],
        [
         "ORDER-BC7A38",
         "USER-8D2392",
         "271723-1",
         93,
         39.31,
         8,
         "Phoenix"
        ],
        [
         "ORDER-BC7A38",
         "USER-8D2392",
         "271723-1",
         93,
         39.31,
         8,
         "Houston"
        ],
        [
         "ORDER-172701",
         "USER-27E84C",
         "21000-1",
         93,
         94.53,
         1,
         "New York"
        ],
        [
         "ORDER-33854A",
         "USER-C253C3",
         "5009187-1",
         93,
         82.98,
         8,
         "Phoenix"
        ],
        [
         "ORDER-33854A",
         "USER-C253C3",
         "5009187-1",
         93,
         82.98,
         8,
         "Houston"
        ],
        [
         "ORDER-E221BD",
         "USER-CDE765",
         "2101259516196-1",
         93,
         53.18,
         1,
         "Chicago"
        ],
        [
         "ORDER-899FD1",
         "USER-26DF4D",
         "21-1",
         93,
         27.79,
         10,
         "New York"
        ],
        [
         "ORDER-7A5775",
         "USER-8758D7",
         "21-1",
         93,
         22.91,
         7,
         "Los Angeles"
        ],
        [
         "ORDER-7A5775",
         "USER-8758D7",
         "21-1",
         93,
         22.91,
         7,
         "New York"
        ],
        [
         "ORDER-3DA491",
         "USER-B5879E",
         "226-4",
         93,
         10.19,
         2,
         "Los Angeles"
        ],
        [
         "ORDER-F521AC",
         "USER-59B255",
         "5007613-1",
         93,
         93.07,
         9,
         "Los Angeles"
        ],
        [
         "ORDER-A1F1F8",
         "USER-5DC3B9",
         "10572-1",
         93,
         89.62,
         8,
         "Chicago"
        ],
        [
         "ORDER-A1F1F8",
         "USER-5DC3B9",
         "10572-1",
         93,
         89.62,
         8,
         "New York"
        ],
        [
         "ORDER-A1F1F8",
         "USER-5DC3B9",
         "10572-1",
         93,
         89.62,
         8,
         "Phoenix"
        ],
        [
         "ORDER-382E09",
         "USER-498D40",
         "1000565897-5",
         93,
         75.75,
         2,
         "Houston"
        ],
        [
         "ORDER-F514DA",
         "USER-21CCA7",
         "5009187-1",
         93,
         19.26,
         2,
         "Chicago"
        ],
        [
         "ORDER-796465",
         "USER-A4F730",
         "10133-1",
         93,
         73.8,
         5,
         "New York"
        ],
        [
         "ORDER-61D2E9",
         "USER-66A3D6",
         "242.1-1",
         93,
         33.53,
         10,
         "Phoenix"
        ],
        [
         "ORDER-4779E9",
         "USER-BB3D87",
         "226-4",
         93,
         52.86,
         9,
         "Los Angeles"
        ],
        [
         "ORDER-C0CE28",
         "USER-ACA0D1",
         "21344-1",
         93,
         30.77,
         1,
         "Los Angeles"
        ],
        [
         "ORDER-3E25C2",
         "USER-8BA361",
         "10041-1",
         93,
         97.11,
         9,
         "Chicago"
        ],
        [
         "ORDER-3E25C2",
         "USER-8BA361",
         "10041-1",
         93,
         97.11,
         9,
         "Los Angeles"
        ],
        [
         "ORDER-868618",
         "USER-486882",
         "951178-1",
         93,
         90.62,
         4,
         "Houston"
        ],
        [
         "ORDER-B30878",
         "USER-B4631C",
         "102-1",
         93,
         59.74,
         2,
         "Phoenix"
        ],
        [
         "ORDER-9B98C9",
         "USER-849F44",
         "702-1",
         93,
         72.17,
         8,
         "Phoenix"
        ],
        [
         "ORDER-1BF98C",
         "USER-522AB7",
         "5007392-1",
         93,
         62.55,
         7,
         "Houston"
        ],
        [
         "ORDER-0B14E6",
         "USER-D184AC",
         "10041-1",
         93,
         33.09,
         7,
         "New York"
        ],
        [
         "ORDER-C4D32C",
         "USER-F2847E",
         "852545-1",
         93,
         89.14,
         1,
         "Houston"
        ],
        [
         "ORDER-D42D1E",
         "USER-F368E9",
         "5007877-1",
         93,
         47.92,
         3,
         "Phoenix"
        ],
        [
         "ORDER-D42D1E",
         "USER-F368E9",
         "5007877-1",
         93,
         47.92,
         3,
         "Los Angeles"
        ],
        [
         "ORDER-0D37EA",
         "USER-27E84C",
         "10041-1",
         93,
         50.36,
         6,
         "New York"
        ],
        [
         "ORDER-26385D",
         "USER-FC2F54",
         "102-1",
         93,
         77.56,
         3,
         "Phoenix"
        ],
        [
         "ORDER-0BE3B7",
         "USER-D96ED7",
         "7511-1",
         93,
         92.62,
         9,
         "New York"
        ],
        [
         "ORDER-0BE3B7",
         "USER-D96ED7",
         "7511-1",
         93,
         92.62,
         9,
         "Chicago"
        ],
        [
         "ORDER-21E9BD",
         "USER-18A1FC",
         "10059-1",
         93,
         30.06,
         3,
         "Chicago"
        ],
        [
         "ORDER-21E9BD",
         "USER-18A1FC",
         "10059-1",
         93,
         30.06,
         3,
         "Chicago"
        ],
        [
         "ORDER-21E9BD",
         "USER-18A1FC",
         "10059-1",
         93,
         30.06,
         3,
         "Chicago"
        ],
        [
         "ORDER-584449",
         "USER-AD430F",
         "10240-1",
         93,
         44.58,
         8,
         "Chicago"
        ],
        [
         "ORDER-1F830C",
         "USER-04B139",
         "10572-1",
         93,
         25.78,
         2,
         "Houston"
        ],
        [
         "ORDER-DC08F5",
         "USER-23CE3D",
         "2101259516196-1",
         93,
         95.91,
         1,
         "Houston"
        ],
        [
         "ORDER-67C4B4",
         "USER-B29758",
         "5009187-1",
         93,
         98.71,
         5,
         "Phoenix"
        ],
        [
         "ORDER-67C4B4",
         "USER-B29758",
         "5009187-1",
         93,
         98.71,
         5,
         "Chicago"
        ],
        [
         "ORDER-67C4B4",
         "USER-B29758",
         "5009187-1",
         93,
         98.71,
         5,
         "Los Angeles"
        ],
        [
         "ORDER-67C4B4",
         "USER-B29758",
         "5009187-1",
         93,
         98.71,
         5,
         "Chicago"
        ],
        [
         "ORDER-91F154",
         "USER-678274",
         "41801-1",
         93,
         89.95,
         4,
         "New York"
        ],
        [
         "ORDER-91F154",
         "USER-678274",
         "41801-1",
         93,
         89.95,
         4,
         "Phoenix"
        ],
        [
         "ORDER-91F154",
         "USER-678274",
         "41801-1",
         93,
         89.95,
         4,
         "Los Angeles"
        ],
        [
         "ORDER-91F154",
         "USER-678274",
         "41801-1",
         93,
         89.95,
         4,
         "Houston"
        ],
        [
         "ORDER-D216F1",
         "USER-6B95CD",
         "70706-1",
         93,
         57.34,
         7,
         "Phoenix"
        ],
        [
         "ORDER-529D7F",
         "USER-FB166D",
         "271723-1",
         93,
         99.27,
         1,
         "Phoenix"
        ],
        [
         "ORDER-624716",
         "USER-2993B6",
         "0015-1",
         93,
         67.63,
         4,
         "Los Angeles"
        ],
        [
         "ORDER-624716",
         "USER-2993B6",
         "0015-1",
         93,
         67.63,
         4,
         "Houston"
        ],
        [
         "ORDER-624716",
         "USER-2993B6",
         "0015-1",
         93,
         67.63,
         4,
         "New York"
        ],
        [
         "ORDER-455402",
         "USER-35DDEE",
         "215-2B",
         93,
         12.73,
         2,
         "New York"
        ],
        [
         "ORDER-90B690",
         "USER-36EC59",
         "1062-1",
         93,
         51.45,
         3,
         "New York"
        ],
        [
         "ORDER-90B690",
         "USER-36EC59",
         "1062-1",
         93,
         51.45,
         3,
         "Chicago"
        ],
        [
         "ORDER-ABD7A7",
         "USER-026CCD",
         "41944-1",
         93,
         24.45,
         3,
         "Phoenix"
        ],
        [
         "ORDER-8C7DF3",
         "USER-1A3FBD",
         "5008162-1",
         93,
         85.97,
         6,
         "Phoenix"
        ],
        [
         "ORDER-E11FBD",
         "USER-F6EE58",
         "10173-1",
         93,
         42.23,
         10,
         "Los Angeles"
        ],
        [
         "ORDER-E11FBD",
         "USER-F6EE58",
         "10173-1",
         93,
         42.23,
         10,
         "Los Angeles"
        ],
        [
         "ORDER-FC4CEA",
         "USER-944A5C",
         "21344-1",
         93,
         70.55,
         5,
         "Los Angeles"
        ],
        [
         "ORDER-34079F",
         "USER-30FF71",
         "102-1",
         93,
         49.5,
         8,
         "Phoenix"
        ],
        [
         "ORDER-D1062A",
         "USER-9B809D",
         "211901-1",
         93,
         19.01,
         8,
         "New York"
        ],
        [
         "ORDER-D1062A",
         "USER-9B809D",
         "211901-1",
         93,
         19.01,
         8,
         "New York"
        ],
        [
         "ORDER-B60CAD",
         "USER-109F4A",
         "21344-1",
         93,
         86.37,
         2,
         "Houston"
        ],
        [
         "ORDER-12522E",
         "USER-B4D69F",
         "102-1",
         93,
         73.23,
         7,
         "Los Angeles"
        ],
        [
         "ORDER-F39F42",
         "USER-E0EB15",
         "0015-1",
         93,
         71.12,
         4,
         "New York"
        ],
        [
         "ORDER-5E5DD5",
         "USER-431DD1",
         "1000565897-5",
         93,
         52.17,
         10,
         "Los Angeles"
        ],
        [
         "ORDER-362E33",
         "USER-4F1D52",
         "7042-1",
         93,
         54.7,
         9,
         "Phoenix"
        ],
        [
         "ORDER-A5228F",
         "USER-F13249",
         "010-1",
         93,
         97.77,
         7,
         "Los Angeles"
        ],
        [
         "ORDER-0B7E98",
         "USER-943267",
         "41801-1",
         93,
         48.96,
         7,
         "New York"
        ],
        [
         "ORDER-2838F2",
         "USER-B2DD27",
         "5008162-1",
         93,
         61.36,
         9,
         "Houston"
        ],
        [
         "ORDER-2838F2",
         "USER-B2DD27",
         "5008162-1",
         93,
         61.36,
         9,
         "Phoenix"
        ],
        [
         "ORDER-D47607",
         "USER-D9BE48",
         "10292-1",
         93,
         90.94,
         9,
         "Phoenix"
        ],
        [
         "ORDER-800B7D",
         "USER-ECCF27",
         "5007613-1",
         93,
         79.34,
         3,
         "Chicago"
        ],
        [
         "ORDER-800B7D",
         "USER-ECCF27",
         "5007613-1",
         93,
         79.34,
         3,
         "Phoenix"
        ],
        [
         "ORDER-801A78",
         "USER-2313F5",
         "7042-1",
         93,
         8.28,
         4,
         "Los Angeles"
        ],
        [
         "ORDER-C43E6C",
         "USER-453226",
         "5009187-1",
         93,
         44.45,
         8,
         "Los Angeles"
        ],
        [
         "ORDER-A43ED0",
         "USER-889DB6",
         "7042-1",
         93,
         12.95,
         2,
         "Los Angeles"
        ],
        [
         "ORDER-13B531",
         "USER-C9C0EC",
         "5009187-1",
         93,
         41.15,
         8,
         "Phoenix"
        ],
        [
         "ORDER-6B3AA8",
         "USER-A23FE0",
         "218158-1",
         93,
         29.81,
         8,
         "Phoenix"
        ],
        [
         "ORDER-6B3AA8",
         "USER-A23FE0",
         "218158-1",
         93,
         29.81,
         8,
         "New York"
        ],
        [
         "ORDER-6B3AA8",
         "USER-A23FE0",
         "218158-1",
         93,
         29.81,
         8,
         "Phoenix"
        ],
        [
         "ORDER-970FE6",
         "USER-8630B4",
         "226-4",
         93,
         79.62,
         4,
         "Los Angeles"
        ],
        [
         "ORDER-B5EF76",
         "USER-45CD43",
         "10173-1",
         93,
         45.85,
         3,
         "Chicago"
        ],
        [
         "ORDER-5CE28B",
         "USER-860AA9",
         "5009187-1",
         93,
         13.98,
         8,
         "Los Angeles"
        ],
        [
         "ORDER-EBD110",
         "USER-A316D0",
         "10041-1",
         93,
         32.26,
         2,
         "New York"
        ],
        [
         "ORDER-EBD110",
         "USER-A316D0",
         "10041-1",
         93,
         32.26,
         2,
         "New York"
        ],
        [
         "ORDER-EBD110",
         "USER-A316D0",
         "10041-1",
         93,
         32.26,
         2,
         "New York"
        ],
        [
         "ORDER-D3AF48",
         "USER-CC9DBB",
         "0906946506-1",
         93,
         33.14,
         4,
         "New York"
        ],
        [
         "ORDER-D3AF48",
         "USER-CC9DBB",
         "0906946506-1",
         93,
         33.14,
         4,
         "Phoenix"
        ],
        [
         "ORDER-D3AF48",
         "USER-CC9DBB",
         "0906946506-1",
         93,
         33.14,
         4,
         "Phoenix"
        ],
        [
         "ORDER-1B46E5",
         "USER-8D579F",
         "0906946506-1",
         93,
         8.95,
         3,
         "Chicago"
        ],
        [
         "ORDER-4D28F2",
         "USER-3DCDEF",
         "852545-1",
         93,
         50.65,
         2,
         "Chicago"
        ],
        [
         "ORDER-DB638B",
         "USER-BAF107",
         "065-1",
         93,
         92.68,
         9,
         "Los Angeles"
        ],
        [
         "ORDER-DB638B",
         "USER-BAF107",
         "065-1",
         93,
         92.68,
         9,
         "Los Angeles"
        ],
        [
         "ORDER-B3C403",
         "USER-64618D",
         "211901-1",
         93,
         56.12,
         2,
         "Houston"
        ],
        [
         "ORDER-B3C403",
         "USER-64618D",
         "211901-1",
         93,
         56.12,
         2,
         "New York"
        ],
        [
         "ORDER-B3C403",
         "USER-64618D",
         "211901-1",
         93,
         56.12,
         2,
         "Houston"
        ],
        [
         "ORDER-26385D",
         "USER-FC2F54",
         "226-4",
         93,
         20.2,
         4,
         "Phoenix"
        ],
        [
         "ORDER-7B16BF",
         "USER-28B83B",
         "10173-1",
         93,
         97.75,
         8,
         "Phoenix"
        ],
        [
         "ORDER-7B16BF",
         "USER-28B83B",
         "10173-1",
         93,
         97.75,
         8,
         "Houston"
        ],
        [
         "ORDER-7B16BF",
         "USER-28B83B",
         "10173-1",
         93,
         97.75,
         8,
         "Los Angeles"
        ],
        [
         "ORDER-DAD0C8",
         "USER-522AB7",
         "21-1",
         93,
         71.54,
         9,
         "Houston"
        ],
        [
         "ORDER-0D90E6",
         "USER-0F7987",
         "045-1",
         93,
         42.21,
         1,
         "New York"
        ],
        [
         "ORDER-0D90E6",
         "USER-0F7987",
         "045-1",
         93,
         42.21,
         1,
         "New York"
        ],
        [
         "ORDER-D2894B",
         "USER-8BA172",
         "7511-1",
         93,
         13.47,
         4,
         "Los Angeles"
        ],
        [
         "ORDER-D2894B",
         "USER-8BA172",
         "7511-1",
         93,
         13.47,
         4,
         "Phoenix"
        ],
        [
         "ORDER-AB8B30",
         "USER-E06F35",
         "271723-1",
         93,
         28.81,
         8,
         "Phoenix"
        ],
        [
         "ORDER-BCC935",
         "USER-6E1272",
         "10292-1",
         93,
         21.12,
         2,
         "Houston"
        ],
        [
         "ORDER-452BE6",
         "USER-86DA2E",
         "10240-1",
         93,
         15.26,
         2,
         "Los Angeles"
        ],
        [
         "ORDER-21E9BD",
         "USER-18A1FC",
         "10572-1",
         93,
         77.27,
         2,
         "Chicago"
        ],
        [
         "ORDER-21E9BD",
         "USER-18A1FC",
         "10572-1",
         93,
         77.27,
         2,
         "Chicago"
        ],
        [
         "ORDER-21E9BD",
         "USER-18A1FC",
         "10572-1",
         93,
         77.27,
         2,
         "Chicago"
        ],
        [
         "ORDER-618DE2",
         "USER-95E279",
         "10701-1",
         93,
         56.9,
         8,
         "Chicago"
        ],
        [
         "ORDER-618DE2",
         "USER-95E279",
         "10701-1",
         93,
         56.9,
         8,
         "New York"
        ],
        [
         "ORDER-618DE2",
         "USER-95E279",
         "10701-1",
         93,
         56.9,
         8,
         "New York"
        ],
        [
         "ORDER-E7D94C",
         "USER-2F3B68",
         "5008162-1",
         93,
         13.95,
         5,
         "Phoenix"
        ],
        [
         "ORDER-684537",
         "USER-2993B6",
         "5007877-1",
         93,
         43.62,
         7,
         "Houston"
        ],
        [
         "ORDER-684537",
         "USER-2993B6",
         "5007877-1",
         93,
         43.62,
         7,
         "Phoenix"
        ],
        [
         "ORDER-25BF3B",
         "USER-78F638",
         "10059-1",
         93,
         68.64,
         2,
         "Los Angeles"
        ],
        [
         "ORDER-25BF3B",
         "USER-78F638",
         "10059-1",
         93,
         68.64,
         2,
         "Chicago"
        ],
        [
         "ORDER-25BF3B",
         "USER-78F638",
         "10059-1",
         93,
         68.64,
         2,
         "Houston"
        ],
        [
         "ORDER-30E864",
         "USER-9A7050",
         "10041-1",
         93,
         83.37,
         6,
         "New York"
        ],
        [
         "ORDER-30E864",
         "USER-9A7050",
         "10041-1",
         93,
         83.37,
         6,
         "Chicago"
        ],
        [
         "ORDER-30E864",
         "USER-9A7050",
         "10041-1",
         93,
         83.37,
         6,
         "Los Angeles"
        ],
        [
         "ORDER-30E864",
         "USER-9A7050",
         "10041-1",
         93,
         83.37,
         6,
         "New York"
        ],
        [
         "ORDER-29F249",
         "USER-944C3C",
         "5009187-1",
         93,
         42.98,
         4,
         "Chicago"
        ],
        [
         "ORDER-8EF563",
         "USER-91B5CC",
         "10041-1",
         93,
         11.49,
         7,
         "Houston"
        ],
        [
         "ORDER-8EF563",
         "USER-91B5CC",
         "10041-1",
         93,
         11.49,
         7,
         "Houston"
        ],
        [
         "ORDER-8EF563",
         "USER-91B5CC",
         "10041-1",
         93,
         11.49,
         7,
         "Phoenix"
        ],
        [
         "ORDER-899FD1",
         "USER-26DF4D",
         "10292-1",
         93,
         37.18,
         9,
         "New York"
        ],
        [
         "ORDER-BA6F4E",
         "USER-474C16",
         "1062-1",
         93,
         68.38,
         4,
         "Houston"
        ],
        [
         "ORDER-F928EE",
         "USER-6C595C",
         "852545-1",
         93,
         79.93,
         1,
         "New York"
        ],
        [
         "ORDER-F928EE",
         "USER-6C595C",
         "852545-1",
         93,
         79.93,
         1,
         "Phoenix"
        ],
        [
         "ORDER-A679C0",
         "USER-7D9219",
         "852545-1",
         93,
         53.58,
         7,
         "Chicago"
        ],
        [
         "ORDER-A679C0",
         "USER-7D9219",
         "852545-1",
         93,
         53.58,
         7,
         "Chicago"
        ],
        [
         "ORDER-0D9AB0",
         "USER-3AFEA8",
         "045-1",
         93,
         97.6,
         7,
         "Houston"
        ],
        [
         "ORDER-EA9B71",
         "USER-47D2BB",
         "2101259516196-1",
         93,
         15.71,
         5,
         "Phoenix"
        ],
        [
         "ORDER-F3C4DD",
         "USER-B78963",
         "215-2B",
         93,
         25.07,
         5,
         "Los Angeles"
        ],
        [
         "ORDER-086160",
         "USER-E4CA40",
         "1062-1",
         93,
         46.12,
         10,
         "Chicago"
        ],
        [
         "ORDER-086160",
         "USER-E4CA40",
         "1062-1",
         93,
         46.12,
         10,
         "New York"
        ],
        [
         "ORDER-958539",
         "USER-4E502C",
         "41944-1",
         93,
         46.41,
         9,
         "Phoenix"
        ],
        [
         "ORDER-1061D5",
         "USER-33D9C9",
         "218158-1",
         93,
         80.62,
         7,
         "Houston"
        ],
        [
         "ORDER-378138",
         "USER-CC5E93",
         "045-1",
         93,
         83.04,
         5,
         "New York"
        ],
        [
         "ORDER-378138",
         "USER-CC5E93",
         "045-1",
         93,
         83.04,
         5,
         "Chicago"
        ],
        [
         "ORDER-378138",
         "USER-CC5E93",
         "045-1",
         93,
         83.04,
         5,
         "Chicago"
        ],
        [
         "ORDER-378138",
         "USER-CC5E93",
         "045-1",
         93,
         83.04,
         5,
         "New York"
        ],
        [
         "ORDER-5CE28B",
         "USER-860AA9",
         "10292-1",
         93,
         5.38,
         7,
         "Los Angeles"
        ],
        [
         "ORDER-CCCD71",
         "USER-04F4D0",
         "852545-1",
         93,
         34.56,
         9,
         "Houston"
        ],
        [
         "ORDER-CCCD71",
         "USER-04F4D0",
         "852545-1",
         93,
         34.56,
         9,
         "Los Angeles"
        ],
        [
         "ORDER-0FD8E6",
         "USER-9E2FF6",
         "101032405-1",
         93,
         81.32,
         8,
         "Chicago"
        ],
        [
         "ORDER-0FD8E6",
         "USER-9E2FF6",
         "101032405-1",
         93,
         81.32,
         8,
         "Houston"
        ],
        [
         "ORDER-9A2703",
         "USER-889DB6",
         "102-1",
         93,
         84.72,
         9,
         "New York"
        ],
        [
         "ORDER-D5EBAF",
         "USER-60824F",
         "5007613-1",
         93,
         37.64,
         5,
         "Houston"
        ],
        [
         "ORDER-D5EBAF",
         "USER-60824F",
         "5007613-1",
         93,
         37.64,
         5,
         "Chicago"
        ],
        [
         "ORDER-D5EBAF",
         "USER-60824F",
         "5007613-1",
         93,
         37.64,
         5,
         "Houston"
        ],
        [
         "ORDER-DC5B40",
         "USER-25B3F3",
         "10572-1",
         93,
         51.92,
         3,
         "Houston"
        ],
        [
         "ORDER-D2DBB7",
         "USER-EB44A4",
         "10292-1",
         93,
         31.57,
         7,
         "Houston"
        ],
        [
         "ORDER-0644BB",
         "USER-A312EA",
         "7511-1",
         93,
         35.04,
         5,
         "Houston"
        ],
        [
         "ORDER-0644BB",
         "USER-A312EA",
         "7511-1",
         93,
         35.04,
         5,
         "Phoenix"
        ],
        [
         "ORDER-0644BB",
         "USER-A312EA",
         "7511-1",
         93,
         35.04,
         5,
         "Chicago"
        ],
        [
         "ORDER-F2167C",
         "USER-8C9F7F",
         "5008162-1",
         93,
         79.33,
         3,
         "Phoenix"
        ],
        [
         "ORDER-F2167C",
         "USER-8C9F7F",
         "5008162-1",
         93,
         79.33,
         3,
         "New York"
        ],
        [
         "ORDER-AA974C",
         "USER-FC6E94",
         "242.1-1",
         93,
         69.89,
         3,
         "Houston"
        ],
        [
         "ORDER-AA974C",
         "USER-FC6E94",
         "242.1-1",
         93,
         69.89,
         3,
         "New York"
        ],
        [
         "ORDER-5B4E70",
         "USER-4B094C",
         "10041-1",
         93,
         16.55,
         8,
         "Chicago"
        ],
        [
         "ORDER-8999B8",
         "USER-7843DE",
         "271723-1",
         93,
         86.84,
         6,
         "Los Angeles"
        ],
        [
         "ORDER-E369AA",
         "USER-5925FF",
         "102-1",
         93,
         89.54,
         2,
         "Chicago"
        ],
        [
         "ORDER-C0BF55",
         "USER-64618D",
         "242.1-1",
         93,
         17.53,
         2,
         "New York"
        ],
        [
         "ORDER-C0BF55",
         "USER-64618D",
         "242.1-1",
         93,
         17.53,
         2,
         "Chicago"
        ],
        [
         "ORDER-C0BF55",
         "USER-64618D",
         "242.1-1",
         93,
         17.53,
         2,
         "Houston"
        ],
        [
         "ORDER-584449",
         "USER-AD430F",
         "7511-1",
         93,
         48.31,
         4,
         "Chicago"
        ],
        [
         "ORDER-6DCF98",
         "USER-AA6543",
         "10701-1",
         93,
         81.76,
         5,
         "Houston"
        ],
        [
         "ORDER-50CACD",
         "USER-EBFA58",
         "215-2B",
         93,
         30.99,
         6,
         "New York"
        ],
        [
         "ORDER-91F154",
         "USER-678274",
         "5008162-1",
         93,
         12.51,
         2,
         "New York"
        ],
        [
         "ORDER-91F154",
         "USER-678274",
         "5008162-1",
         93,
         12.51,
         2,
         "Phoenix"
        ],
        [
         "ORDER-91F154",
         "USER-678274",
         "5008162-1",
         93,
         12.51,
         2,
         "Los Angeles"
        ],
        [
         "ORDER-91F154",
         "USER-678274",
         "5008162-1",
         93,
         12.51,
         2,
         "Houston"
        ],
        [
         "ORDER-8677E7",
         "USER-847EC8",
         "5007877-1",
         93,
         88.65,
         5,
         "Houston"
        ],
        [
         "ORDER-8677E7",
         "USER-847EC8",
         "5007877-1",
         93,
         88.65,
         5,
         "New York"
        ],
        [
         "ORDER-2E813E",
         "USER-A9A2BA",
         "21-1",
         93,
         74.78,
         4,
         "Phoenix"
        ],
        [
         "ORDER-CD37C4",
         "USER-556A04",
         "226-4",
         93,
         60.08,
         1,
         "New York"
        ],
        [
         "ORDER-BA6F4E",
         "USER-474C16",
         "951178-1",
         93,
         23.43,
         7,
         "Houston"
        ],
        [
         "ORDER-52805D",
         "USER-B3E1E7",
         "10511-1",
         93,
         66.21,
         9,
         "Houston"
        ],
        [
         "ORDER-23099A",
         "USER-CA74DB",
         "242.1-1",
         93,
         56.66,
         3,
         "Los Angeles"
        ],
        [
         "ORDER-6402CB",
         "USER-0872CF",
         "215-2B",
         93,
         97.42,
         6,
         "Phoenix"
        ],
        [
         "ORDER-6402CB",
         "USER-0872CF",
         "215-2B",
         93,
         97.42,
         6,
         "Houston"
        ],
        [
         "ORDER-3E42CE",
         "USER-24AF42",
         "10059-1",
         93,
         13.94,
         10,
         "Chicago"
        ],
        [
         "ORDER-3E42CE",
         "USER-24AF42",
         "10059-1",
         93,
         13.94,
         10,
         "Phoenix"
        ],
        [
         "ORDER-433D74",
         "USER-F6A634",
         "7042-1",
         93,
         48.71,
         3,
         "New York"
        ],
        [
         "ORDER-433D74",
         "USER-F6A634",
         "7042-1",
         93,
         48.71,
         3,
         "New York"
        ],
        [
         "ORDER-9F31FC",
         "USER-EB7121",
         "702-1",
         93,
         36.57,
         6,
         "New York"
        ],
        [
         "ORDER-45E904",
         "USER-EB015F",
         "10511-1",
         93,
         37.87,
         7,
         "Chicago"
        ],
        [
         "ORDER-45E904",
         "USER-EB015F",
         "10511-1",
         93,
         37.87,
         7,
         "Los Angeles"
        ],
        [
         "ORDER-45E904",
         "USER-EB015F",
         "10511-1",
         93,
         37.87,
         7,
         "Los Angeles"
        ],
        [
         "ORDER-900068",
         "USER-C64DA0",
         "21000-1",
         93,
         55.07,
         9,
         "Chicago"
        ],
        [
         "ORDER-48B6C1",
         "USER-F2A3B7",
         "010-1",
         93,
         90.3,
         3,
         "New York"
        ],
        [
         "ORDER-5E6C64",
         "USER-FD6D91",
         "215-2B",
         93,
         21.48,
         9,
         "Los Angeles"
        ],
        [
         "ORDER-6BC582",
         "USER-C39FD8",
         "10133-1",
         93,
         97.96,
         3,
         "Phoenix"
        ],
        [
         "ORDER-6BC582",
         "USER-C39FD8",
         "10133-1",
         93,
         97.96,
         3,
         "Chicago"
        ],
        [
         "ORDER-DDBA79",
         "USER-86F746",
         "5007392-1",
         93,
         48.45,
         5,
         "New York"
        ],
        [
         "ORDER-DDBA79",
         "USER-86F746",
         "5007392-1",
         93,
         48.45,
         5,
         "Phoenix"
        ],
        [
         "ORDER-67F170",
         "USER-8630B4",
         "5007392-1",
         93,
         20.92,
         10,
         "Houston"
        ],
        [
         "ORDER-67F170",
         "USER-8630B4",
         "5007392-1",
         93,
         20.92,
         10,
         "New York"
        ],
        [
         "ORDER-DCC08C",
         "USER-B5F9F6",
         "852545-1",
         93,
         88.23,
         6,
         "Houston"
        ],
        [
         "ORDER-DCC08C",
         "USER-B5F9F6",
         "852545-1",
         93,
         88.23,
         6,
         "New York"
        ],
        [
         "ORDER-DCC08C",
         "USER-B5F9F6",
         "852545-1",
         93,
         88.23,
         6,
         "New York"
        ],
        [
         "ORDER-A7CAC3",
         "USER-C17CA5",
         "10292-1",
         93,
         52.11,
         8,
         "Chicago"
        ],
        [
         "ORDER-A7CAC3",
         "USER-C17CA5",
         "10292-1",
         93,
         52.11,
         8,
         "Houston"
        ],
        [
         "ORDER-B9B22E",
         "USER-27FA85",
         "7042-1",
         93,
         11.6,
         2,
         "New York"
        ],
        [
         "ORDER-B9B22E",
         "USER-27FA85",
         "7042-1",
         93,
         11.6,
         2,
         "Chicago"
        ],
        [
         "ORDER-B9B22E",
         "USER-27FA85",
         "7042-1",
         93,
         11.6,
         2,
         "Houston"
        ],
        [
         "ORDER-137EAF",
         "USER-FC6AFC",
         "045-1",
         93,
         65.41,
         5,
         "Los Angeles"
        ],
        [
         "ORDER-9BC799",
         "USER-E242F4",
         "215-2B",
         93,
         52.23,
         8,
         "Houston"
        ],
        [
         "ORDER-0CB00B",
         "USER-CA74DB",
         "10511-1",
         93,
         34,
         1,
         "Houston"
        ],
        [
         "ORDER-0CB00B",
         "USER-CA74DB",
         "10511-1",
         93,
         34,
         1,
         "Phoenix"
        ],
        [
         "ORDER-0CB00B",
         "USER-CA74DB",
         "10511-1",
         93,
         34,
         1,
         "Los Angeles"
        ],
        [
         "ORDER-C60F5F",
         "USER-4FE9BD",
         "10572-1",
         93,
         69.4,
         4,
         "Phoenix"
        ],
        [
         "ORDER-C60F5F",
         "USER-4FE9BD",
         "10572-1",
         93,
         69.4,
         4,
         "Los Angeles"
        ],
        [
         "ORDER-B333A2",
         "USER-DB1CBD",
         "10511-1",
         93,
         54.58,
         2,
         "New York"
        ],
        [
         "ORDER-C31C84",
         "USER-8630B4",
         "702-1",
         93,
         9.1,
         1,
         "New York"
        ],
        [
         "ORDER-21D186",
         "USER-CB0C3C",
         "7511-1",
         93,
         66.03,
         5,
         "Phoenix"
        ],
        [
         "ORDER-21D186",
         "USER-CB0C3C",
         "7511-1",
         93,
         66.03,
         5,
         "Chicago"
        ],
        [
         "ORDER-21D186",
         "USER-CB0C3C",
         "7511-1",
         93,
         66.03,
         5,
         "Los Angeles"
        ],
        [
         "ORDER-21D186",
         "USER-CB0C3C",
         "7511-1",
         93,
         66.03,
         5,
         "New York"
        ],
        [
         "ORDER-BCFA2A",
         "USER-E902B0",
         "1000565897-5",
         93,
         55.62,
         6,
         "Phoenix"
        ],
        [
         "ORDER-B86022",
         "USER-69302E",
         "21000-1",
         93,
         58.89,
         3,
         "New York"
        ],
        [
         "ORDER-378138",
         "USER-CC5E93",
         "10133-1",
         93,
         81.49,
         10,
         "New York"
        ],
        [
         "ORDER-378138",
         "USER-CC5E93",
         "10133-1",
         93,
         81.49,
         10,
         "Chicago"
        ],
        [
         "ORDER-378138",
         "USER-CC5E93",
         "10133-1",
         93,
         81.49,
         10,
         "Chicago"
        ],
        [
         "ORDER-378138",
         "USER-CC5E93",
         "10133-1",
         93,
         81.49,
         10,
         "New York"
        ],
        [
         "ORDER-5EA14E",
         "USER-8BA361",
         "951178-1",
         93,
         49.01,
         10,
         "Los Angeles"
        ],
        [
         "ORDER-F514DA",
         "USER-21CCA7",
         "10572-1",
         93,
         68.13,
         7,
         "Chicago"
        ],
        [
         "ORDER-4328BD",
         "USER-FF22AE",
         "7511-1",
         93,
         8.51,
         5,
         "New York"
        ],
        [
         "ORDER-4328BD",
         "USER-FF22AE",
         "7511-1",
         93,
         8.51,
         5,
         "Phoenix"
        ],
        [
         "ORDER-EC2E24",
         "USER-A7DDF3",
         "271723-1",
         93,
         45.52,
         1,
         "Chicago"
        ],
        [
         "ORDER-EC2E24",
         "USER-A7DDF3",
         "271723-1",
         93,
         45.52,
         1,
         "Houston"
        ],
        [
         "ORDER-EC2E24",
         "USER-A7DDF3",
         "271723-1",
         93,
         45.52,
         1,
         "Chicago"
        ],
        [
         "ORDER-A3E0B4",
         "USER-3CD336",
         "41801-1",
         93,
         54.53,
         9,
         "Chicago"
        ],
        [
         "ORDER-BC7A38",
         "USER-8D2392",
         "010-1",
         93,
         77.98,
         1,
         "Phoenix"
        ],
        [
         "ORDER-BC7A38",
         "USER-8D2392",
         "010-1",
         93,
         77.98,
         1,
         "Houston"
        ],
        [
         "ORDER-3441E8",
         "USER-0E6653",
         "10059-1",
         93,
         98.09,
         10,
         "Phoenix"
        ],
        [
         "ORDER-3441E8",
         "USER-0E6653",
         "10059-1",
         93,
         98.09,
         10,
         "Chicago"
        ],
        [
         "ORDER-A5228F",
         "USER-F13249",
         "045-1",
         93,
         17.97,
         3,
         "Los Angeles"
        ],
        [
         "ORDER-D64E60",
         "USER-335710",
         "10701-1",
         93,
         57.17,
         5,
         "Chicago"
        ],
        [
         "ORDER-D64E60",
         "USER-335710",
         "10701-1",
         93,
         57.17,
         5,
         "Phoenix"
        ],
        [
         "ORDER-B262CC",
         "USER-32381B",
         "7042-1",
         93,
         54.82,
         5,
         "Phoenix"
        ],
        [
         "ORDER-B262CC",
         "USER-32381B",
         "7042-1",
         93,
         54.82,
         5,
         "New York"
        ],
        [
         "ORDER-B262CC",
         "USER-32381B",
         "7042-1",
         93,
         54.82,
         5,
         "Chicago"
        ],
        [
         "ORDER-177F66",
         "USER-81EA8A",
         "010-1",
         93,
         43.73,
         3,
         "Houston"
        ],
        [
         "ORDER-0644BB",
         "USER-A312EA",
         "10572-1",
         93,
         80.4,
         3,
         "Houston"
        ],
        [
         "ORDER-0644BB",
         "USER-A312EA",
         "10572-1",
         93,
         80.4,
         3,
         "Phoenix"
        ],
        [
         "ORDER-0644BB",
         "USER-A312EA",
         "10572-1",
         93,
         80.4,
         3,
         "Chicago"
        ],
        [
         "ORDER-2E813E",
         "USER-A9A2BA",
         "5008162-1",
         93,
         85.62,
         6,
         "Phoenix"
        ],
        [
         "ORDER-6CA692",
         "USER-D19308",
         "10041-1",
         93,
         65.07,
         10,
         "Houston"
        ],
        [
         "ORDER-6CA692",
         "USER-D19308",
         "10041-1",
         93,
         65.07,
         10,
         "Los Angeles"
        ],
        [
         "ORDER-4D28F2",
         "USER-3DCDEF",
         "10511-1",
         93,
         15.85,
         10,
         "Chicago"
        ],
        [
         "ORDER-D64E60",
         "USER-335710",
         "5007877-1",
         93,
         97.98,
         3,
         "Chicago"
        ],
        [
         "ORDER-D64E60",
         "USER-335710",
         "5007877-1",
         93,
         97.98,
         3,
         "Phoenix"
        ],
        [
         "ORDER-137EAF",
         "USER-FC6AFC",
         "21-1",
         93,
         96.93,
         6,
         "Los Angeles"
        ],
        [
         "ORDER-D1062A",
         "USER-9B809D",
         "10041-1",
         93,
         9.39,
         1,
         "New York"
        ],
        [
         "ORDER-D1062A",
         "USER-9B809D",
         "10041-1",
         93,
         9.39,
         1,
         "New York"
        ],
        [
         "ORDER-D8440B",
         "USER-76F258",
         "21000-1",
         93,
         30.92,
         7,
         "Los Angeles"
        ],
        [
         "ORDER-D8440B",
         "USER-76F258",
         "21000-1",
         93,
         30.92,
         7,
         "New York"
        ],
        [
         "ORDER-91525A",
         "USER-3F5722",
         "2101259516196-1",
         93,
         52.52,
         1,
         "New York"
        ],
        [
         "ORDER-91525A",
         "USER-3F5722",
         "2101259516196-1",
         93,
         52.52,
         1,
         "Phoenix"
        ],
        [
         "ORDER-CFE157",
         "USER-7E2207",
         "5009187-1",
         93,
         39.61,
         6,
         "Houston"
        ],
        [
         "ORDER-D4DE78",
         "USER-33806A",
         "10240-1",
         93,
         14.66,
         6,
         "Los Angeles"
        ],
        [
         "ORDER-C2E005",
         "USER-95E279",
         "7511-1",
         93,
         75.62,
         4,
         "Phoenix"
        ],
        [
         "ORDER-C2E005",
         "USER-95E279",
         "7511-1",
         93,
         75.62,
         4,
         "Chicago"
        ],
        [
         "ORDER-C2E005",
         "USER-95E279",
         "7511-1",
         93,
         75.62,
         4,
         "New York"
        ],
        [
         "ORDER-59AE5F",
         "USER-180B16",
         "21-1",
         93,
         44.61,
         7,
         "New York"
        ],
        [
         "ORDER-0D90E6",
         "USER-0F7987",
         "271723-1",
         93,
         10.07,
         4,
         "New York"
        ],
        [
         "ORDER-0D90E6",
         "USER-0F7987",
         "271723-1",
         93,
         10.07,
         4,
         "New York"
        ],
        [
         "ORDER-8083B5",
         "USER-64F5A5",
         "0906946506-1",
         93,
         20,
         6,
         "Chicago"
        ],
        [
         "ORDER-D9AC3D",
         "USER-686CCE",
         "215-2B",
         93,
         15.59,
         10,
         "Chicago"
        ],
        [
         "ORDER-DF3F2B",
         "USER-17A6B0",
         "951178-1",
         93,
         28.67,
         3,
         "Chicago"
        ],
        [
         "ORDER-DF3F2B",
         "USER-17A6B0",
         "951178-1",
         93,
         28.67,
         3,
         "New York"
        ],
        [
         "ORDER-9E37AA",
         "USER-614ABE",
         "10292-1",
         93,
         75.81,
         3,
         "Chicago"
        ],
        [
         "ORDER-8999B8",
         "USER-7843DE",
         "218158-1",
         93,
         68.83,
         7,
         "Los Angeles"
        ],
        [
         "ORDER-FA5407",
         "USER-8F1D44",
         "0015-1",
         93,
         31.3,
         3,
         "Houston"
        ],
        [
         "ORDER-6ACF85",
         "USER-C15EB4",
         "10173-1",
         93,
         33.93,
         9,
         "Phoenix"
        ],
        [
         "ORDER-6ACF85",
         "USER-C15EB4",
         "10173-1",
         93,
         33.93,
         9,
         "Phoenix"
        ],
        [
         "ORDER-656AB6",
         "USER-62FA85",
         "0906946506-1",
         93,
         51.47,
         10,
         "Phoenix"
        ],
        [
         "ORDER-A679C0",
         "USER-7D9219",
         "242.1-1",
         93,
         28.65,
         7,
         "Chicago"
        ],
        [
         "ORDER-A679C0",
         "USER-7D9219",
         "242.1-1",
         93,
         28.65,
         7,
         "Chicago"
        ],
        [
         "ORDER-9B98C9",
         "USER-849F44",
         "010-1",
         93,
         77.46,
         2,
         "Phoenix"
        ],
        [
         "ORDER-3E25C2",
         "USER-8BA361",
         "0015-1",
         93,
         9.34,
         7,
         "Chicago"
        ],
        [
         "ORDER-3E25C2",
         "USER-8BA361",
         "0015-1",
         93,
         9.34,
         7,
         "Los Angeles"
        ],
        [
         "ORDER-4328BD",
         "USER-FF22AE",
         "2101259516196-1",
         93,
         33.05,
         10,
         "New York"
        ],
        [
         "ORDER-4328BD",
         "USER-FF22AE",
         "2101259516196-1",
         93,
         33.05,
         10,
         "Phoenix"
        ],
        [
         "ORDER-AC1DC8",
         "USER-0E6653",
         "10041-1",
         93,
         15.83,
         6,
         "Houston"
        ],
        [
         "ORDER-8677E7",
         "USER-847EC8",
         "101032405-1",
         93,
         67.32,
         6,
         "Houston"
        ],
        [
         "ORDER-8677E7",
         "USER-847EC8",
         "101032405-1",
         93,
         67.32,
         6,
         "New York"
        ],
        [
         "ORDER-8F9BAF",
         "USER-FB2F07",
         "10511-1",
         93,
         90.47,
         8,
         "Houston"
        ],
        [
         "ORDER-8F9BAF",
         "USER-FB2F07",
         "10511-1",
         93,
         90.47,
         8,
         "Houston"
        ],
        [
         "ORDER-492391",
         "USER-2E0ED1",
         "7511-1",
         93,
         73.52,
         7,
         "Los Angeles"
        ],
        [
         "ORDER-492391",
         "USER-2E0ED1",
         "7511-1",
         93,
         73.52,
         7,
         "Phoenix"
        ],
        [
         "ORDER-492391",
         "USER-2E0ED1",
         "7511-1",
         93,
         73.52,
         7,
         "Phoenix"
        ]
       ],
       "datasetInfos": [],
       "dbfsResultPath": null,
       "isJsonSchema": true,
       "metadata": {
        "createTempViewForImplicitDf": true,
        "dataframeName": "_sqldf",
        "executionCount": 10
       },
       "overflow": false,
       "plotOptions": {
        "customPlotOptions": {},
        "displayType": "table",
        "pivotAggregation": null,
        "pivotColumns": null,
        "xColumns": null,
        "yColumns": null
       },
       "removedWidgets": [],
       "schema": [
        {
         "metadata": "{}",
         "name": "order_id",
         "type": "\"string\""
        },
        {
         "metadata": "{}",
         "name": "user_id",
         "type": "\"string\""
        },
        {
         "metadata": "{}",
         "name": "set_id",
         "type": "\"string\""
        },
        {
         "metadata": "{}",
         "name": "date_id",
         "type": "\"integer\""
        },
        {
         "metadata": "{}",
         "name": "price",
         "type": "\"double\""
        },
        {
         "metadata": "{}",
         "name": "quantity",
         "type": "\"integer\""
        },
        {
         "metadata": "{}",
         "name": "city_ship",
         "type": "\"string\""
        }
       ],
       "type": "table"
      }
     },
     "output_type": "display_data"
    }
   ],
   "source": [
    "%sql\n",
    "select *\n",
    "from gold.fact_orders"
   ]
  },
  {
   "cell_type": "code",
   "execution_count": 0,
   "metadata": {
    "application/vnd.databricks.v1+cell": {
     "cellMetadata": {
      "byteLimit": 2048000,
      "implicitDf": true,
      "rowLimit": 10000
     },
     "inputWidgets": {},
     "nuid": "cb041d27-31bf-4c82-ba3b-f9f638b264dc",
     "showTitle": false,
     "tableResultSettingsMap": {},
     "title": ""
    }
   },
   "outputs": [
    {
     "data": {
      "text/html": [
       "<style scoped>\n",
       "  .table-result-container {\n",
       "    max-height: 300px;\n",
       "    overflow: auto;\n",
       "  }\n",
       "  table, th, td {\n",
       "    border: 1px solid black;\n",
       "    border-collapse: collapse;\n",
       "  }\n",
       "  th, td {\n",
       "    padding: 5px;\n",
       "  }\n",
       "  th {\n",
       "    text-align: left;\n",
       "  }\n",
       "</style><div class='table-result-container'><table class='table-result'><thead style='background-color: white'><tr></tr></thead><tbody></tbody></table></div>"
      ]
     },
     "metadata": {
      "application/vnd.databricks.v1+output": {
       "addedWidgets": {},
       "aggData": [],
       "aggError": "",
       "aggOverflow": false,
       "aggSchema": [],
       "aggSeriesLimitReached": false,
       "aggType": "",
       "arguments": {},
       "columnCustomDisplayInfos": {},
       "data": [],
       "datasetInfos": [],
       "dbfsResultPath": null,
       "isJsonSchema": true,
       "metadata": {
        "dataframeName": null
       },
       "overflow": false,
       "plotOptions": {
        "customPlotOptions": {},
        "displayType": "table",
        "pivotAggregation": null,
        "pivotColumns": null,
        "xColumns": null,
        "yColumns": null
       },
       "removedWidgets": [],
       "schema": [],
       "type": "table"
      }
     },
     "output_type": "display_data"
    }
   ],
   "source": [
    "%sql\n",
    "\n",
    "-- Drop constraints if they exist\n",
    "ALTER TABLE gold.fact_orders DROP CONSTRAINT IF EXISTS fk_fact_orders_dim_set;\n",
    "ALTER TABLE gold.fact_orders DROP CONSTRAINT IF EXISTS fk_fact_orders_dim_user;\n",
    "ALTER TABLE gold.fact_orders DROP CONSTRAINT IF EXISTS fk_fact_orders_dim_date;\n",
    "\n",
    "-- Drop primary key constraints if they exist\n",
    "ALTER TABLE gold.fact_orders DROP CONSTRAINT IF EXISTS pk_fact_orders;\n",
    "ALTER TABLE gold.dim_user DROP CONSTRAINT IF EXISTS pk_dim_user;\n",
    "ALTER TABLE gold.dim_set DROP CONSTRAINT IF EXISTS pk_dim_set;\n",
    "ALTER TABLE gold.dim_date DROP CONSTRAINT IF EXISTS pk_dim_date;\n",
    "ALTER TABLE gold.dim_date DROP CONSTRAINT IF EXISTS dim_date_pk;\n",
    "-- Recreate constraints\n",
    "ALTER TABLE gold.fact_orders ALTER COLUMN order_id SET NOT NULL;\n",
    "ALTER TABLE gold.dim_date ALTER COLUMN date_id SET NOT NULL;\n",
    "ALTER TABLE gold.dim_user ALTER COLUMN user_id SET NOT NULL;\n",
    "ALTER TABLE gold.dim_set ALTER COLUMN set_id SET NOT NULL;\n",
    "\n",
    "ALTER TABLE gold.fact_orders ADD CONSTRAINT pk_fact_orders PRIMARY KEY (order_id);\n",
    "ALTER TABLE gold.dim_user  ADD CONSTRAINT pk_dim_user PRIMARY KEY (user_id);\n",
    "ALTER TABLE gold.dim_set  ADD CONSTRAINT pk_dim_set PRIMARY KEY (set_id);\n",
    "ALTER TABLE gold.dim_date  ADD CONSTRAINT pk_dim_date PRIMARY KEY (date_id);\n",
    "\n",
    "ALTER TABLE gold.fact_orders  ADD CONSTRAINT fk_fact_orders_dim_date FOREIGN KEY (date_id) REFERENCES gold.dim_date(date_id);\n",
    "ALTER TABLE gold.fact_orders ADD CONSTRAINT fk_fact_orders_dim_user FOREIGN KEY (user_id) REFERENCES gold.dim_user(user_id);\n",
    "ALTER TABLE gold.fact_orders  ADD CONSTRAINT fk_fact_orders_dim_set FOREIGN KEY (set_id) REFERENCES gold.dim_set(set_id);\n"
   ]
  },
  {
   "cell_type": "code",
   "execution_count": 0,
   "metadata": {
    "application/vnd.databricks.v1+cell": {
     "cellMetadata": {
      "byteLimit": 2048000,
      "rowLimit": 10000
     },
     "inputWidgets": {},
     "nuid": "35366260-312f-409c-b729-20e2c492ab65",
     "showTitle": false,
     "tableResultSettingsMap": {},
     "title": ""
    }
   },
   "outputs": [
    {
     "name": "stdout",
     "output_type": "stream",
     "text": [
      "Montaje realizado exitosamente\n"
     ]
    }
   ],
   "source": [
    "#config rápida\n",
    "account_name = \"datalakeprojectrebrickab\"\n",
    "container_name = \"gold\"\n",
    "account_key = \"\"\n",
    "\n",
    "mount_point = f\"/mnt/{container_name}\"\n",
    "\n",
    "if not any(mount.mountPoint == mount_point for mount in dbutils.fs.mounts()):\n",
    "    dbutils.fs.mount(\n",
    "        source = f\"wasbs://{container_name}@{account_name}.blob.core.windows.net\",\n",
    "        mount_point = mount_point,\n",
    "        extra_configs = {f\"fs.azure.account.key.{account_name}.blob.core.windows.net\": account_key}\n",
    "    )\n",
    "    print(\"Montaje realizado exitosamente\")\n",
    "else:\n",
    "    print(f\"El punto {mount_point} ya está montado\")"
   ]
  },
  {
   "cell_type": "code",
   "execution_count": 0,
   "metadata": {
    "application/vnd.databricks.v1+cell": {
     "cellMetadata": {
      "byteLimit": 2048000,
      "rowLimit": 10000
     },
     "inputWidgets": {},
     "nuid": "d59d6264-2b2d-412b-abe0-9f14935a78d1",
     "showTitle": false,
     "tableResultSettingsMap": {},
     "title": ""
    }
   },
   "outputs": [],
   "source": [
    "def save_table_to_adls(table_name):\n",
    "    df = spark.table(f\"gold.{table_name}\")\n",
    "    \n",
    "    output_path = f\"/mnt/gold/rebrickable/delta_tables_data_modelling/{table_name}\"\n",
    "    \n",
    "    df.write \\\n",
    "      .mode(\"overwrite\") \\\n",
    "      .format(\"delta\") \\\n",
    "      .option(\"overwriteSchema\", \"true\") \\\n",
    "      .save(output_path)\n",
    "\n",
    "\n",
    "tables = [\"dim_set\", \"dim_user\", \"dim_date\",\"fact_orders\"]\n",
    "\n",
    "for table in tables:\n",
    "    save_table_to_adls(table)"
   ]
  }
 ],
 "metadata": {
  "application/vnd.databricks.v1+notebook": {
   "computePreferences": null,
   "dashboards": [],
   "environmentMetadata": {
    "base_environment": "",
    "environment_version": "2"
   },
   "inputWidgetPreferences": null,
   "language": "python",
   "notebookMetadata": {
    "mostRecentlyExecutedCommandWithImplicitDF": {
     "commandId": 8303357722035182,
     "dataframes": [
      "_sqldf"
     ]
    },
    "pythonIndentUnit": 4
   },
   "notebookName": "Data Modelling",
   "widgets": {}
  },
  "language_info": {
   "name": "python"
  }
 },
 "nbformat": 4,
 "nbformat_minor": 0
}
