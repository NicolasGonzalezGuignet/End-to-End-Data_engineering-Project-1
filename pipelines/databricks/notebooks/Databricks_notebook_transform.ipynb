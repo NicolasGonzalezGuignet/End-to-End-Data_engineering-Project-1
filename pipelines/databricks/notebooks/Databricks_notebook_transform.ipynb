{
 "cells": [
  {
   "cell_type": "markdown",
   "metadata": {
    "application/vnd.databricks.v1+cell": {
     "cellMetadata": {},
     "inputWidgets": {},
     "nuid": "7581401d-1b03-4497-a11d-3e51cc353e17",
     "showTitle": false,
     "tableResultSettingsMap": {},
     "title": ""
    }
   },
   "source": [
    "#### Montaje del mount"
   ]
  },
  {
   "cell_type": "code",
   "execution_count": 0,
   "metadata": {
    "application/vnd.databricks.v1+cell": {
     "cellMetadata": {
      "byteLimit": 2048000,
      "rowLimit": 10000
     },
     "inputWidgets": {},
     "nuid": "94495745-2c73-4a64-84d3-3457a4bdb1b7",
     "showTitle": false,
     "tableResultSettingsMap": {},
     "title": ""
    }
   },
   "outputs": [
    {
     "name": "stdout",
     "output_type": "stream",
     "text": [
      "El punto /mnt/raw ya está montado\n"
     ]
    }
   ],
   "source": [
    "#config rápida\n",
    "account_name = \"datalakeprojectrebrickab\"\n",
    "container_name = \"raw\"\n",
    "account_key = \"\"\n",
    "\n",
    "mount_point = f\"/mnt/{container_name}\"\n",
    "\n",
    "if not any(mount.mountPoint == mount_point for mount in dbutils.fs.mounts()):\n",
    "    dbutils.fs.mount(\n",
    "        source = f\"wasbs://{container_name}@{account_name}.blob.core.windows.net\",\n",
    "        mount_point = mount_point,\n",
    "        extra_configs = {f\"fs.azure.account.key.{account_name}.blob.core.windows.net\": account_key}\n",
    "    )\n",
    "    print(\"Montaje realizado exitosamente\")\n",
    "else:\n",
    "    print(f\"El punto {mount_point} ya está montado\")"
   ]
  },
  {
   "cell_type": "code",
   "execution_count": 0,
   "metadata": {
    "application/vnd.databricks.v1+cell": {
     "cellMetadata": {
      "byteLimit": 2048000,
      "rowLimit": 10000
     },
     "inputWidgets": {},
     "nuid": "4d5a0b54-0371-4431-9fa2-5ba6bba06eed",
     "showTitle": false,
     "tableResultSettingsMap": {},
     "title": ""
    }
   },
   "outputs": [],
   "source": [
    "#configuracion de parametros que vienen de ADF\n",
    "dbutils.widgets.text(\"Year\", \"\")\n",
    "dbutils.widgets.text(\"Month\", \"\")\n",
    "dbutils.widgets.text(\"Day\", \"\")\n",
    "\n",
    "year = dbutils.widgets.get(\"Year\")\n",
    "month = dbutils.widgets.get(\"Month\")\n",
    "day = dbutils.widgets.get(\"Day\")"
   ]
  },
  {
   "cell_type": "markdown",
   "metadata": {
    "application/vnd.databricks.v1+cell": {
     "cellMetadata": {},
     "inputWidgets": {},
     "nuid": "77b96a51-f331-475a-aa30-9df9a5092875",
     "showTitle": false,
     "tableResultSettingsMap": {},
     "title": ""
    }
   },
   "source": [
    "#### Carga de datos"
   ]
  },
  {
   "cell_type": "code",
   "execution_count": 0,
   "metadata": {
    "application/vnd.databricks.v1+cell": {
     "cellMetadata": {
      "byteLimit": 2048000,
      "rowLimit": 10000
     },
     "inputWidgets": {},
     "nuid": "f070df90-1503-4f2f-b32f-e7151b7560a2",
     "showTitle": false,
     "tableResultSettingsMap": {},
     "title": ""
    }
   },
   "outputs": [
    {
     "name": "stdout",
     "output_type": "stream",
     "text": [
      "DataFrame 'colors' cargado con 272 filas\n",
      "DataFrame 'elements' cargado con 102068 filas\n",
      "DataFrame 'inventories' cargado con 42124 filas\n",
      "DataFrame 'inventory_minifigs' cargado con 23331 filas\n",
      "DataFrame 'inventory_parts' cargado con 1352622 filas\n",
      "DataFrame 'inventory_sets' cargado con 4686 filas\n",
      "DataFrame 'minifigs' cargado con 15479 filas\n",
      "DataFrame 'part_categories' cargado con 67 filas\n",
      "DataFrame 'part_relationships' cargado con 32987 filas\n",
      "DataFrame 'parts' cargado con 57647 filas\n",
      "DataFrame 'sets' cargado con 24849 filas\n",
      "DataFrame 'themes' cargado con 476 filas\n"
     ]
    }
   ],
   "source": [
    "file_path = f\"/mnt/raw/rebrickable/LEGO_Catalog_Database/year={year}/month={month}/day={day}/\"\n",
    "csv_files = [f for f in dbutils.fs.ls(file_path) if f.name.endswith('.csv')]\n",
    "\n",
    "dataframes = {}\n",
    "\n",
    "for file_info in csv_files:\n",
    "    file_name = file_info.name.replace('.csv','')\n",
    "    file_path = file_info.path\n",
    "    \n",
    "    dataframes[file_name] = spark.read.csv(file_path, header=True, inferSchema=True)\n",
    "\n",
    "    print(f\"DataFrame '{file_name}' cargado con {dataframes[file_name].count()} filas\")"
   ]
  },
  {
   "cell_type": "code",
   "execution_count": 0,
   "metadata": {
    "application/vnd.databricks.v1+cell": {
     "cellMetadata": {
      "byteLimit": 2048000,
      "rowLimit": 10000
     },
     "inputWidgets": {},
     "nuid": "fc9958de-a787-4238-9d72-83682da8293d",
     "showTitle": false,
     "tableResultSettingsMap": {},
     "title": ""
    }
   },
   "outputs": [
    {
     "name": "stdout",
     "output_type": "stream",
     "text": [
      "DataFrame 'dbo.order_details' cargado con 1000 filas\n",
      "DataFrame 'dbo.orders' cargado con 1000 filas\n",
      "DataFrame 'dbo.reviews' cargado con 1000 filas\n",
      "DataFrame 'dbo.sets' cargado con 5937 filas\n",
      "DataFrame 'dbo.shipments' cargado con 1000 filas\n",
      "DataFrame 'dbo.users' cargado con 1000 filas\n"
     ]
    }
   ],
   "source": [
    "file_path = f\"/mnt/raw/rebrickable/oltp_db/year={year}/month={month}/day={day}/\"\n",
    "csv_files = [f for f in dbutils.fs.ls(file_path) if f.name.endswith('.txt')]\n",
    "\n",
    "dataframes1 = {}\n",
    "\n",
    "for file_info in csv_files:\n",
    "    file_name = file_info.name.replace('.txt','')\n",
    "    file_path = file_info.path\n",
    "    \n",
    "    dataframes1[file_name] = spark.read.csv(file_path, header=True, inferSchema=True)\n",
    "\n",
    "    print(f\"DataFrame '{file_name}' cargado con {dataframes1[file_name].count()} filas\")"
   ]
  },
  {
   "cell_type": "markdown",
   "metadata": {
    "application/vnd.databricks.v1+cell": {
     "cellMetadata": {},
     "inputWidgets": {},
     "nuid": "aee2b41e-a006-48b7-9f55-9ce7a5a3664d",
     "showTitle": false,
     "tableResultSettingsMap": {},
     "title": ""
    }
   },
   "source": [
    "#### Transformaciones"
   ]
  },
  {
   "cell_type": "code",
   "execution_count": 0,
   "metadata": {
    "application/vnd.databricks.v1+cell": {
     "cellMetadata": {
      "byteLimit": 2048000,
      "rowLimit": 10000
     },
     "inputWidgets": {},
     "nuid": "8ba2743a-d986-4d90-a29e-5a415b1ec3c3",
     "showTitle": false,
     "tableResultSettingsMap": {},
     "title": ""
    }
   },
   "outputs": [
    {
     "name": "stdout",
     "output_type": "stream",
     "text": [
      "nombre dataframe: colors\n",
      "root\n",
      " |-- id: integer (nullable = true)\n",
      " |-- name: string (nullable = true)\n",
      " |-- rgb: string (nullable = true)\n",
      " |-- is_trans: boolean (nullable = true)\n",
      " |-- num_parts: integer (nullable = true)\n",
      " |-- num_sets: integer (nullable = true)\n",
      " |-- y1: integer (nullable = true)\n",
      " |-- y2: integer (nullable = true)\n",
      "\n",
      "nombre dataframe: elements\n",
      "root\n",
      " |-- element_id: long (nullable = true)\n",
      " |-- part_num: string (nullable = true)\n",
      " |-- color_id: integer (nullable = true)\n",
      " |-- design_id: integer (nullable = true)\n",
      "\n",
      "nombre dataframe: inventories\n",
      "root\n",
      " |-- id: integer (nullable = true)\n",
      " |-- version: integer (nullable = true)\n",
      " |-- set_num: string (nullable = true)\n",
      "\n",
      "nombre dataframe: inventory_minifigs\n",
      "root\n",
      " |-- inventory_id: integer (nullable = true)\n",
      " |-- fig_num: string (nullable = true)\n",
      " |-- quantity: integer (nullable = true)\n",
      "\n",
      "nombre dataframe: inventory_parts\n",
      "root\n",
      " |-- inventory_id: integer (nullable = true)\n",
      " |-- part_num: string (nullable = true)\n",
      " |-- color_id: integer (nullable = true)\n",
      " |-- quantity: integer (nullable = true)\n",
      " |-- is_spare: boolean (nullable = true)\n",
      " |-- img_url: string (nullable = true)\n",
      "\n",
      "nombre dataframe: inventory_sets\n",
      "root\n",
      " |-- inventory_id: integer (nullable = true)\n",
      " |-- set_num: string (nullable = true)\n",
      " |-- quantity: integer (nullable = true)\n",
      "\n",
      "nombre dataframe: minifigs\n",
      "root\n",
      " |-- fig_num: string (nullable = true)\n",
      " |-- name: string (nullable = true)\n",
      " |-- num_parts: integer (nullable = true)\n",
      " |-- img_url: string (nullable = true)\n",
      "\n",
      "nombre dataframe: part_categories\n",
      "root\n",
      " |-- id: integer (nullable = true)\n",
      " |-- name: string (nullable = true)\n",
      "\n",
      "nombre dataframe: part_relationships\n",
      "root\n",
      " |-- rel_type: string (nullable = true)\n",
      " |-- child_part_num: string (nullable = true)\n",
      " |-- parent_part_num: string (nullable = true)\n",
      "\n",
      "nombre dataframe: parts\n",
      "root\n",
      " |-- part_num: string (nullable = true)\n",
      " |-- name: string (nullable = true)\n",
      " |-- part_cat_id: string (nullable = true)\n",
      " |-- part_material: string (nullable = true)\n",
      "\n",
      "nombre dataframe: sets\n",
      "root\n",
      " |-- set_num: string (nullable = true)\n",
      " |-- name: string (nullable = true)\n",
      " |-- year: integer (nullable = true)\n",
      " |-- theme_id: integer (nullable = true)\n",
      " |-- num_parts: integer (nullable = true)\n",
      " |-- img_url: string (nullable = true)\n",
      "\n",
      "nombre dataframe: themes\n",
      "root\n",
      " |-- id: integer (nullable = true)\n",
      " |-- name: string (nullable = true)\n",
      " |-- parent_id: integer (nullable = true)\n",
      "\n"
     ]
    }
   ],
   "source": [
    "for df in dataframes.keys():\n",
    "    print(f'nombre dataframe: {df}')\n",
    "    dataframes[df].printSchema()"
   ]
  },
  {
   "cell_type": "code",
   "execution_count": 0,
   "metadata": {
    "application/vnd.databricks.v1+cell": {
     "cellMetadata": {
      "byteLimit": 2048000,
      "rowLimit": 10000
     },
     "inputWidgets": {},
     "nuid": "916e9630-f2c3-4ae2-8fcc-61be70b72595",
     "showTitle": false,
     "tableResultSettingsMap": {},
     "title": ""
    }
   },
   "outputs": [],
   "source": [
    "for df in dataframes.keys():\n",
    "    dataframes[df]=dataframes[df].dropna().dropDuplicates()\n",
    "\n",
    "\n",
    "dataframes['colors']=dataframes['colors'].drop('y1','y2')\n",
    "dataframes['inventory_parts']=dataframes['inventory_parts'].drop('img_url')\n",
    "dataframes['minifigs']=dataframes['minifigs'].drop('img_url')\n",
    "dataframes['sets']=dataframes['sets'].drop('img_url')\n"
   ]
  },
  {
   "cell_type": "code",
   "execution_count": 0,
   "metadata": {
    "application/vnd.databricks.v1+cell": {
     "cellMetadata": {
      "byteLimit": 2048000,
      "rowLimit": 10000
     },
     "inputWidgets": {},
     "nuid": "99aaf47f-4e4c-4225-9315-63738411a704",
     "showTitle": false,
     "tableResultSettingsMap": {},
     "title": ""
    }
   },
   "outputs": [
    {
     "name": "stdout",
     "output_type": "stream",
     "text": [
      "nombre dataframe: dbo.order_details\n",
      "root\n",
      " |-- order_detail_id: string (nullable = true)\n",
      " |-- order_id: string (nullable = true)\n",
      " |-- set_num: string (nullable = true)\n",
      " |-- quantity: integer (nullable = true)\n",
      " |-- price: double (nullable = true)\n",
      "\n",
      "nombre dataframe: dbo.orders\n",
      "root\n",
      " |-- order_id: string (nullable = true)\n",
      " |-- user_id: string (nullable = true)\n",
      " |-- total_amount: double (nullable = true)\n",
      "\n",
      "nombre dataframe: dbo.reviews\n",
      "root\n",
      " |-- review_id: string (nullable = true)\n",
      " |-- user_id: string (nullable = true)\n",
      " |-- set_num: string (nullable = true)\n",
      " |-- rating: integer (nullable = true)\n",
      "\n",
      "nombre dataframe: dbo.sets\n",
      "root\n",
      " |-- set_num: string (nullable = true)\n",
      " |-- name: string (nullable = true)\n",
      " |-- year: integer (nullable = true)\n",
      " |-- theme_id: integer (nullable = true)\n",
      " |-- num_parts: integer (nullable = true)\n",
      " |-- img_url: string (nullable = true)\n",
      "\n",
      "nombre dataframe: dbo.shipments\n",
      "root\n",
      " |-- ship_id: string (nullable = true)\n",
      " |-- order_id: string (nullable = true)\n",
      " |-- city_ship: string (nullable = true)\n",
      " |-- country_ship: string (nullable = true)\n",
      "\n",
      "nombre dataframe: dbo.users\n",
      "root\n",
      " |-- user_id: string (nullable = true)\n",
      " |-- username: string (nullable = true)\n",
      " |-- email: string (nullable = true)\n",
      "\n"
     ]
    }
   ],
   "source": [
    "for df in dataframes1.keys():\n",
    "    print(f'nombre dataframe: {df}')\n",
    "    dataframes1[df].printSchema()\n",
    "    "
   ]
  },
  {
   "cell_type": "code",
   "execution_count": 0,
   "metadata": {
    "application/vnd.databricks.v1+cell": {
     "cellMetadata": {
      "byteLimit": 2048000,
      "rowLimit": 10000
     },
     "inputWidgets": {},
     "nuid": "773c068d-0aa0-409b-914c-574ac98fdd8d",
     "showTitle": false,
     "tableResultSettingsMap": {},
     "title": ""
    }
   },
   "outputs": [],
   "source": [
    "import pyspark.sql.functions as F\n",
    "\n",
    "for df in dataframes1.keys():\n",
    "    dataframes1[df]=dataframes1[df].dropna().dropDuplicates()\n",
    "\n",
    "dataframes1['dbo.order_details']=dataframes1['dbo.order_details'].filter(F.col('price')> 0)\n",
    "\n",
    "\n",
    "#aqui borre lo de crear esa columna de fechas en dbo.orders_details, habria q ver si la columna esta en formato date...\n",
    "\n",
    "\n",
    "\n",
    "dataframes1['dbo.orders']=dataframes1['dbo.orders'].drop('total_amount') #total_amount no corresponde a la suma price*quantity (lo correcto esta en la tabla order_details)\n",
    "dataframes1['dbo.reviews']=dataframes1['dbo.reviews'].filter((F.col('rating')>= 1) & (F.col('rating')<= 5))\n",
    "dataframes1['dbo.sets']=dataframes1['dbo.sets'].drop('img_url')\n",
    "dataframes1['dbo.shipments'] = dataframes1['dbo.shipments'].withColumn(\"country_ship\",\n",
    "    F.when(F.col(\"country_ship\").isin([\"Canada\", \"Mexico\"]), \"USA\")\n",
    "     .otherwise(F.col(\"country_ship\")))\n",
    "\n"
   ]
  },
  {
   "cell_type": "markdown",
   "metadata": {
    "application/vnd.databricks.v1+cell": {
     "cellMetadata": {},
     "inputWidgets": {},
     "nuid": "8f8b9059-fbf5-4660-a3df-e19b1df9e50e",
     "showTitle": false,
     "tableResultSettingsMap": {},
     "title": ""
    }
   },
   "source": [
    "#### Escribir resultados en silver layer"
   ]
  },
  {
   "cell_type": "code",
   "execution_count": 0,
   "metadata": {
    "application/vnd.databricks.v1+cell": {
     "cellMetadata": {
      "byteLimit": 2048000,
      "rowLimit": 10000
     },
     "inputWidgets": {},
     "nuid": "32320371-74d1-458a-b1cd-4c4288810f5e",
     "showTitle": false,
     "tableResultSettingsMap": {},
     "title": ""
    }
   },
   "outputs": [
    {
     "name": "stdout",
     "output_type": "stream",
     "text": [
      "El punto /mnt/silver ya está montado\n"
     ]
    }
   ],
   "source": [
    "#config rápida\n",
    "account_name = \"datalakeprojectrebrickab\"\n",
    "container_name = \"silver\"\n",
    "account_key = \"\"\n",
    "\n",
    "mount_point = f\"/mnt/{container_name}\"\n",
    "\n",
    "if not any(mount.mountPoint == mount_point for mount in dbutils.fs.mounts()):\n",
    "    dbutils.fs.mount(\n",
    "        source = f\"wasbs://{container_name}@{account_name}.blob.core.windows.net\",\n",
    "        mount_point = mount_point,\n",
    "        extra_configs = {f\"fs.azure.account.key.{account_name}.blob.core.windows.net\": account_key}\n",
    "    )\n",
    "    print(\"Montaje realizado exitosamente\")\n",
    "else:\n",
    "    print(f\"El punto {mount_point} ya está montado\")"
   ]
  },
  {
   "cell_type": "code",
   "execution_count": 0,
   "metadata": {
    "application/vnd.databricks.v1+cell": {
     "cellMetadata": {
      "byteLimit": 2048000,
      "rowLimit": 10000
     },
     "inputWidgets": {},
     "nuid": "8a0d165e-be01-48b9-98a6-fb8376da1a97",
     "showTitle": false,
     "tableResultSettingsMap": {},
     "title": ""
    }
   },
   "outputs": [],
   "source": [
    "for df in dataframes.keys():\n",
    "    dataframes[df].write.mode('overwrite').format('delta').save(f\"/mnt/silver/rebrickable/LEGO_Catalog_Database_cleaned/{df}\")\n",
    "\n",
    "for df in dataframes1.keys():\n",
    "    dataframes1[df].write.mode('overwrite').format('delta').option(\"mergeSchema\", \"true\").save(f\"/mnt/silver/rebrickable/oltp_db_cleaned/{df}\")\n",
    "\n",
    "\n",
    "#aqui es para un full load, para un incremental load en la oltp deberia decir appendd o algo asi... en mode('overwrite)"
   ]
  }
 ],
 "metadata": {
  "application/vnd.databricks.v1+notebook": {
   "computePreferences": null,
   "dashboards": [],
   "environmentMetadata": {
    "base_environment": "",
    "environment_version": "2"
   },
   "inputWidgetPreferences": null,
   "language": "python",
   "notebookMetadata": {
    "pythonIndentUnit": 4
   },
   "notebookName": "Databricks_notebook_transform",
   "widgets": {
    "Day": {
     "currentValue": "02",
     "nuid": "b2e06557-2414-4fcc-a815-29b5b2c3673e",
     "typedWidgetInfo": {
      "autoCreated": false,
      "defaultValue": "",
      "label": null,
      "name": "Day",
      "options": {
       "validationRegex": null,
       "widgetDisplayType": "Text"
      },
      "parameterDataType": "String"
     },
     "widgetInfo": {
      "defaultValue": "",
      "label": null,
      "name": "Day",
      "options": {
       "autoCreated": null,
       "validationRegex": null,
       "widgetType": "text"
      },
      "widgetType": "text"
     }
    },
    "Month": {
     "currentValue": "04",
     "nuid": "7b0c1abb-ae06-4f18-b9f2-1286a1aa8658",
     "typedWidgetInfo": {
      "autoCreated": false,
      "defaultValue": "",
      "label": null,
      "name": "Month",
      "options": {
       "validationRegex": null,
       "widgetDisplayType": "Text"
      },
      "parameterDataType": "String"
     },
     "widgetInfo": {
      "defaultValue": "",
      "label": null,
      "name": "Month",
      "options": {
       "autoCreated": null,
       "validationRegex": null,
       "widgetType": "text"
      },
      "widgetType": "text"
     }
    },
    "Year": {
     "currentValue": "2025",
     "nuid": "c6007767-b1d3-4de6-87ac-17bfc061242f",
     "typedWidgetInfo": {
      "autoCreated": false,
      "defaultValue": "",
      "label": null,
      "name": "Year",
      "options": {
       "validationRegex": null,
       "widgetDisplayType": "Text"
      },
      "parameterDataType": "String"
     },
     "widgetInfo": {
      "defaultValue": "",
      "label": null,
      "name": "Year",
      "options": {
       "autoCreated": null,
       "validationRegex": null,
       "widgetType": "text"
      },
      "widgetType": "text"
     }
    }
   }
  },
  "language_info": {
   "name": "python"
  }
 },
 "nbformat": 4,
 "nbformat_minor": 0
}
